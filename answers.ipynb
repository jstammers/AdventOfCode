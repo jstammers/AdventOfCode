{
 "cells": [
  {
   "cell_type": "markdown",
   "metadata": {},
   "source": [
    "# Advent of Code 2020"
   ]
  },
  {
   "cell_type": "markdown",
   "metadata": {},
   "source": [
    "# 01-12-2020"
   ]
  },
  {
   "cell_type": "markdown",
   "metadata": {},
   "source": [
    "--- Day 1: Report Repair ---\n",
    "After saving Christmas five years in a row, you've decided to take a vacation at a nice resort on a tropical island. Surely, Christmas will go on without you.\n",
    "\n",
    "The tropical island has its own currency and is entirely cash-only. The gold coins used there have a little picture of a starfish; the locals just call them stars. None of the currency exchanges seem to have heard of them, but somehow, you'll need to find fifty of these coins by the time you arrive so you can pay the deposit on your room.\n",
    "\n",
    "To save your vacation, you need to get all fifty stars by December 25th.\n",
    "\n",
    "Collect stars by solving puzzles. Two puzzles will be made available on each day in the Advent calendar; the second puzzle is unlocked when you complete the first. Each puzzle grants one star. Good luck!\n",
    "\n",
    "Before you leave, the Elves in accounting just need you to fix your expense report (your puzzle input); apparently, something isn't quite adding up.\n",
    "\n",
    "Specifically, they need you to find the two entries that sum to 2020 and then multiply those two numbers together.\n",
    "\n",
    "For example, suppose your expense report contained the following:\n",
    "\n",
    "1721\n",
    "979\n",
    "366\n",
    "299\n",
    "675\n",
    "1456\n",
    "In this list, the two entries that sum to 2020 are 1721 and 299. Multiplying them together produces 1721 * 299 = 514579, so the correct answer is 514579.\n",
    "\n",
    "Of course, your expense report is much larger. Find the two entries that sum to 2020; what do you get if you multiply them together?"
   ]
  },
  {
   "cell_type": "code",
   "execution_count": 16,
   "metadata": {},
   "outputs": [],
   "source": [
    "data=readlines(\"data/q1.txt\");\n",
    "data=parse.(Int, data);"
   ]
  },
  {
   "cell_type": "code",
   "execution_count": 18,
   "metadata": {},
   "outputs": [
    {
     "name": "stdout",
     "output_type": "stream",
     "text": [
      "921504\n",
      "921504\n"
     ]
    }
   ],
   "source": [
    "for i in data\n",
    "    for j in data\n",
    "        if i+j == 2020\n",
    "            println(i*j)\n",
    "        end\n",
    "    end\n",
    "end"
   ]
  },
  {
   "cell_type": "markdown",
   "metadata": {},
   "source": [
    "--- Part Two ---\n",
    "The Elves in accounting are thankful for your help; one of them even offers you a starfish coin they had left over from a past vacation. They offer you a second one if you can find three numbers in your expense report that meet the same criteria.\n",
    "\n",
    "Using the above example again, the three entries that sum to 2020 are 979, 366, and 675. Multiplying them together produces the answer, 241861950.\n",
    "\n",
    "In your expense report, what is the product of the three entries that sum to 2020?"
   ]
  },
  {
   "cell_type": "code",
   "execution_count": 21,
   "metadata": {},
   "outputs": [
    {
     "name": "stdout",
     "output_type": "stream",
     "text": [
      "195700142\n",
      "195700142\n",
      "195700142\n",
      "195700142\n",
      "195700142\n",
      "195700142\n"
     ]
    }
   ],
   "source": [
    "for i in data\n",
    "    for j in data\n",
    "        for k in data\n",
    "            if i+j+k == 2020\n",
    "                println(i*j*k)\n",
    "                break\n",
    "            end\n",
    "        end\n",
    "    end\n",
    "end"
   ]
  },
  {
   "cell_type": "markdown",
   "metadata": {},
   "source": [
    "# 02-12-2020\n"
   ]
  },
  {
   "cell_type": "markdown",
   "metadata": {},
   "source": [
    "\n",
    "--- Day 2: Password Philosophy ---\n",
    "Your flight departs in a few days from the coastal airport; the easiest way down to the coast from here is via toboggan.\n",
    "\n",
    "The shopkeeper at the North Pole Toboggan Rental Shop is having a bad day. \"Something's wrong with our computers; we can't log in!\" You ask if you can take a look.\n",
    "\n",
    "Their password database seems to be a little corrupted: some of the passwords wouldn't have been allowed by the Official Toboggan Corporate Policy that was in effect when they were chosen.\n",
    "\n",
    "To try to debug the problem, they have created a list (your puzzle input) of passwords (according to the corrupted database) and the corporate policy when that password was set.\n",
    "\n",
    "For example, suppose you have the following list:\n",
    "\n",
    "1-3 a: abcde\n",
    "1-3 b: cdefg\n",
    "2-9 c: ccccccccc\n",
    "Each line gives the password policy and then the password. The password policy indicates the lowest and highest number of times a given letter must appear for the password to be valid. For example, 1-3 a means that the password must contain a at least 1 time and at most 3 times.\n",
    "\n",
    "In the above example, 2 passwords are valid. The middle password, cdefg, is not; it contains no instances of b, but needs at least 1. The first and third passwords are valid: they contain one a or nine c, both within the limits of their respective policies.\n",
    "\n",
    "How many passwords are valid according to their policies?\n"
   ]
  },
  {
   "cell_type": "code",
   "execution_count": 21,
   "metadata": {},
   "outputs": [],
   "source": [
    "data=readlines(\"data/q2.txt\");"
   ]
  },
  {
   "cell_type": "code",
   "execution_count": 22,
   "metadata": {},
   "outputs": [
    {
     "data": {
      "text/plain": "count_letters (generic function with 1 method)"
     },
     "execution_count": 22,
     "metadata": {},
     "output_type": "execute_result"
    }
   ],
   "source": [
    "function count_letters(word)\n",
    "    wordDict = Dict()\n",
    "    for char in word\n",
    "        val = get(wordDict, char, 0)\n",
    "        wordDict[char] = val + 1\n",
    "    end\n",
    "    return wordDict\n",
    "end\n"
   ]
  },
  {
   "cell_type": "code",
   "execution_count": 23,
   "metadata": {},
   "outputs": [
    {
     "data": {
      "text/plain": "620"
     },
     "execution_count": 23,
     "metadata": {},
     "output_type": "execute_result"
    }
   ],
   "source": [
    "num_valid = 0\n",
    "for i in data\n",
    "    values = split(i, ' ')\n",
    "    range = values[1]\n",
    "    min, max = parse.(Int,split(range, '-'))\n",
    "    letter = values[2][1]\n",
    "    counts = count_letters(values[3])\n",
    "    letter_count = get(counts, letter, 0)\n",
    "    if min <= letter_count <= max\n",
    "        num_valid += 1\n",
    "    end\n",
    "end\n",
    "num_valid"
   ]
  },
  {
   "cell_type": "markdown",
   "metadata": {},
   "source": [
    "--- Part Two ---\n",
    "While it appears you validated the passwords correctly, they don't seem to be what the Official Toboggan Corporate Authentication System is expecting.\n",
    "\n",
    "The shopkeeper suddenly realizes that he just accidentally explained the password policy rules from his old job at the sled rental place down the street! The Official Toboggan Corporate Policy actually works a little differently.\n",
    "\n",
    "Each policy actually describes two positions in the password, where 1 means the first character, 2 means the second character, and so on. (Be careful; Toboggan Corporate Policies have no concept of \"index zero\"!) Exactly one of these positions must contain the given letter. Other occurrences of the letter are irrelevant for the purposes of policy enforcement.\n",
    "\n",
    "Given the same example list from above:\n",
    "\n",
    "- 1-3 a: abcde is valid: position 1 contains a and position 3 does not.\n",
    "- 1-3 b: cdefg is invalid: neither position 1 nor position 3 contains b.\n",
    "- 2-9 c: ccccccccc is invalid: both position 2 and position 9 contain c.\n",
    "\n",
    "How many passwords are valid according to the new interpretation of the policies?\n",
    "\n"
   ]
  },
  {
   "cell_type": "code",
   "execution_count": 25,
   "metadata": {},
   "outputs": [
    {
     "data": {
      "text/plain": "727"
     },
     "execution_count": 25,
     "metadata": {},
     "output_type": "execute_result"
    }
   ],
   "source": [
    "num_valid = 0\n",
    "for i in data\n",
    "    values = split(i, ' ')\n",
    "    range = values[1]\n",
    "    min, max = parse.(Int,split(range, '-'))\n",
    "    letter = values[2][1]\n",
    "    first_val = values[3][min]\n",
    "    second_val = values[3][max]\n",
    "    if ((first_val == letter) & (second_val != letter)) | ((first_val != letter) & (second_val == letter))\n",
    "        num_valid += 1\n",
    "    end\n",
    "end\n",
    "num_valid"
   ]
  },
  {
   "cell_type": "markdown",
   "metadata": {},
   "source": [
    "# 03-12-2020"
   ]
  },
  {
   "cell_type": "markdown",
   "metadata": {},
   "source": [
    "--- Day 3: Toboggan Trajectory ---\n",
    "With the toboggan login problems resolved, you set off toward the airport. While travel by toboggan might be easy, it's certainly not safe: there's very minimal steering and the area is covered in trees. You'll need to see which angles will take you near the fewest trees.\n",
    "\n",
    "Due to the local geology, trees in this area only grow on exact integer coordinates in a grid. You make a map (your puzzle input) of the open squares (.) and trees (#) you can see. For example:\n",
    "```\n",
    "..##.......\n",
    "#...#...#..\n",
    ".#....#..#.\n",
    "..#.#...#.#\n",
    ".#...##..#.\n",
    "..#.##.....\n",
    ".#.#.#....#\n",
    ".#........#\n",
    "#.##...#...\n",
    "#...##....#\n",
    ".#..#...#.#\n",
    "```\n",
    "\n",
    "These aren't the only trees, though; due to something you read about once involving arboreal genetics and biome stability, the same pattern repeats to the right many times:\n",
    "```\n",
    "..##.........##.........##.........##.........##.........##.......  --->\n",
    "#...#...#..#...#...#..#...#...#..#...#...#..#...#...#..#...#...#..\n",
    ".#....#..#..#....#..#..#....#..#..#....#..#..#....#..#..#....#..#.\n",
    "..#.#...#.#..#.#...#.#..#.#...#.#..#.#...#.#..#.#...#.#..#.#...#.#\n",
    ".#...##..#..#...##..#..#...##..#..#...##..#..#...##..#..#...##..#.\n",
    "..#.##.......#.##.......#.##.......#.##.......#.##.......#.##.....  --->\n",
    ".#.#.#....#.#.#.#....#.#.#.#....#.#.#.#....#.#.#.#....#.#.#.#....#\n",
    ".#........#.#........#.#........#.#........#.#........#.#........#\n",
    "#.##...#...#.##...#...#.##...#...#.##...#...#.##...#...#.##...#...\n",
    "#...##....##...##....##...##....##...##....##...##....##...##....#\n",
    ".#..#...#.#.#..#...#.#.#..#...#.#.#..#...#.#.#..#...#.#.#..#...#.#  --->\n",
    "```\n",
    "You start on the open square (.) in the top-left corner and need to reach the bottom (below the bottom-most row on your map).\n",
    "\n",
    "The toboggan can only follow a few specific slopes (you opted for a cheaper model that prefers rational numbers); start by counting all the trees you would encounter for the slope right 3, down 1:\n",
    "\n",
    "From your starting position at the top-left, check the position that is right 3 and down 1. Then, check the position that is right 3 and down 1 from there, and so on until you go past the bottom of the map.\n",
    "\n",
    "The locations you'd check in the above example are marked here with O where there was an open square and X where there was a tree:\n",
    "```\n",
    "..##.........##.........##.........##.........##.........##.......  --->\n",
    "#..O#...#..#...#...#..#...#...#..#...#...#..#...#...#..#...#...#..\n",
    ".#....X..#..#....#..#..#....#..#..#....#..#..#....#..#..#....#..#.\n",
    "..#.#...#O#..#.#...#.#..#.#...#.#..#.#...#.#..#.#...#.#..#.#...#.#\n",
    ".#...##..#..X...##..#..#...##..#..#...##..#..#...##..#..#...##..#.\n",
    "..#.##.......#.X#.......#.##.......#.##.......#.##.......#.##.....  --->\n",
    ".#.#.#....#.#.#.#.O..#.#.#.#....#.#.#.#....#.#.#.#....#.#.#.#....#\n",
    ".#........#.#........X.#........#.#........#.#........#.#........#\n",
    "#.##...#...#.##...#...#.X#...#...#.##...#...#.##...#...#.##...#...\n",
    "#...##....##...##....##...#X....##...##....##...##....##...##....#\n",
    ".#..#...#.#.#..#...#.#.#..#...X.#.#..#...#.#.#..#...#.#.#..#...#.#  --->\n",
    "```\n",
    "In this example, traversing the map using this slope would cause you to encounter 7 trees.\n",
    "\n",
    "Starting at the top-left corner of your map and following a slope of right 3 and down 1, how many trees would you encounter?"
   ]
  },
  {
   "cell_type": "code",
   "execution_count": 54,
   "metadata": {},
   "outputs": [],
   "source": [
    "data = readlines(\"data/q3.txt\");\n",
    "nrow = length(data)\n",
    "ncol = length(data[1])\n",
    "tree_array = Matrix{Union{Nothing,Char}}(nothing, nrow, ncol)\n",
    "for (i, row) in enumerate(data)\n",
    "    for (j, value) in enumerate(row)\n",
    "        tree_array[i,j] = value\n",
    "    end\n",
    "end"
   ]
  },
  {
   "cell_type": "code",
   "execution_count": 60,
   "metadata": {},
   "outputs": [
    {
     "data": {
      "text/plain": "(323, 31)"
     },
     "execution_count": 60,
     "metadata": {},
     "output_type": "execute_result"
    }
   ],
   "source": [
    "size(tree_array)"
   ]
  },
  {
   "cell_type": "code",
   "execution_count": 107,
   "metadata": {},
   "outputs": [
    {
     "data": {
      "text/plain": "countTrees (generic function with 3 methods)"
     },
     "execution_count": 107,
     "metadata": {},
     "output_type": "execute_result"
    }
   ],
   "source": [
    "function countTrees(array, v_inc, h_inc, tree_char='#'::Char, open_char='.'::Char)\n",
    "    i = 1\n",
    "    j = 1\n",
    "    num_trees = 0\n",
    "    shape = size(array)\n",
    "    while (i <= shape[1])\n",
    "        loc = array[i,j]\n",
    "        if (loc == tree_char)\n",
    "            num_trees += 1\n",
    "        end\n",
    "        i+=v_inc\n",
    "        j= (j-1 + h_inc) % (shape[2]) +1\n",
    "    end\n",
    "    return num_trees\n",
    "end"
   ]
  },
  {
   "cell_type": "code",
   "execution_count": 108,
   "metadata": {},
   "outputs": [
    {
     "data": {
      "text/plain": "265"
     },
     "execution_count": 108,
     "metadata": {},
     "output_type": "execute_result"
    }
   ],
   "source": [
    "countTrees(tree_array, 1, 3)"
   ]
  },
  {
   "cell_type": "markdown",
   "metadata": {},
   "source": [
    "--- Part Two ---\n",
    "Time to check the rest of the slopes - you need to minimize the probability of a sudden arboreal stop, after all.\n",
    "\n",
    "Determine the number of trees you would encounter if, for each of the following slopes, you start at the top-left corner and traverse the map all the way to the bottom:\n",
    "```\n",
    "Right 1, down 1.\n",
    "Right 3, down 1. (This is the slope you already checked.)\n",
    "Right 5, down 1.\n",
    "Right 7, down 1.\n",
    "Right 1, down 2.\n",
    "```\n",
    "In the above example, these slopes would find 2, 7, 3, 4, and 2 tree(s) respectively; multiplied together, these produce the answer 336.\n",
    "\n",
    "What do you get if you multiply together the number of trees encountered on each of the listed slopes?\n",
    "\n"
   ]
  },
  {
   "cell_type": "code",
   "execution_count": 109,
   "metadata": {},
   "outputs": [
    {
     "data": {
      "text/plain": "3154761400"
     },
     "execution_count": 109,
     "metadata": {},
     "output_type": "execute_result"
    }
   ],
   "source": [
    "count = 1\n",
    "for (i,j) in [[1,1],[3,1],[5,1],[7,1],[1,2]]\n",
    "    trees = countTrees(tree_array, j, i)\n",
    "    count *= trees\n",
    "end\n",
    "count"
   ]
  },
  {
   "cell_type": "markdown",
   "metadata": {},
   "source": [
    "# 04-12-2010\n"
   ]
  },
  {
   "cell_type": "markdown",
   "metadata": {},
   "source": [
    "--- Day 4: Passport Processing ---\n",
    "You arrive at the airport only to realize that you grabbed your North Pole Credentials instead of your passport. While these documents are extremely similar, North Pole Credentials aren't issued by a country and therefore aren't actually valid documentation for travel in most of the world.\n",
    "\n",
    "It seems like you're not the only one having problems, though; a very long line has formed for the automatic passport scanners, and the delay could upset your travel itinerary.\n",
    "\n",
    "Due to some questionable network security, you realize you might be able to solve both of these problems at the same time.\n",
    "\n",
    "The automatic passport scanners are slow because they're having trouble detecting which passports have all required fields. The expected fields are as follows:\n",
    "```\n",
    "byr (Birth Year)\n",
    "iyr (Issue Year)\n",
    "eyr (Expiration Year)\n",
    "hgt (Height)\n",
    "hcl (Hair Color)\n",
    "ecl (Eye Color)\n",
    "pid (Passport ID)\n",
    "cid (Country ID)\n",
    "```\n",
    "Passport data is validated in batch files (your puzzle input). Each passport is represented as a sequence of key:value pairs separated by spaces or newlines. Passports are separated by blank lines.\n",
    "\n",
    "Here is an example batch file containing four passports:\n",
    "```\n",
    "ecl:gry pid:860033327 eyr:2020 hcl:#fffffd\n",
    "byr:1937 iyr:2017 cid:147 hgt:183cm\n",
    "\n",
    "iyr:2013 ecl:amb cid:350 eyr:2023 pid:028048884\n",
    "hcl:#cfa07d byr:1929\n",
    "\n",
    "hcl:#ae17e1 iyr:2013\n",
    "eyr:2024\n",
    "ecl:brn pid:760753108 byr:1931\n",
    "hgt:179cm\n",
    "\n",
    "hcl:#cfa07d eyr:2025 pid:166559648\n",
    "iyr:2011 ecl:brn hgt:59in\n",
    "```\n",
    "The first passport is valid - all eight fields are present. The second passport is invalid - it is missing hgt (the Height field).\n",
    "\n",
    "The third passport is interesting; the only missing field is cid, so it looks like data from North Pole Credentials, not a passport at all! Surely, nobody would mind if you made the system temporarily ignore missing cid fields. Treat this \"passport\" as valid.\n",
    "\n",
    "The fourth passport is missing two fields, cid and byr. Missing cid is fine, but missing any other field is not, so this passport is invalid.\n",
    "\n",
    "According to the above rules, your improved system would report 2 valid passports.\n",
    "\n",
    "Count the number of valid passports - those that have all required fields. Treat cid as optional. In your batch file, how many passports are valid?\n",
    "\n"
   ]
  },
  {
   "cell_type": "code",
   "execution_count": 12,
   "metadata": {},
   "outputs": [
    {
     "data": {
      "text/plain": "isvalidpassport (generic function with 1 method)"
     },
     "execution_count": 12,
     "metadata": {},
     "output_type": "execute_result"
    }
   ],
   "source": [
    "struct Passport\n",
    "    byr\n",
    "    iyr\n",
    "    eyr\n",
    "    hgt\n",
    "    hcl\n",
    "    ecl\n",
    "    pid\n",
    "    cid\n",
    "    Passport(byr=nothing, iyr=nothing, eyr=nothing, hgt=nothing, hcl=nothing, ecl=nothing, pid=nothing, cid=nothing) = new(byr, iyr, eyr, hgt, hcl, ecl, pid, cid)\n",
    "end\n",
    "\n"
   ]
  },
  {
   "cell_type": "code",
   "execution_count": 22,
   "metadata": {},
   "outputs": [],
   "source": [
    "data = readlines(\"data/q4.txt\");\n"
   ]
  },
  {
   "cell_type": "code",
   "execution_count": 35,
   "metadata": {},
   "outputs": [],
   "source": [
    "pass_strings = split(join(data, \" \"), \"  \");"
   ]
  },
  {
   "cell_type": "code",
   "execution_count": 44,
   "metadata": {},
   "outputs": [
    {
     "data": {
      "text/plain": "isvalidpassport (generic function with 2 methods)"
     },
     "execution_count": 44,
     "metadata": {},
     "output_type": "execute_result"
    }
   ],
   "source": [
    "p = pass_strings[1];\n",
    "function buildpassport(pass_string)\n",
    "    d = Dict();\n",
    "    k = split(pass_string, \" \");\n",
    "    for l in k\n",
    "        key, val = split(l, \":\")\n",
    "        d[key] = val\n",
    "    end\n",
    "    return d\n",
    "end\n",
    "\n",
    "function isvalidpassport(pass::Dict)\n",
    "    vals = [\"byr\", \"iyr\", \"eyr\", \"hgt\", \"hcl\", \"ecl\", \"pid\"]\n",
    "    for v in vals\n",
    "        if !(v in keys(pass))\n",
    "            return false\n",
    "        end\n",
    "    end\n",
    "    return true\n",
    "end"
   ]
  },
  {
   "cell_type": "code",
   "execution_count": 46,
   "metadata": {},
   "outputs": [
    {
     "data": {
      "text/plain": "182"
     },
     "execution_count": 46,
     "metadata": {},
     "output_type": "execute_result"
    }
   ],
   "source": [
    "c = 0\n",
    "for p in pass_strings\n",
    "    pass = buildpassport(p)\n",
    "    if isvalidpassport(pass)\n",
    "        c += 1\n",
    "    end\n",
    "end\n",
    "c"
   ]
  },
  {
   "cell_type": "markdown",
   "metadata": {},
   "source": [
    "--- Part Two ---\n",
    "The line is moving more quickly now, but you overhear airport security talking about how passports with invalid data are getting through. Better add some data validation, quick!\n",
    "\n",
    "You can continue to ignore the cid field, but each other field has strict rules about what values are valid for automatic validation:\n",
    "```\n",
    "byr (Birth Year) - four digits; at least 1920 and at most 2002.\n",
    "iyr (Issue Year) - four digits; at least 2010 and at most 2020.\n",
    "eyr (Expiration Year) - four digits; at least 2020 and at most 2030.\n",
    "hgt (Height) - a number followed by either cm or in:\n",
    "If cm, the number must be at least 150 and at most 193.\n",
    "If in, the number must be at least 59 and at most 76.\n",
    "hcl (Hair Color) - a # followed by exactly six characters 0-9 or a-f.\n",
    "ecl (Eye Color) - exactly one of: amb blu brn gry grn hzl oth.\n",
    "pid (Passport ID) - a nine-digit number, including leading zeroes.\n",
    "cid (Country ID) - ignored, missing or not.\n",
    "```\n",
    "Your job is to count the passports where all required fields are both present and valid according to the above rules. Here are some example values:\n",
    "```\n",
    "byr valid:   2002\n",
    "byr invalid: 2003\n",
    "\n",
    "hgt valid:   60in\n",
    "hgt valid:   190cm\n",
    "hgt invalid: 190in\n",
    "hgt invalid: 190\n",
    "\n",
    "hcl valid:   #123abc\n",
    "hcl invalid: #123abz\n",
    "hcl invalid: 123abc\n",
    "\n",
    "ecl valid:   brn\n",
    "ecl invalid: wat\n",
    "\n",
    "pid valid:   000000001\n",
    "pid invalid: 0123456789\n",
    "Here are some invalid passports:\n",
    "\n",
    "eyr:1972 cid:100\n",
    "hcl:#18171d ecl:amb hgt:170 pid:186cm iyr:2018 byr:1926\n",
    "\n",
    "iyr:2019\n",
    "hcl:#602927 eyr:1967 hgt:170cm\n",
    "ecl:grn pid:012533040 byr:1946\n",
    "\n",
    "hcl:dab227 iyr:2012\n",
    "ecl:brn hgt:182cm pid:021572410 eyr:2020 byr:1992 cid:277\n",
    "\n",
    "hgt:59cm ecl:zzz\n",
    "eyr:2038 hcl:74454a iyr:2023\n",
    "pid:3556412378 byr:2007\n",
    "Here are some valid passports:\n",
    "\n",
    "pid:087499704 hgt:74in ecl:grn iyr:2012 eyr:2030 byr:1980\n",
    "hcl:#623a2f\n",
    "\n",
    "eyr:2029 ecl:blu cid:129 byr:1989\n",
    "iyr:2014 pid:896056539 hcl:#a97842 hgt:165cm\n",
    "\n",
    "hcl:#888785\n",
    "hgt:164cm byr:2001 iyr:2015 cid:88\n",
    "pid:545766238 ecl:hzl\n",
    "eyr:2022\n",
    "\n",
    "iyr:2010 hgt:158cm hcl:#b6652a ecl:blu byr:1944 eyr:2021 pid:093154719\n",
    "```\n",
    "\n",
    "Count the number of valid passports - those that have all required fields and valid values. Continue to treat cid as optional. In your batch file, how many passports are valid?"
   ]
  },
  {
   "cell_type": "code",
   "execution_count": 88,
   "metadata": {},
   "outputs": [
    {
     "data": {
      "text/plain": "validpid (generic function with 1 method)"
     },
     "execution_count": 88,
     "metadata": {},
     "output_type": "execute_result"
    }
   ],
   "source": [
    "function validbirth(b)\n",
    "    if b == \"\"\n",
    "        return false\n",
    "    end\n",
    "    b = parse(Int,b)\n",
    "    return 1920 <= b <= 2002\n",
    "end\n",
    "\n",
    "function validissue(b)\n",
    "    if b == \"\"\n",
    "        return false\n",
    "    end\n",
    "    b = parse(Int, b)\n",
    "    return 2010 <=b <= 2020\n",
    "end\n",
    "\n",
    "function validexp(b)\n",
    "    if b == \"\"\n",
    "        return false\n",
    "    end\n",
    "    b = parse(Int, b)\n",
    "    return 2020 <= b <= 2030\n",
    "end\n",
    "\n",
    "function validheight(b)\n",
    "    if b == \"\"\n",
    "        return false\n",
    "    end\n",
    "    i = parse(Int, b[1:end-2])\n",
    "    if occursin(\"cm\", b)\n",
    "        return 150 <= i <= 193\n",
    "    elseif occursin(\"in\",b)\n",
    "        return 59 <= i <= 76\n",
    "    else\n",
    "        return false\n",
    "    end\n",
    "end\n",
    "\n",
    "function validhair(b)\n",
    "    reg = r\"^#[\\dabcdef]{6}$\"\n",
    "    m = match(reg, b)\n",
    "    return m != nothing\n",
    "end\n",
    "\n",
    "function valideye(b)\n",
    "    cols = [\"amb\", \"blu\", \"brn\", \"gry\",\"grn\",\"hzl\",\"oth\"]\n",
    "    return b in cols\n",
    "end\n",
    "\n",
    "function validpid(b)\n",
    "    reg = r\"^\\d{9}$\"\n",
    "    m = match(reg, b)\n",
    "    return m!=nothing\n",
    "end\n"
   ]
  },
  {
   "cell_type": "code",
   "execution_count": 83,
   "metadata": {},
   "outputs": [
    {
     "data": {
      "text/plain": "isvalidpassportstrict (generic function with 1 method)"
     },
     "execution_count": 83,
     "metadata": {},
     "output_type": "execute_result"
    }
   ],
   "source": [
    "checkpassport = Dict()\n",
    "checkpassport[\"byr\"] = validbirth\n",
    "checkpassport[\"iyr\"] = validissue\n",
    "checkpassport[\"eyr\"] = validexp\n",
    "checkpassport[\"hgt\"] = validheight\n",
    "checkpassport[\"ecl\"] = valideye\n",
    "checkpassport[\"hcl\"] = validhair\n",
    "checkpassport[\"pid\"] = validpid\n",
    "\n",
    "function isvalidpassportstrict(pass, checkpassport)\n",
    "    vals = [\"byr\", \"iyr\", \"eyr\", \"hgt\", \"hcl\", \"ecl\", \"pid\"]\n",
    "    for v in vals\n",
    "        value = get(pass, v, \"\")\n",
    "        if v == \"\"\n",
    "            return false\n",
    "        elseif !checkpassport[v](value)\n",
    "            return false\n",
    "        end\n",
    "    end\n",
    "    return true\n",
    "end"
   ]
  },
  {
   "cell_type": "code",
   "execution_count": 89,
   "metadata": {},
   "outputs": [
    {
     "data": {
      "text/plain": "109"
     },
     "execution_count": 89,
     "metadata": {},
     "output_type": "execute_result"
    }
   ],
   "source": [
    "c = 0\n",
    "for p in pass_strings\n",
    "    pass = buildpassport(p)\n",
    "    if isvalidpassportstrict(pass, checkpassport)\n",
    "        c += 1\n",
    "    end\n",
    "end\n",
    "c"
   ]
  },
  {
   "cell_type": "markdown",
   "metadata": {},
   "source": [
    "# 05-12-2020"
   ]
  },
  {
   "cell_type": "markdown",
   "metadata": {},
   "source": [
    "--- Day 5: Binary Boarding ---\n",
    "You board your plane only to discover a new problem: you dropped your boarding pass! You aren't sure which seat is yours, and all of the flight attendants are busy with the flood of people that suddenly made it through passport control.\n",
    "\n",
    "You write a quick program to use your phone's camera to scan all of the nearby boarding passes (your puzzle input); perhaps you can find your seat through process of elimination.\n",
    "\n",
    "Instead of zones or groups, this airline uses binary space partitioning to seat people. A seat might be specified like FBFBBFFRLR, where F means \"front\", B means \"back\", L means \"left\", and R means \"right\".\n",
    "\n",
    "The first 7 characters will either be F or B; these specify exactly one of the 128 rows on the plane (numbered 0 through 127). Each letter tells you which half of a region the given seat is in. Start with the whole list of rows; the first letter indicates whether the seat is in the front (0 through 63) or the back (64 through 127). The next letter indicates which half of that region the seat is in, and so on until you're left with exactly one row.\n",
    "\n",
    "For example, consider just the first seven characters of FBFBBFFRLR:\n",
    "```\n",
    "Start by considering the whole range, rows 0 through 127.\n",
    "F means to take the lower half, keeping rows 0 through 63.\n",
    "B means to take the upper half, keeping rows 32 through 63.\n",
    "F means to take the lower half, keeping rows 32 through 47.\n",
    "B means to take the upper half, keeping rows 40 through 47.\n",
    "B keeps rows 44 through 47.\n",
    "F keeps rows 44 through 45.\n",
    "The final F keeps the lower of the two, row 44.\n",
    "```\n",
    "\n",
    "The last three characters will be either L or R; these specify exactly one of the 8 columns of seats on the plane (numbered 0 through 7). The same process as above proceeds again, this time with only three steps. L means to keep the lower half, while R means to keep the upper half.\n",
    "\n",
    "For example, consider just the last 3 characters of FBFBBFFRLR:\n",
    "```\n",
    "Start by considering the whole range, columns 0 through 7.\n",
    "R means to take the upper half, keeping columns 4 through 7.\n",
    "L means to take the lower half, keeping columns 4 through 5.\n",
    "The final R keeps the upper of the two, column 5.\n",
    "```\n",
    "So, decoding FBFBBFFRLR reveals that it is the seat at row 44, column 5.\n",
    "\n",
    "Every seat also has a unique seat ID: multiply the row by 8, then add the column. In this example, the seat has ID 44 * 8 + 5 = 357.\n",
    "\n",
    "Here are some other boarding passes:\n",
    "```\n",
    "BFFFBBFRRR: row 70, column 7, seat ID 567.\n",
    "FFFBBBFRRR: row 14, column 7, seat ID 119.\n",
    "BBFFBBFRLL: row 102, column 4, seat ID 820.\n",
    "```\n",
    "As a sanity check, look through your list of boarding passes. What is the highest seat ID on a boarding pass?"
   ]
  },
  {
   "cell_type": "code",
   "execution_count": 128,
   "metadata": {},
   "outputs": [
    {
     "data": {
      "text/plain": "stringbisect (generic function with 1 method)"
     },
     "execution_count": 128,
     "metadata": {},
     "output_type": "execute_result"
    }
   ],
   "source": [
    "data = readlines(\"data/q5.txt\");\n",
    "function parseseat(s)\n",
    "    row_string = s[1:7]\n",
    "    row = stringbisect(row_string, 0:127, 'F', 'B')\n",
    "    column_string = s[8:10]\n",
    "    column = stringbisect(column_string, 0:7, 'L', 'R')\n",
    "    id = row * 8 + column\n",
    "end\n",
    "\n",
    "function stringbisect(substring, arr, lower, upper)\n",
    "    for r in substring\n",
    "        if r == lower\n",
    "            arr = arr[begin:Int(length(arr)/2)]\n",
    "        elseif r == upper\n",
    "            arr = arr[Int(length(arr)/2) + 1:end]\n",
    "        end\n",
    "    end\n",
    "    return arr[1]\n",
    "end\n"
   ]
  },
  {
   "cell_type": "code",
   "execution_count": 133,
   "metadata": {},
   "outputs": [
    {
     "name": "stdout",
     "output_type": "stream",
     "text": [
      "944"
     ]
    }
   ],
   "source": [
    "ids = map(parseseat, data);\n",
    "print(maximum(ids))"
   ]
  },
  {
   "cell_type": "markdown",
   "metadata": {},
   "source": [
    "--- Part Two ---\n",
    "Ding! The \"fasten seat belt\" signs have turned on. Time to find your seat.\n",
    "\n",
    "It's a completely full flight, so your seat should be the only missing boarding pass in your list. However, there's a catch: some of the seats at the very front and back of the plane don't exist on this aircraft, so they'll be missing from your list as well.\n",
    "\n",
    "Your seat wasn't at the very front or back, though; the seats with IDs +1 and -1 from yours will be in your list.\n",
    "\n",
    "What is the ID of your seat?"
   ]
  },
  {
   "cell_type": "code",
   "execution_count": 160,
   "metadata": {},
   "outputs": [],
   "source": [
    "i1 = ids .+ 1\n",
    "i2 = ids .- 1\n",
    "i3 = ids;\n"
   ]
  },
  {
   "cell_type": "code",
   "execution_count": 167,
   "metadata": {},
   "outputs": [
    {
     "data": {
      "text/plain": "1-element Array{Int64,1}:\n 554"
     },
     "execution_count": 167,
     "metadata": {},
     "output_type": "execute_result"
    }
   ],
   "source": [
    "setdiff(intersect(i2,i1),Set(i3))"
   ]
  },
  {
   "cell_type": "markdown",
   "metadata": {},
   "source": [
    "# 06-12-2020"
   ]
  },
  {
   "cell_type": "markdown",
   "metadata": {},
   "source": [
    "--- Day 6: Custom Customs ---\n",
    "As your flight approaches the regional airport where you'll switch to a much larger plane, customs declaration forms are distributed to the passengers.\n",
    "\n",
    "The form asks a series of 26 yes-or-no questions marked a through z. All you need to do is identify the questions for which anyone in your group answers \"yes\". Since your group is just you, this doesn't take very long.\n",
    "\n",
    "However, the person sitting next to you seems to be experiencing a language barrier and asks if you can help. For each of the people in their group, you write down the questions for which they answer \"yes\", one per line. For example:\n",
    "```\n",
    "abcx\n",
    "abcy\n",
    "abcz\n",
    "```\n",
    "In this group, there are 6 questions to which anyone answered \"yes\": a, b, c, x, y, and z. (Duplicate answers to the same question don't count extra; each question counts at most once.)\n",
    "\n",
    "Another group asks for your help, then another, and eventually you've collected answers from every group on the plane (your puzzle input). Each group's answers are separated by a blank line, and within each group, each person's answers are on a single line. For example:\n",
    "```\n",
    "abc\n",
    "\n",
    "a\n",
    "b\n",
    "c\n",
    "\n",
    "ab\n",
    "ac\n",
    "\n",
    "a\n",
    "a\n",
    "a\n",
    "a\n",
    "\n",
    "b\n",
    "```\n",
    "This list represents answers from five groups:\n",
    "```\n",
    "The first group contains one person who answered \"yes\" to 3 questions: a, b, and c.\n",
    "The second group contains three people; combined, they answered \"yes\" to 3 questions: a, b, and c.\n",
    "The third group contains two people; combined, they answered \"yes\" to 3 questions: a, b, and c.\n",
    "The fourth group contains four people; combined, they answered \"yes\" to only 1 question, a.\n",
    "The last group contains one person who answered \"yes\" to only 1 question, b.\n",
    "In this example, the sum of these counts is 3 + 3 + 3 + 1 + 1 = 11.\n",
    "```\n",
    "For each group, count the number of questions to which anyone answered \"yes\". What is the sum of those counts?"
   ]
  },
  {
   "cell_type": "code",
   "execution_count": 6,
   "metadata": {},
   "outputs": [],
   "source": [
    "data = readlines(\"data/q6.txt\")\n",
    "groups = split(join(data, \",\"), \",,\");"
   ]
  },
  {
   "cell_type": "code",
   "execution_count": 14,
   "metadata": {},
   "outputs": [
    {
     "data": {
      "text/plain": "countanswers (generic function with 1 method)"
     },
     "execution_count": 14,
     "metadata": {},
     "output_type": "execute_result"
    }
   ],
   "source": [
    "function countanswers(group)\n",
    "    num_letters = Set(replace(group, \",\" => \"\"))\n",
    "    return length(num_letters)\n",
    "end"
   ]
  },
  {
   "cell_type": "code",
   "execution_count": 15,
   "metadata": {},
   "outputs": [
    {
     "data": {
      "text/plain": "6291"
     },
     "execution_count": 15,
     "metadata": {},
     "output_type": "execute_result"
    }
   ],
   "source": [
    "sum(map(countanswers, groups))"
   ]
  },
  {
   "cell_type": "markdown",
   "metadata": {},
   "source": [
    "--- Part Two ---\n",
    "As you finish the last group's customs declaration, you notice that you misread one word in the instructions:\n",
    "\n",
    "You don't need to identify the questions to which anyone answered \"yes\"; you need to identify the questions to which everyone answered \"yes\"!\n",
    "\n",
    "Using the same example as above:\n",
    "```\n",
    "abc\n",
    "\n",
    "a\n",
    "b\n",
    "c\n",
    "\n",
    "ab\n",
    "ac\n",
    "\n",
    "a\n",
    "a\n",
    "a\n",
    "a\n",
    "\n",
    "b\n",
    "```\n",
    "This list represents answers from five groups:\n",
    "```\n",
    "In the first group, everyone (all 1 person) answered \"yes\" to 3 questions: a, b, and c.\n",
    "In the second group, there is no question to which everyone answered \"yes\".\n",
    "In the third group, everyone answered yes to only 1 question, a. Since some people did not answer \"yes\" to b or c, they don't count.\n",
    "In the fourth group, everyone answered yes to only 1 question, a.\n",
    "In the fifth group, everyone (all 1 person) answered \"yes\" to 1 question, b.\n",
    "In this example, the sum of these counts is 3 + 0 + 1 + 1 + 1 = 6.\n",
    "```\n",
    "For each group, count the number of questions to which everyone answered \"yes\". What is the sum of those counts?"
   ]
  },
  {
   "cell_type": "code",
   "execution_count": 26,
   "metadata": {},
   "outputs": [
    {
     "data": {
      "text/plain": "countallanswers (generic function with 1 method)"
     },
     "execution_count": 26,
     "metadata": {},
     "output_type": "execute_result"
    }
   ],
   "source": [
    "function countallanswers(group)\n",
    "    sets = map(Set, split(group, \",\"))\n",
    "    s = sets[1]\n",
    "    for s1 in sets\n",
    "        intersect!(s,s1)\n",
    "    end\n",
    "    return length(s)\n",
    "end"
   ]
  },
  {
   "cell_type": "code",
   "execution_count": 27,
   "metadata": {},
   "outputs": [
    {
     "data": {
      "text/plain": "3052"
     },
     "execution_count": 27,
     "metadata": {},
     "output_type": "execute_result"
    }
   ],
   "source": [
    "sum(map(countallanswers, groups))"
   ]
  },
  {
   "cell_type": "markdown",
   "metadata": {},
   "source": [
    "# 07-12-2020"
   ]
  },
  {
   "cell_type": "markdown",
   "metadata": {},
   "source": [
    "--- Day 7: Handy Haversacks ---\n",
    "You land at the regional airport in time for your next flight. In fact, it looks like you'll even have time to grab some food: all flights are currently delayed due to issues in luggage processing.\n",
    "\n",
    "Due to recent aviation regulations, many rules (your puzzle input) are being enforced about bags and their contents; bags must be color-coded and must contain specific quantities of other color-coded bags. Apparently, nobody responsible for these regulations considered how long they would take to enforce!\n",
    "\n",
    "For example, consider the following rules:\n",
    "```\n",
    "light red bags contain 1 bright white bag, 2 muted yellow bags.\n",
    "dark orange bags contain 3 bright white bags, 4 muted yellow bags.\n",
    "bright white bags contain 1 shiny gold bag.\n",
    "muted yellow bags contain 2 shiny gold bags, 9 faded blue bags.\n",
    "shiny gold bags contain 1 dark olive bag, 2 vibrant plum bags.\n",
    "dark olive bags contain 3 faded blue bags, 4 dotted black bags.\n",
    "vibrant plum bags contain 5 faded blue bags, 6 dotted black bags.\n",
    "faded blue bags contain no other bags.\n",
    "dotted black bags contain no other bags.\n",
    "These rules specify the required contents for 9 bag types. In this example, every faded blue bag is empty, every vibrant plum bag contains 11 bags (5 faded blue and 6 dotted black), and so on.\n",
    "```\n",
    "You have a shiny gold bag. If you wanted to carry it in at least one other bag, how many different bag colors would be valid for the outermost bag? (In other words: how many colors can, eventually, contain at least one shiny gold bag?)\n",
    "\n",
    "In the above rules, the following options would be available to you:\n",
    "```\n",
    "A bright white bag, which can hold your shiny gold bag directly.\n",
    "A muted yellow bag, which can hold your shiny gold bag directly, plus some other bags.\n",
    "A dark orange bag, which can hold bright white and muted yellow bags, either of which could then hold your shiny gold bag.\n",
    "A light red bag, which can hold bright white and muted yellow bags, either of which could then hold your shiny gold bag.\n",
    "So, in this example, the number of bag colors that can eventually contain at least one shiny gold bag is 4.\n",
    "```\n",
    "How many bag colors can eventually contain at least one shiny gold bag? (The list of rules is quite long; make sure you get all of it.)\n",
    "\n"
   ]
  },
  {
   "cell_type": "code",
   "execution_count": 1,
   "metadata": {},
   "outputs": [],
   "source": [
    "data = readlines(\"data/q7.txt\");"
   ]
  },
  {
   "cell_type": "code",
   "execution_count": 2,
   "metadata": {},
   "outputs": [
    {
     "data": {
      "text/plain": "(\"dull silver\", SubString{String}[\"striped magenta\", \"dark coral\", \"bright orange\", \"plaid blue\"])"
     },
     "execution_count": 2,
     "metadata": {},
     "output_type": "execute_result"
    }
   ],
   "source": [
    "function parseBagLine(line)\n",
    "    s = split(line, \"contain \")\n",
    "    this_bag = s[1][begin:end-6]\n",
    "    other_bags = replace(s[2],r\"bag\\w*\" => \"\")\n",
    "    reg = r\"([a-z]+\\s+[a-z]+)\"\n",
    "    m = eachmatch(reg,other_bags)\n",
    "    other_bags = [x.match for x in m]\n",
    "    return this_bag, other_bags\n",
    "end\n",
    "a,b = parseBagLine(data[1])"
   ]
  },
  {
   "cell_type": "code",
   "execution_count": 3,
   "metadata": {},
   "outputs": [],
   "source": [
    "bag_dict = Dict()\n",
    "bagLines = map(parseBagLine, data)\n",
    "for (parent, children) in bagLines\n",
    "    val = get(bag_dict, parent, [])\n",
    "    append!(val, children)\n",
    "    bag_dict[parent] = val\n",
    "end"
   ]
  },
  {
   "cell_type": "code",
   "execution_count": 4,
   "metadata": {},
   "outputs": [],
   "source": [
    "function iter_bags(init_key, key, value, bag_dict,s)\n",
    "    for v in value\n",
    "        if v == \"no other\"\n",
    "            return s\n",
    "        elseif v == \"shiny gold\"\n",
    "            push!(s, key)\n",
    "            push!(s, init_key)\n",
    "        end\n",
    "        contains_bag=iter_bags(init_key, v, bag_dict[v], bag_dict,s)\n",
    "    end\n",
    "    return s\n",
    "end\n",
    "c = []\n",
    "\n",
    "for (key, value) in bag_dict\n",
    "    iter_bags(key, key, value, bag_dict, c)\n",
    "end"
   ]
  },
  {
   "cell_type": "code",
   "execution_count": 5,
   "metadata": {},
   "outputs": [
    {
     "data": {
      "text/plain": "197"
     },
     "execution_count": 5,
     "metadata": {},
     "output_type": "execute_result"
    }
   ],
   "source": [
    "length(Set(c))"
   ]
  },
  {
   "cell_type": "markdown",
   "metadata": {},
   "source": [
    "--- Part Two ---\n",
    "It's getting pretty expensive to fly these days - not because of ticket prices, but because of the ridiculous number of bags you need to buy!\n",
    "\n",
    "Consider again your shiny gold bag and the rules from the above example:\n",
    "```\n",
    "faded blue bags contain 0 other bags.\n",
    "dotted black bags contain 0 other bags.\n",
    "vibrant plum bags contain 11 other bags: 5 faded blue bags and 6 dotted black bags.\n",
    "dark olive bags contain 7 other bags: 3 faded blue bags and 4 dotted black bags.\n",
    "So, a single shiny gold bag must contain 1 dark olive bag (and the 7 bags within it) plus 2 vibrant plum bags (and the 11 bags within each of those): 1 + 1*7 + 2 + 2*11 = 32 bags!\n",
    "```\n",
    "Of course, the actual rules have a small chance of going several levels deeper than this example; be sure to count all of the bags, even if the nesting becomes topologically impractical!\n",
    "\n",
    "Here's another example:\n",
    "```\n",
    "shiny gold bags contain 2 dark red bags.\n",
    "dark red bags contain 2 dark orange bags.\n",
    "dark orange bags contain 2 dark yellow bags.\n",
    "dark yellow bags contain 2 dark green bags.\n",
    "dark green bags contain 2 dark blue bags.\n",
    "dark blue bags contain 2 dark violet bags.\n",
    "dark violet bags contain no other bags.\n",
    "```\n",
    "In this example, a single shiny gold bag must contain 126 other bags.\n",
    "\n",
    "How many individual bags are required inside your single shiny gold bag?"
   ]
  },
  {
   "cell_type": "code",
   "execution_count": 1,
   "metadata": {},
   "outputs": [],
   "source": [
    "struct Bag\n",
    "    num::Int64\n",
    "    name::String\n",
    "    Bag(s::SubString) = s == \"no other\" ? new(0, \"no other\") : new(parse(Int, s[1]), s[3:end])\n",
    " end"
   ]
  },
  {
   "cell_type": "code",
   "execution_count": 2,
   "metadata": {},
   "outputs": [
    {
     "data": {
      "text/plain": "parseBagLine (generic function with 1 method)"
     },
     "execution_count": 2,
     "metadata": {},
     "output_type": "execute_result"
    }
   ],
   "source": [
    "function parseBagLine(line)\n",
    "    s = split(line, \"contain \")\n",
    "    this_bag = s[1][begin:end-6]\n",
    "    other_bags = replace(s[2],r\"bag\\w*\" => \"\")\n",
    "    reg = r\"(\\d\\s[a-z]+\\s+[a-z]+)\"\n",
    "    m = eachmatch(reg,other_bags)\n",
    "    other_bags = [Bag(x.match) for x in m]\n",
    "    return this_bag, other_bags\n",
    "end"
   ]
  },
  {
   "cell_type": "code",
   "execution_count": 62,
   "metadata": {},
   "outputs": [],
   "source": [
    "data = readlines(\"data/q7.txt\");"
   ]
  },
  {
   "cell_type": "code",
   "execution_count": 63,
   "metadata": {},
   "outputs": [],
   "source": [
    "bag_dict = Dict()\n",
    "bagLines = map(parseBagLine, data)\n",
    "for (parent, children) in bagLines\n",
    "    val = get(bag_dict, parent, [])\n",
    "    append!(val, children)\n",
    "    bag_dict[parent] = val\n",
    "end"
   ]
  },
  {
   "cell_type": "code",
   "execution_count": 64,
   "metadata": {},
   "outputs": [
    {
     "data": {
      "text/plain": "85324"
     },
     "execution_count": 64,
     "metadata": {},
     "output_type": "execute_result"
    }
   ],
   "source": [
    "function iter_counts(key, bag_dict, count)\n",
    "    # println(key)\n",
    "    # println(bag_dict[key.name])\n",
    "    values = bag_dict[key.name]\n",
    "    if length(values) == 0\n",
    "        # count *= key.num\n",
    "        return key.num\n",
    "    end\n",
    "    for value in bag_dict[key.name]\n",
    "        count += iter_counts(value, bag_dict, 1)\n",
    "    end\n",
    "    # count = count + key.num * count\n",
    "    return count * key.num\n",
    "end\n",
    "\n",
    "count = 0\n",
    "for key in bag_dict[\"shiny gold\"]\n",
    "    count += iter_counts(key, bag_dict, 1)\n",
    "    \n",
    "end\n",
    "    \n",
    "count"
   ]
  },
  {
   "cell_type": "markdown",
   "metadata": {},
   "source": [
    "# 08-12-2020"
   ]
  },
  {
   "cell_type": "markdown",
   "metadata": {},
   "source": [
    "--- Day 8: Handheld Halting ---\n",
    "Your flight to the major airline hub reaches cruising altitude without incident. While you consider checking the in-flight menu for one of those drinks that come with a little umbrella, you are interrupted by the kid sitting next to you.\n",
    "\n",
    "Their handheld game console won't turn on! They ask if you can take a look.\n",
    "\n",
    "You narrow the problem down to a strange infinite loop in the boot code (your puzzle input) of the device. You should be able to fix it, but first you need to be able to run the code in isolation.\n",
    "\n",
    "The boot code is represented as a text file with one instruction per line of text. Each instruction consists of an operation (acc, jmp, or nop) and an argument (a signed number like +4 or -20).\n",
    "\n",
    "acc increases or decreases a single global value called the accumulator by the value given in the argument. For example, acc +7 would increase the accumulator by 7. The accumulator starts at 0. After an acc instruction, the instruction immediately below it is executed next.\n",
    "jmp jumps to a new instruction relative to itself. The next instruction to execute is found using the argument as an offset from the jmp instruction; for example, jmp +2 would skip the next instruction, jmp +1 would continue to the instruction immediately below it, and jmp -20 would cause the instruction 20 lines above to be executed next.\n",
    "nop stands for No OPeration - it does nothing. The instruction immediately below it is executed next.\n",
    "For example, consider the following program:\n",
    "```\n",
    "nop +0\n",
    "acc +1\n",
    "jmp +4\n",
    "acc +3\n",
    "jmp -3\n",
    "acc -99\n",
    "acc +1\n",
    "jmp -4\n",
    "acc +\n",
    "```\n",
    "These instructions are visited in this order:\n",
    "```\n",
    "nop +0  | 1\n",
    "acc +1  | 2, 8(!)\n",
    "jmp +4  | 3\n",
    "acc +3  | 6\n",
    "jmp -3  | 7\n",
    "acc -99 |\n",
    "acc +1  | 4\n",
    "jmp -4  | 5\n",
    "acc +6  |\n",
    "```\n",
    "First, the nop +0 does nothing. Then, the accumulator is increased from 0 to 1 (acc +1) and jmp +4 sets the next instruction to the other acc +1 near the bottom. After it increases the accumulator from 1 to 2, jmp -4 executes, setting the next instruction to the only acc +3. It sets the accumulator to 5, and jmp -3 causes the program to continue back at the first acc +1.\n",
    "\n",
    "This is an infinite loop: with this sequence of jumps, the program will run forever. The moment the program tries to run any instruction a second time, you know it will never terminate.\n",
    "\n",
    "Immediately before the program would run an instruction a second time, the value in the accumulator is 5.\n",
    "\n",
    "Run your copy of the boot code. Immediately before any instruction is executed a second time, what value is in the accumulator?"
   ]
  },
  {
   "cell_type": "code",
   "execution_count": 22,
   "metadata": {},
   "outputs": [],
   "source": [
    "data = readlines(\"data/q8.txt\");"
   ]
  },
  {
   "cell_type": "code",
   "execution_count": 33,
   "metadata": {},
   "outputs": [],
   "source": [
    "struct Instruction\n",
    "    name::String\n",
    "    value::Int\n",
    "    Instruction(s::String) = new(s[1:3], parse(Int, s[5:end]))\n",
    "    Instruction(name::String, value::Int) = new(name, value)\n",
    "end"
   ]
  },
  {
   "cell_type": "code",
   "execution_count": 27,
   "metadata": {},
   "outputs": [],
   "source": [
    "instruction_set = map(Instruction, data);"
   ]
  },
  {
   "cell_type": "code",
   "execution_count": 36,
   "metadata": {},
   "outputs": [
    {
     "data": {
      "text/plain": "run (generic function with 1 method)"
     },
     "execution_count": 36,
     "metadata": {},
     "output_type": "execute_result"
    }
   ],
   "source": [
    "function load(filename)\n",
    "    data = readlines(filename)\n",
    "    return map(Instruction, data)\n",
    "end\n",
    "\n",
    "function run(ins_set::Array{Instruction})\n",
    "    i = 1\n",
    "    acc = 0\n",
    "    instructions = []\n",
    "    while !(i in instructions) & (i < length(ins_set))\n",
    "        push!(instructions, i)\n",
    "        command = ins_set[i]\n",
    "        if command.name == \"acc\"\n",
    "            acc += command.value\n",
    "            i+=1\n",
    "        elseif command.name == \"jmp\"\n",
    "            i += command.value\n",
    "        elseif command.name == \"nop\"\n",
    "            i += 1\n",
    "        end\n",
    "  \n",
    "    end\n",
    "    terminated = i == length(ins_set)\n",
    "    return acc, terminated\n",
    "end"
   ]
  },
  {
   "cell_type": "code",
   "execution_count": 19,
   "metadata": {},
   "outputs": [
    {
     "data": {
      "text/plain": "(2080, false)"
     },
     "execution_count": 19,
     "metadata": {},
     "output_type": "execute_result"
    }
   ],
   "source": [
    "run(load(\"data/q8.txt\"))"
   ]
  },
  {
   "cell_type": "markdown",
   "metadata": {},
   "source": [
    "--- Part Two ---\n",
    "After some careful analysis, you believe that exactly one instruction is corrupted.\n",
    "\n",
    "Somewhere in the program, either a jmp is supposed to be a nop, or a nop is supposed to be a jmp. (No acc instructions were harmed in the corruption of this boot code.)\n",
    "\n",
    "The program is supposed to terminate by attempting to execute an instruction immediately after the last instruction in the file. By changing exactly one jmp or nop, you can repair the boot code and make it terminate correctly.\n",
    "\n",
    "For example, consider the same program from above:\n",
    "```\n",
    "nop +0\n",
    "acc +1\n",
    "jmp +4\n",
    "acc +3\n",
    "jmp -3\n",
    "acc -99\n",
    "acc +1\n",
    "jmp -4\n",
    "acc +6\n",
    "```\n",
    "If you change the first instruction from nop +0 to jmp +0, it would create a single-instruction infinite loop, never leaving that instruction. If you change almost any of the jmp instructions, the program will still eventually find another jmp instruction and loop forever.\n",
    "\n",
    "However, if you change the second-to-last instruction (from jmp -4 to nop -4), the program terminates! The instructions are visited in this order:\n",
    "```\n",
    "nop +0  | 1\n",
    "acc +1  | 2\n",
    "jmp +4  | 3\n",
    "acc +3  |\n",
    "jmp -3  |\n",
    "acc -99 |\n",
    "acc +1  | 4\n",
    "nop -4  | 5\n",
    "acc +6  | 6\n",
    "```\n",
    "After the last instruction (acc +6), the program terminates by attempting to run the instruction below the last instruction in the file. With this change, after the program terminates, the accumulator contains the value 8 (acc +1, acc +1, acc +6).\n",
    "\n",
    "Fix the program so that it terminates normally by changing exactly one jmp (to nop) or nop (to jmp). What is the value of the accumulator after the program terminates?"
   ]
  },
  {
   "cell_type": "code",
   "execution_count": 37,
   "metadata": {},
   "outputs": [
    {
     "name": "stdout",
     "output_type": "stream",
     "text": [
      "2477\n"
     ]
    }
   ],
   "source": [
    "for (i,line) in enumerate(instruction_set)\n",
    "    ins_set_copy = copy(instruction_set)\n",
    "    if line.name == \"jmp\"\n",
    "        ins_set_copy[i] = Instruction(\"nop\", line.value)\n",
    "    elseif line.name == \"nop\"\n",
    "        ins_set_copy[i] = Instruction(\"jmp\", line.value)\n",
    "    end\n",
    "    value, terminated = run(ins_set_copy)\n",
    "    if terminated\n",
    "        println(value)\n",
    "    end\n",
    "end"
   ]
  },
  {
   "cell_type": "markdown",
   "metadata": {},
   "source": [
    "# 09-12-2020\n"
   ]
  },
  {
   "cell_type": "markdown",
   "metadata": {},
   "source": [
    "--- Day 9: Encoding Error ---\n",
    "With your neighbor happily enjoying their video game, you turn your attention to an open data port on the little screen in the seat in front of you.\n",
    "\n",
    "Though the port is non-standard, you manage to connect it to your computer through the clever use of several paperclips. Upon connection, the port outputs a series of numbers (your puzzle input).\n",
    "\n",
    "The data appears to be encrypted with the eXchange-Masking Addition System (XMAS) which, conveniently for you, is an old cypher with an important weakness.\n",
    "\n",
    "XMAS starts by transmitting a preamble of 25 numbers. After that, each number you receive should be the sum of any two of the 25 immediately previous numbers. The two numbers will have different values, and there might be more than one such pair.\n",
    "\n",
    "For example, suppose your preamble consists of the numbers 1 through 25 in a random order. To be valid, the next number must be the sum of two of those numbers:\n",
    "```\n",
    "26 would be a valid next number, as it could be 1 plus 25 (or many other pairs, like 2 and 24).\n",
    "49 would be a valid next number, as it is the sum of 24 and 25.\n",
    "100 would not be valid; no two of the previous 25 numbers sum to 100.\n",
    "50 would also not be valid; although 25 appears in the previous 25 numbers, the two numbers in the pair must be different.\n",
    "Suppose the 26th number is 45, and the first number (no longer an option, as it is more than 25 numbers ago) was 20. Now, for the next number to be valid, there needs to be some pair of numbers among 1-19, 21-25, or 45 that add up to it:\n",
    "```\n",
    "```\n",
    "26 would still be a valid next number, as 1 and 25 are still within the previous 25 numbers.\n",
    "65 would not be valid, as no two of the available numbers sum to it.\n",
    "64 and 66 would both be valid, as they are the result of 19+45 and 21+45 respectively.\n",
    "```\n",
    "Here is a larger example which only considers the previous 5 numbers (and has a preamble of length 5):\n",
    "```\n",
    "35\n",
    "20\n",
    "15\n",
    "25\n",
    "47\n",
    "40\n",
    "62\n",
    "55\n",
    "65\n",
    "95\n",
    "102\n",
    "117\n",
    "150\n",
    "182\n",
    "127\n",
    "219\n",
    "299\n",
    "277\n",
    "309\n",
    "576\n",
    "```\n",
    "In this example, after the 5-number preamble, almost every number is the sum of two of the previous 5 numbers; the only number that does not follow this rule is 127.\n",
    "\n",
    "The first step of attacking the weakness in the XMAS data is to find the first number in the list (after the preamble) which is not the sum of two of the 25 numbers before it. What is the first number that does not have this property?"
   ]
  },
  {
   "cell_type": "code",
   "execution_count": 62,
   "metadata": {},
   "outputs": [],
   "source": [
    "data = map(x -> parse(Int, x), eachline(open(\"data/q9.txt\")));"
   ]
  },
  {
   "cell_type": "code",
   "execution_count": 63,
   "metadata": {},
   "outputs": [],
   "source": [
    "sum_pairs = zeros(length(data), length(data));\n",
    "sum_pairs = broadcast(+,data, sum_pairs)\n",
    "sum_pairs = broadcast(+, data, transpose(sum_pairs));"
   ]
  },
  {
   "cell_type": "code",
   "execution_count": 44,
   "metadata": {},
   "outputs": [],
   "source": [
    "for (i,d) in enumerate(data)\n",
    "    if i < 25\n",
    "        continue\n",
    "    end\n",
    "    vals = Set(Iterators.flatten(sum_pairs[begin:i, begin:i]))\n",
    "    if !(d in vals)\n",
    "        println(d)\n",
    "        break\n",
    "    end\n",
    "end "
   ]
  },
  {
   "cell_type": "markdown",
   "metadata": {},
   "source": [
    "--- Part Two ---\n",
    "The final step in breaking the XMAS encryption relies on the invalid number you just found: you must find a contiguous set of at least two numbers in your list which sum to the invalid number from step 1.\n",
    "\n",
    "Again consider the above example:\n",
    "```\n",
    "35\n",
    "20\n",
    "15\n",
    "25\n",
    "47\n",
    "40\n",
    "62\n",
    "55\n",
    "65\n",
    "95\n",
    "102\n",
    "117\n",
    "150\n",
    "182\n",
    "127\n",
    "219\n",
    "299\n",
    "277\n",
    "309\n",
    "576\n",
    "```\n",
    "In this list, adding up all of the numbers from 15 through 40 produces the invalid number from step 1, 127. (Of course, the contiguous set of numbers in your actual list might be much longer.)\n",
    "\n",
    "To find the encryption weakness, add together the smallest and largest number in this contiguous range; in this example, these are 15 and 47, producing 62.\n",
    "\n",
    "What is the encryption weakness in your XMAS-encrypted list of numbers?\n",
    "\n"
   ]
  },
  {
   "cell_type": "code",
   "execution_count": 64,
   "metadata": {},
   "outputs": [],
   "source": [
    "cum_sum = cumsum(data);\n",
    "c_arr = zeros(length(data), length(data));\n",
    "c_arr = broadcast(+,cum_sum, c_arr)\n",
    "c_arr = broadcast(-, cum_sum, transpose(c_arr));"
   ]
  },
  {
   "cell_type": "code",
   "execution_count": 65,
   "metadata": {},
   "outputs": [
    {
     "data": {
      "text/plain": "14144619"
     },
     "execution_count": 65,
     "metadata": {},
     "output_type": "execute_result"
    }
   ],
   "source": [
    "value = 14144619"
   ]
  },
  {
   "cell_type": "code",
   "execution_count": 66,
   "metadata": {},
   "outputs": [
    {
     "data": {
      "text/plain": "2-element Array{CartesianIndex{2},1}:\n CartesianIndex(407, 390)\n CartesianIndex(505, 504)"
     },
     "execution_count": 66,
     "metadata": {},
     "output_type": "execute_result"
    }
   ],
   "source": [
    "findall(==(value), c_arr)"
   ]
  },
  {
   "cell_type": "code",
   "execution_count": 54,
   "metadata": {},
   "outputs": [
    {
     "data": {
      "text/plain": "127"
     },
     "execution_count": 54,
     "metadata": {},
     "output_type": "execute_result"
    }
   ],
   "source": [
    "cum_sum[6] - cum_sum[2]"
   ]
  },
  {
   "cell_type": "code",
   "execution_count": 68,
   "metadata": {},
   "outputs": [
    {
     "data": {
      "text/plain": "1766397"
     },
     "execution_count": 68,
     "metadata": {},
     "output_type": "execute_result"
    }
   ],
   "source": [
    "a = data[390+1:407]\n",
    "minimum(a) + maximum(a)"
   ]
  },
  {
   "cell_type": "markdown",
   "metadata": {},
   "source": [
    "# 10-12-2020"
   ]
  },
  {
   "cell_type": "markdown",
   "metadata": {},
   "source": [
    "--- Day 10: Adapter Array ---\n",
    "Patched into the aircraft's data port, you discover weather forecasts of a massive tropical storm. Before you can figure out whether it will impact your vacation plans, however, your device suddenly turns off!\n",
    "\n",
    "Its battery is dead.\n",
    "\n",
    "You'll need to plug it in. There's only one problem: the charging outlet near your seat produces the wrong number of jolts. Always prepared, you make a list of all of the joltage adapters in your bag.\n",
    "\n",
    "Each of your joltage adapters is rated for a specific output joltage (your puzzle input). Any given adapter can take an input 1, 2, or 3 jolts lower than its rating and still produce its rated output joltage.\n",
    "\n",
    "In addition, your device has a built-in joltage adapter rated for 3 jolts higher than the highest-rated adapter in your bag. (If your adapter list were 3, 9, and 6, your device's built-in adapter would be rated for 12 jolts.)\n",
    "\n",
    "Treat the charging outlet near your seat as having an effective joltage rating of 0.\n",
    "\n",
    "Since you have some time to kill, you might as well test all of your adapters. Wouldn't want to get to your resort and realize you can't even charge your device!\n",
    "\n",
    "If you use every adapter in your bag at once, what is the distribution of joltage differences between the charging outlet, the adapters, and your device?\n",
    "\n",
    "For example, suppose that in your bag, you have adapters with the following joltage ratings:\n",
    "```\n",
    "16\n",
    "10\n",
    "15\n",
    "5\n",
    "1\n",
    "11\n",
    "7\n",
    "19\n",
    "6\n",
    "12\n",
    "4\n",
    "```\n",
    "With these adapters, your device's built-in joltage adapter would be rated for 19 + 3 = 22 jolts, 3 higher than the highest-rated adapter.\n",
    "\n",
    "Because adapters can only connect to a source 1-3 jolts lower than its rating, in order to use every adapter, you'd need to choose them like this:\n",
    "\n",
    "The charging outlet has an effective rating of 0 jolts, so the only adapters that could connect to it directly would need to have a joltage rating of 1, 2, or 3 jolts. Of these, only one you have is an adapter rated 1 jolt (difference of 1).\n",
    "From your 1-jolt rated adapter, the only choice is your 4-jolt rated adapter (difference of 3).\n",
    "From the 4-jolt rated adapter, the adapters rated 5, 6, or 7 are valid choices. However, in order to not skip any adapters, you have to pick the adapter rated 5 jolts (difference of 1).\n",
    "Similarly, the next choices would need to be the adapter rated 6 and then the adapter rated 7 (with difference of 1 and 1).\n",
    "The only adapter that works with the 7-jolt rated adapter is the one rated 10 jolts (difference of 3).\n",
    "From 10, the choices are 11 or 12; choose 11 (difference of 1) and then 12 (difference of 1).\n",
    "After 12, only valid adapter has a rating of 15 (difference of 3), then 16 (difference of 1), then 19 (difference of 3).\n",
    "Finally, your device's built-in adapter is always 3 higher than the highest adapter, so its rating is 22 jolts (always a difference of 3).\n",
    "In this example, when using every adapter, there are 7 differences of 1 jolt and 5 differences of 3 jolts.\n",
    "\n",
    "Here is a larger example:\n",
    "```\n",
    "28\n",
    "33\n",
    "18\n",
    "42\n",
    "31\n",
    "14\n",
    "46\n",
    "20\n",
    "48\n",
    "47\n",
    "24\n",
    "23\n",
    "49\n",
    "45\n",
    "19\n",
    "38\n",
    "39\n",
    "11\n",
    "1\n",
    "32\n",
    "25\n",
    "35\n",
    "8\n",
    "17\n",
    "7\n",
    "9\n",
    "4\n",
    "2\n",
    "34\n",
    "10\n",
    "3\n",
    "```\n",
    "In this larger example, in a chain that uses all of the adapters, there are 22 differences of 1 jolt and 10 differences of 3 jolts.\n",
    "\n",
    "Find a chain that uses all of your adapters to connect the charging outlet to your device's built-in adapter and count the joltage differences between the charging outlet, the adapters, and your device. What is the number of 1-jolt differences multiplied by the number of 3-jolt differences?\n",
    "\n"
   ]
  },
  {
   "cell_type": "code",
   "execution_count": 3,
   "metadata": {},
   "outputs": [],
   "source": [
    "examp = [16,10,15,5,1,11,7,19,6,12,4];"
   ]
  },
  {
   "cell_type": "code",
   "execution_count": 2,
   "metadata": {},
   "outputs": [
    {
     "data": {
      "text/plain": "getDistribution (generic function with 1 method)"
     },
     "execution_count": 2,
     "metadata": {},
     "output_type": "execute_result"
    }
   ],
   "source": [
    "function getDistribution(j)\n",
    "    j_diffs = sort(j)\n",
    "    diffs = diff(j_diffs) \n",
    "    counts = Dict()\n",
    "    for d in diffs\n",
    "        v = get(counts,d,0)\n",
    "        counts[d] = v+1\n",
    "    end\n",
    "    counts[3] +=1\n",
    "    counts[1] += 1\n",
    "    return counts\n",
    "end"
   ]
  },
  {
   "cell_type": "code",
   "execution_count": 3,
   "metadata": {},
   "outputs": [
    {
     "data": {
      "text/plain": "Dict{Any,Any} with 2 entries:\n  3 => 5\n  1 => 7"
     },
     "execution_count": 3,
     "metadata": {},
     "output_type": "execute_result"
    }
   ],
   "source": [
    "t = getDistribution(sort(examp))"
   ]
  },
  {
   "cell_type": "code",
   "execution_count": 3,
   "metadata": {},
   "outputs": [],
   "source": [
    "data = map(x -> parse(Int, x), eachline(open(\"data/q10_examp.txt\")));\n"
   ]
  },
  {
   "cell_type": "code",
   "execution_count": 15,
   "metadata": {},
   "outputs": [
    {
     "data": {
      "text/plain": "Dict{Any,Any} with 2 entries:\n  3 => 10\n  1 => 22"
     },
     "execution_count": 15,
     "metadata": {},
     "output_type": "execute_result"
    }
   ],
   "source": [
    "getDistribution(sort(data))"
   ]
  },
  {
   "cell_type": "code",
   "execution_count": 38,
   "metadata": {},
   "outputs": [],
   "source": [
    "data = map(x -> parse(Int, x), eachline(open(\"data/q10.txt\")));\n",
    "# t = getDistribution(sort(data))\n",
    "# t[1] * t[3]"
   ]
  },
  {
   "cell_type": "markdown",
   "metadata": {},
   "source": [
    "--- Part Two ---\n",
    "To completely determine whether you have enough adapters, you'll need to figure out how many different ways they can be arranged. Every arrangement needs to connect the charging outlet to your device. The previous rules about when adapters can successfully connect still apply.\n",
    "\n",
    "The first example above (the one that starts with 16, 10, 15) supports the following arrangements:\n",
    "```\n",
    "(0), 1, 4, 5, 6, 7, 10, 11, 12, 15, 16, 19, (22)\n",
    "(0), 1, 4, 5, 6, 7, 10, 12, 15, 16, 19, (22)\n",
    "(0), 1, 4, 5, 7, 10, 11, 12, 15, 16, 19, (22)\n",
    "(0), 1, 4, 5, 7, 10, 12, 15, 16, 19, (22)\n",
    "(0), 1, 4, 6, 7, 10, 11, 12, 15, 16, 19, (22)\n",
    "(0), 1, 4, 6, 7, 10, 12, 15, 16, 19, (22)\n",
    "(0), 1, 4, 7, 10, 11, 12, 15, 16, 19, (22)\n",
    "(0), 1, 4, 7, 10, 12, 15, 16, 19, (22)\n",
    "```\n",
    "(The charging outlet and your device's built-in adapter are shown in parentheses.) Given the adapters from the first example, the total number of arrangements that connect the charging outlet to your device is 8.\n",
    "\n",
    "The second example above (the one that starts with 28, 33, 18) has many arrangements. Here are a few:\n",
    "```\n",
    "(0), 1, 2, 3, 4, 7, 8, 9, 10, 11, 14, 17, 18, 19, 20, 23, 24, 25, 28, 31,\n",
    "32, 33, 34, 35, 38, 39, 42, 45, 46, 47, 48, 49, (52)\n",
    "\n",
    "(0), 1, 2, 3, 4, 7, 8, 9, 10, 11, 14, 17, 18, 19, 20, 23, 24, 25, 28, 31,\n",
    "32, 33, 34, 35, 38, 39, 42, 45, 46, 47, 49, (52)\n",
    "\n",
    "(0), 1, 2, 3, 4, 7, 8, 9, 10, 11, 14, 17, 18, 19, 20, 23, 24, 25, 28, 31,\n",
    "32, 33, 34, 35, 38, 39, 42, 45, 46, 48, 49, (52)\n",
    "\n",
    "(0), 1, 2, 3, 4, 7, 8, 9, 10, 11, 14, 17, 18, 19, 20, 23, 24, 25, 28, 31,\n",
    "32, 33, 34, 35, 38, 39, 42, 45, 46, 49, (52)\n",
    "\n",
    "(0), 1, 2, 3, 4, 7, 8, 9, 10, 11, 14, 17, 18, 19, 20, 23, 24, 25, 28, 31,\n",
    "32, 33, 34, 35, 38, 39, 42, 45, 47, 48, 49, (52)\n",
    "\n",
    "(0), 3, 4, 7, 10, 11, 14, 17, 20, 23, 25, 28, 31, 34, 35, 38, 39, 42, 45,\n",
    "46, 48, 49, (52)\n",
    "\n",
    "(0), 3, 4, 7, 10, 11, 14, 17, 20, 23, 25, 28, 31, 34, 35, 38, 39, 42, 45,\n",
    "46, 49, (52)\n",
    "\n",
    "(0), 3, 4, 7, 10, 11, 14, 17, 20, 23, 25, 28, 31, 34, 35, 38, 39, 42, 45,\n",
    "47, 48, 49, (52)\n",
    "\n",
    "(0), 3, 4, 7, 10, 11, 14, 17, 20, 23, 25, 28, 31, 34, 35, 38, 39, 42, 45,\n",
    "47, 49, (52)\n",
    "\n",
    "(0), 3, 4, 7, 10, 11, 14, 17, 20, 23, 25, 28, 31, 34, 35, 38, 39, 42, 45,\n",
    "48, 49, (52)\n",
    "```\n",
    "\n",
    "In total, this set of adapters can connect the charging outlet to your device in 19208 distinct arrangements.\n",
    "\n",
    "You glance back down at your bag and try to remember why you brought so many adapters; there must be more than a trillion valid ways to arrange them! Surely, there must be an efficient way to count the arrangements.\n",
    "\n",
    "What is the total number of distinct ways you can arrange the adapters to connect the charging outlet to your device?"
   ]
  },
  {
   "cell_type": "code",
   "execution_count": 4,
   "metadata": {},
   "outputs": [
    {
     "data": {
      "text/plain": "possibleValues (generic function with 1 method)"
     },
     "execution_count": 4,
     "metadata": {},
     "output_type": "execute_result"
    }
   ],
   "source": [
    "function possibleValues(arr, max_value)\n",
    "    a1 = map(abs,arr .- circshift(arr, 1))\n",
    "    a2 = map(abs,circshift(arr,-1) .- arr)\n",
    "    ix = (a1 .< max_value) .& (a2 .< max_value);\n",
    "    return arr[ix]\n",
    "end"
   ]
  },
  {
   "cell_type": "code",
   "execution_count": 9,
   "metadata": {},
   "outputs": [
    {
     "data": {
      "text/plain": "countJoltages (generic function with 1 method)"
     },
     "execution_count": 9,
     "metadata": {},
     "output_type": "execute_result"
    }
   ],
   "source": [
    "using Combinatorics;\n",
    "function countCombs(n) \n",
    "    sum(map(x -> binomial(n,x), 1:n)) + 1\n",
    "end\n",
    "function countJoltages(arr)\n",
    "    return countCombs(length(possibleValues(sort(arr),3))) + 1\n",
    "end"
   ]
  },
  {
   "cell_type": "code",
   "execution_count": 10,
   "metadata": {},
   "outputs": [
    {
     "data": {
      "text/plain": "func (generic function with 1 method)"
     },
     "execution_count": 10,
     "metadata": {},
     "output_type": "execute_result"
    }
   ],
   "source": [
    "data = [16,10,15,5,1,11,7,19,6,12,4];\n",
    "adapters = sort(data)\n",
    "function func(i, adapters)\n",
    "    if (i == length(adapters))\n",
    "        return 1\n",
    "    else\n",
    "        ans = 0\n",
    "        for j in i+1:length(adapters)\n",
    "            # println(adapters[j:end])\n",
    "            if (adapters[j] - adapters[i]) <= 3\n",
    "                ans += func(j, adapters)\n",
    "            end\n",
    "        end\n",
    "        return ans\n",
    "    end\n",
    "end"
   ]
  },
  {
   "cell_type": "code",
   "execution_count": 11,
   "metadata": {},
   "outputs": [
    {
     "data": {
      "text/plain": "8"
     },
     "execution_count": 11,
     "metadata": {},
     "output_type": "execute_result"
    }
   ],
   "source": [
    "func(1,sort(data))"
   ]
  },
  {
   "cell_type": "code",
   "execution_count": 7,
   "metadata": {},
   "outputs": [
    {
     "data": {
      "text/plain": "10976"
     },
     "execution_count": 7,
     "metadata": {},
     "output_type": "execute_result"
    }
   ],
   "source": [
    "data = map(x -> parse(Int, x), eachline(open(\"data/q10_examp.txt\")))\n",
    "func(1,sort(data))"
   ]
  },
  {
   "cell_type": "markdown",
   "metadata": {},
   "source": [
    "# 11-12-2020"
   ]
  },
  {
   "cell_type": "markdown",
   "metadata": {},
   "source": [
    "--- Day 11: Seating System ---\n",
    "Your plane lands with plenty of time to spare. The final leg of your journey is a ferry that goes directly to the tropical island where you can finally start your vacation. As you reach the waiting area to board the ferry, you realize you're so early, nobody else has even arrived yet!\n",
    "\n",
    "By modeling the process people use to choose (or abandon) their seat in the waiting area, you're pretty sure you can predict the best place to sit. You make a quick map of the seat layout (your puzzle input).\n",
    "\n",
    "The seat layout fits neatly on a grid. Each position is either floor (.), an empty seat (L), or an occupied seat (#). For example, the initial seat layout might look like this:\n",
    "```\n",
    "L.LL.LL.LL\n",
    "LLLLLLL.LL\n",
    "L.L.L..L..\n",
    "LLLL.LL.LL\n",
    "L.LL.LL.LL\n",
    "L.LLLLL.LL\n",
    "..L.L.....\n",
    "LLLLLLLLLL\n",
    "L.LLLLLL.L\n",
    "L.LLLLL.LL\n",
    "```\n",
    "Now, you just need to model the people who will be arriving shortly. Fortunately, people are entirely predictable and always follow a simple set of rules. All decisions are based on the number of occupied seats adjacent to a given seat (one of the eight positions immediately up, down, left, right, or diagonal from the seat). The following rules are applied to every seat simultaneously:\n",
    "\n",
    "If a seat is empty (L) and there are no occupied seats adjacent to it, the seat becomes occupied.\n",
    "If a seat is occupied (#) and four or more seats adjacent to it are also occupied, the seat becomes empty.\n",
    "Otherwise, the seat's state does not change.\n",
    "Floor (.) never changes; seats don't move, and nobody sits on the floor.\n",
    "\n",
    "After one round of these rules, every seat in the example layout becomes occupied:\n",
    "```\n",
    "#.##.##.##\n",
    "#######.##\n",
    "#.#.#..#..\n",
    "####.##.##\n",
    "#.##.##.##\n",
    "#.#####.##\n",
    "..#.#.....\n",
    "##########\n",
    "#.######.#\n",
    "#.#####.##\n",
    "```\n",
    "After a second round, the seats with four or more occupied adjacent seats become empty again:\n",
    "```\n",
    "#.LL.L#.##\n",
    "#LLLLLL.L#\n",
    "L.L.L..L..\n",
    "#LLL.LL.L#\n",
    "#.LL.LL.LL\n",
    "#.LLLL#.##\n",
    "..L.L.....\n",
    "#LLLLLLLL#\n",
    "#.LLLLLL.L\n",
    "#.#LLLL.##\n",
    "```\n",
    "This process continues for three more rounds:\n",
    "```\n",
    "#.##.L#.##\n",
    "#L###LL.L#\n",
    "L.#.#..#..\n",
    "#L##.##.L#\n",
    "#.##.LL.LL\n",
    "#.###L#.##\n",
    "..#.#.....\n",
    "#L######L#\n",
    "#.LL###L.L\n",
    "#.#L###.##\n",
    "```\n",
    "```\n",
    "#.#L.L#.##\n",
    "#LLL#LL.L#\n",
    "L.L.L..#..\n",
    "#LLL.##.L#\n",
    "#.LL.LL.LL\n",
    "#.LL#L#.##\n",
    "..L.L.....\n",
    "#L#LLLL#L#\n",
    "#.LLLLLL.L\n",
    "#.#L#L#.##\n",
    "```\n",
    "```\n",
    "#.#L.L#.##\n",
    "#LLL#LL.L#\n",
    "L.#.L..#..\n",
    "#L##.##.L#\n",
    "#.#L.LL.LL\n",
    "#.#L#L#.##\n",
    "..L.L.....\n",
    "#L#L##L#L#\n",
    "#.LLLLLL.L\n",
    "#.#L#L#.##\n",
    "```\n",
    "At this point, something interesting happens: the chaos stabilizes and further applications of these rules cause no seats to change state! Once people stop moving around, you count 37 occupied seats.\n",
    "\n",
    "Simulate your seating area by applying the seating rules repeatedly until no seats change state. How many seats end up occupied?"
   ]
  },
  {
   "cell_type": "code",
   "execution_count": 2,
   "metadata": {},
   "outputs": [
    {
     "data": {
      "text/plain": "'#': ASCII/Unicode U+0023 (category Po: Punctuation, other)"
     },
     "execution_count": 2,
     "metadata": {},
     "output_type": "execute_result"
    }
   ],
   "source": [
    "FLOOR = '.'\n",
    "EMPTY = 'L'\n",
    "OCCUPIED = '#'"
   ]
  },
  {
   "cell_type": "code",
   "execution_count": 1,
   "metadata": {},
   "outputs": [
    {
     "data": {
      "text/plain": "seatState (generic function with 1 method)"
     },
     "execution_count": 1,
     "metadata": {},
     "output_type": "execute_result"
    }
   ],
   "source": [
    "function adjacentSeats(arr,i,j)\n",
    "    seats = collect(Iterators.flatten(arr[(-1:1) .+ i, (-1:1) .+ j]))\n",
    "    popat!(seats,5)\n",
    "    return sum([1 for x in seats if x == OCCUPIED])\n",
    "end\n",
    "\n",
    "function seatState(arr, i,j)\n",
    "    num_seats = adjacentSeats(arr,i,j)\n",
    "    if (arr[i,j] == EMPTY) & (num_seats == 0)\n",
    "        return OCCUPIED\n",
    "    elseif (num_seats >= 4) & (arr[i,j] == OCCUPIED)\n",
    "        return EMPTY\n",
    "    else\n",
    "        return arr[i,j]\n",
    "    end\n",
    "end"
   ]
  },
  {
   "cell_type": "code",
   "execution_count": 3,
   "metadata": {},
   "outputs": [],
   "source": [
    "init = \"\"\"\n",
    "L.LL.LL.LL\n",
    "LLLLLLL.LL\n",
    "L.L.L..L..\n",
    "LLLL.LL.LL\n",
    "L.LL.LL.LL\n",
    "L.LLLLL.LL\n",
    "..L.L.....\n",
    "LLLLLLLLLL\n",
    "L.LLLLLL.L\n",
    "L.LLLLL.LL\"\"\";"
   ]
  },
  {
   "cell_type": "code",
   "execution_count": 40,
   "metadata": {},
   "outputs": [
    {
     "data": {
      "text/plain": "stringArray (generic function with 1 method)"
     },
     "execution_count": 40,
     "metadata": {},
     "output_type": "execute_result"
    }
   ],
   "source": [
    "function stringArray(a)\n",
    "    s = split(a, \"\\n\")\n",
    "    n = length(s[1])\n",
    "    s = [\"$FLOOR$t$FLOOR\" for t in s]\n",
    "    v = repeat(FLOOR, n+2)\n",
    "    push!(s,v)\n",
    "    pushfirst!(s,v)\n",
    "    n2 = length(s[1])\n",
    "    n1 = length(s)\n",
    "    A = Matrix{Char}(undef,n1,n2) # preallocating the result\n",
    "    for i in 1:length(s) # looping over all strings\n",
    "        for (j, c) in enumerate(s[i]) # looping over all chars in a string\n",
    "            A[i, j] = c\n",
    "        end\n",
    "    end\n",
    "    return A\n",
    "end"
   ]
  },
  {
   "cell_type": "code",
   "execution_count": 19,
   "metadata": {},
   "outputs": [],
   "source": [
    "t = stringArray(init);"
   ]
  },
  {
   "cell_type": "code",
   "execution_count": 6,
   "metadata": {},
   "outputs": [],
   "source": [
    "t2 = copy(t)\n",
    "for i in 2:size(t)[1]-1\n",
    "    for j in 2:size(t)[2] - 1\n",
    "        t2[i,j] = seatState(t,i,j)\n",
    "    end\n",
    "end\n"
   ]
  },
  {
   "cell_type": "code",
   "execution_count": 9,
   "metadata": {},
   "outputs": [],
   "source": [
    "function seatSim(arr)\n",
    "    arr_c = copy(arr)\n",
    "    for i in 2:size(arr)[1]-1\n",
    "        for j in 2:size(arr)[2] - 1\n",
    "            arr_c[i,j] = seatState(arr,i,j)\n",
    "        end\n",
    "    end\n",
    "    return arr_c\n",
    "end\n",
    "\n",
    "t2 = seatSim(t)\n",
    "while t2 != t\n",
    "    t = t2\n",
    "    t2 = seatSim(t)\n",
    "end"
   ]
  },
  {
   "cell_type": "code",
   "execution_count": 11,
   "metadata": {},
   "outputs": [
    {
     "data": {
      "text/plain": "37"
     },
     "execution_count": 11,
     "metadata": {},
     "output_type": "execute_result"
    }
   ],
   "source": [
    "sum([1 for x in t2 if x == OCCUPIED])"
   ]
  },
  {
   "cell_type": "code",
   "execution_count": 32,
   "metadata": {},
   "outputs": [
    {
     "data": {
      "text/plain": "59"
     },
     "execution_count": 32,
     "metadata": {},
     "output_type": "execute_result"
    }
   ],
   "source": [
    "length(d[1])"
   ]
  },
  {
   "cell_type": "code",
   "execution_count": 41,
   "metadata": {},
   "outputs": [
    {
     "data": {
      "text/plain": "2277"
     },
     "execution_count": 41,
     "metadata": {},
     "output_type": "execute_result"
    }
   ],
   "source": [
    "data = join(readlines(\"data/q11.txt\"), \"\\n\");\n",
    "d = stringArray(data)\n",
    "d2 = seatSim(d)\n",
    "while d2 != d\n",
    "    d = d2\n",
    "    d2 = seatSim(d)\n",
    "end\n",
    "sum([1 for x in d2 if x == OCCUPIED])"
   ]
  },
  {
   "cell_type": "markdown",
   "metadata": {},
   "source": [
    "--- Part Two ---\n",
    "As soon as people start to arrive, you realize your mistake. People don't just care about adjacent seats - they care about the first seat they can see in each of those eight directions!\n",
    "\n",
    "Now, instead of considering just the eight immediately adjacent seats, consider the first seat in each of those eight directions. For example, the empty seat below would see eight occupied seats:\n",
    "```\n",
    ".......#.\n",
    "...#.....\n",
    ".#.......\n",
    ".........\n",
    "..#L....#\n",
    "....#....\n",
    ".........\n",
    "#........\n",
    "...#.....\n",
    "```\n",
    "The leftmost empty seat below would only see one empty seat, but cannot see any of the occupied ones:\n",
    "```\n",
    ".............\n",
    ".L.L.#.#.#.#.\n",
    ".............\n",
    "```\n",
    "The empty seat below would see no occupied seats:\n",
    "```\n",
    ".##.##.\n",
    "#.#.#.#\n",
    "##...##\n",
    "...L...\n",
    "##...##\n",
    "#.#.#.#\n",
    ".##.##.\n",
    "```\n",
    "Also, people seem to be more tolerant than you expected: it now takes five or more visible occupied seats for an occupied seat to become empty (rather than four or more from the previous rules). The other rules still apply: empty seats that see no occupied seats become occupied, seats matching no rule don't change, and floor never changes.\n",
    "\n",
    "Given the same starting layout as above, these new rules cause the seating area to shift around as follows:\n",
    "\n",
    "Again, at this point, people stop shifting around and the seating area reaches equilibrium. Once this occurs, you count 26 occupied seats.\n",
    "\n",
    "Given the new visibility method and the rule change for occupied seats becoming empty, once equilibrium is reached, how many seats end up occupied?"
   ]
  },
  {
   "cell_type": "code",
   "execution_count": 109,
   "metadata": {},
   "outputs": [
    {
     "data": {
      "text/plain": "seatState (generic function with 1 method)"
     },
     "execution_count": 109,
     "metadata": {},
     "output_type": "execute_result"
    }
   ],
   "source": [
    "function iter_seats(arr,i,j, x_op, y_op)\n",
    "    s = 0\n",
    "    if x_op == +\n",
    "        i_iter = i+1:size(arr)[1]\n",
    "    elseif x_op == -\n",
    "        i_iter = i-1:-1:1\n",
    "    end\n",
    "\n",
    "    if y_op == +\n",
    "        j_iter = j+1:size(arr)[2]\n",
    "    elseif y_op == -\n",
    "        j_iter = j-1:-1:1\n",
    "    end\n",
    "\n",
    "    if x_op == 0\n",
    "        i_iter = fill(i,length(j_iter))\n",
    "    end\n",
    "\n",
    "    if y_op == 0\n",
    "        j_iter = fill(j, length(i_iter))\n",
    "    end\n",
    "\n",
    "    for (i1,j1) in Iterators.zip(i_iter, j_iter)\n",
    "        v = arr[i1,j1]\n",
    "        if v == OCCUPIED\n",
    "            return 1\n",
    "        elseif v == EMPTY\n",
    "            return 0\n",
    "        end\n",
    "    end\n",
    "    return 0\n",
    "end\n",
    "\n",
    "function adjacentSeats(arr,i, j)\n",
    "    ops = [(+,+), (+,-), (-,-), (-,+),(+,0), (-,0), (0,+), (0,-)]\n",
    "    s = sum(map(x -> iter_seats(arr,i,j,x[1],x[2]),ops))    \n",
    "return s\n",
    "end\n",
    "\n",
    "function seatState(arr, i,j)\n",
    "    num_seats = adjacentSeats(arr,i,j)\n",
    "    if (arr[i,j] == EMPTY) & (num_seats == 0)\n",
    "        return OCCUPIED\n",
    "    elseif (num_seats >= 5) & (arr[i,j] == OCCUPIED)\n",
    "        return EMPTY\n",
    "    else\n",
    "        return arr[i,j]\n",
    "    end\n",
    "end"
   ]
  },
  {
   "cell_type": "code",
   "execution_count": 110,
   "metadata": {},
   "outputs": [
    {
     "data": {
      "text/plain": "2066"
     },
     "execution_count": 110,
     "metadata": {},
     "output_type": "execute_result"
    }
   ],
   "source": [
    "data = join(readlines(\"data/q11.txt\"), \"\\n\");\n",
    "d = stringArray(data)\n",
    "d2 = seatSim(d)\n",
    "while d2 != d\n",
    "    d = d2\n",
    "    d2 = seatSim(d)\n",
    "end\n",
    "sum([1 for x in d2 if x == OCCUPIED])"
   ]
  },
  {
   "cell_type": "markdown",
   "metadata": {},
   "source": [
    "# 12-01-2020"
   ]
  },
  {
   "cell_type": "markdown",
   "metadata": {},
   "source": [
    "--- Day 12: Rain Risk ---\n",
    "Your ferry made decent progress toward the island, but the storm came in faster than anyone expected. The ferry needs to take evasive actions!\n",
    "\n",
    "Unfortunately, the ship's navigation computer seems to be malfunctioning; rather than giving a route directly to safety, it produced extremely circuitous instructions. When the captain uses the PA system to ask if anyone can help, you quickly volunteer.\n",
    "\n",
    "The navigation instructions (your puzzle input) consists of a sequence of single-character actions paired with integer input values. After staring at them for a few minutes, you work out what they probably mean:\n",
    "```\n",
    "Action N means to move north by the given value.\n",
    "Action S means to move south by the given value.\n",
    "Action E means to move east by the given value.\n",
    "Action W means to move west by the given value.\n",
    "Action L means to turn left the given number of degrees.\n",
    "Action R means to turn right the given number of degrees.\n",
    "Action F means to move forward by the given value in the direction the ship is currently facing.\n",
    "```\n",
    "The ship starts by facing east. Only the L and R actions change the direction the ship is facing. (That is, if the ship is facing east and the next instruction is N10, the ship would move north 10 units, but would still move east if the following action were F.)\n",
    "\n",
    "For example:\n",
    "```\n",
    "F10\n",
    "N3\n",
    "F7\n",
    "R90\n",
    "F11\n",
    "```\n",
    "These instructions would be handled as follows:\n",
    "```\n",
    "F10 would move the ship 10 units east (because the ship starts by facing east) to east 10, north 0.\n",
    "N3 would move the ship 3 units north to east 10, north 3.\n",
    "F7 would move the ship another 7 units east (because the ship is still facing east) to east 17, north 3.\n",
    "R90 would cause the ship to turn right by 90 degrees and face south; it remains at east 17, north 3.\n",
    "F11 would move the ship 11 units south to east 17, south 8.\n",
    "At the end of these instructions, the ship's Manhattan distance (sum of the absolute values of its east/west position and its north/south position) from its starting position is 17 + 8 = 25.\n",
    "```\n",
    "Figure out where the navigation instructions lead. What is the Manhattan distance between that location and the ship's starting position?"
   ]
  },
  {
   "cell_type": "code",
   "execution_count": 44,
   "metadata": {},
   "outputs": [
    {
     "data": {
      "text/plain": "move (generic function with 2 methods)"
     },
     "execution_count": 44,
     "metadata": {},
     "output_type": "execute_result"
    }
   ],
   "source": [
    "mutable struct Ship\n",
    "    x:: Int\n",
    "    y:: Int\n",
    "    orientation:: Int\n",
    "end\n",
    "\n",
    "function move(ship::Ship, command::Char, value::Int)\n",
    "    if command == 'R'\n",
    "        ship.orientation = (ship.orientation + value + 360) % 360\n",
    "  \n",
    "    end\n",
    "    if command == 'L'\n",
    "        ship.orientation = (ship.orientation - value + 360) % 360\n",
    "\n",
    "    end\n",
    "    if command == 'N'\n",
    "        ship.y += value\n",
    "    end\n",
    "    if command == 'S'\n",
    "        ship.y -= value\n",
    "    end\n",
    "    if command == 'E'\n",
    "        ship.x += value\n",
    "    end\n",
    "    if command == 'W'\n",
    "        ship.x -= value\n",
    "    end\n",
    "    if command == 'F'\n",
    "        if ship.orientation == 90\n",
    "            ship.x += value\n",
    "        elseif ship.orientation == 180\n",
    "            ship.y -= value\n",
    "        elseif ship.orientation == 270\n",
    "            ship.x -= value\n",
    "        elseif ship.orientation == 0\n",
    "            ship.y += value\n",
    "        end\n",
    "    end\n",
    "    return ship\n",
    "end"
   ]
  },
  {
   "cell_type": "code",
   "execution_count": 45,
   "metadata": {},
   "outputs": [],
   "source": [
    "data = readlines(\"data/q12.txt\")\n",
    "commands = []\n",
    "for line in data\n",
    "    command = line[1]\n",
    "    value = parse(Int, line[2:end])\n",
    "    push!(commands, [command, value])\n",
    "end"
   ]
  },
  {
   "cell_type": "code",
   "execution_count": null,
   "metadata": {},
   "outputs": [],
   "source": []
  },
  {
   "cell_type": "code",
   "execution_count": 46,
   "metadata": {},
   "outputs": [],
   "source": [
    "s = Ship(0,0,90)\n",
    "for (command, value) in commands\n",
    "    move(s, command, value)\n",
    "end"
   ]
  },
  {
   "cell_type": "code",
   "execution_count": 47,
   "metadata": {},
   "outputs": [
    {
     "data": {
      "text/plain": "2458"
     },
     "execution_count": 47,
     "metadata": {},
     "output_type": "execute_result"
    }
   ],
   "source": [
    "abs(s.x) + abs(s.y)"
   ]
  },
  {
   "cell_type": "markdown",
   "metadata": {},
   "source": [
    "--- Part Two ---\n",
    "Before you can give the destination to the captain, you realize that the actual action meanings were printed on the back of the instructions the whole time.\n",
    "\n",
    "Almost all of the actions indicate how to move a waypoint which is relative to the ship's position:\n",
    "\n",
    "Action N means to move the waypoint north by the given value.\n",
    "Action S means to move the waypoint south by the given value.\n",
    "Action E means to move the waypoint east by the given value.\n",
    "Action W means to move the waypoint west by the given value.\n",
    "Action L means to rotate the waypoint around the ship left (counter-clockwise) the given number of degrees.\n",
    "Action R means to rotate the waypoint around the ship right (clockwise) the given number of degrees.\n",
    "Action F means to move forward to the waypoint a number of times equal to the given value.\n",
    "The waypoint starts 10 units east and 1 unit north relative to the ship. The waypoint is relative to the ship; that is, if the ship moves, the waypoint moves with it.\n",
    "\n",
    "For example, using the same instructions as above:\n",
    "\n",
    "F10 moves the ship to the waypoint 10 times (a total of 100 units east and 10 units north), leaving the ship at east 100, north 10. The waypoint stays 10 units east and 1 unit north of the ship.\n",
    "N3 moves the waypoint 3 units north to 10 units east and 4 units north of the ship. The ship remains at east 100, north 10.\n",
    "F7 moves the ship to the waypoint 7 times (a total of 70 units east and 28 units north), leaving the ship at east 170, north 38. The waypoint stays 10 units east and 4 units north of the ship.\n",
    "R90 rotates the waypoint around the ship clockwise 90 degrees, moving it to 4 units east and 10 units south of the ship. The ship remains at east 170, north 38.\n",
    "F11 moves the ship to the waypoint 11 times (a total of 44 units east and 110 units south), leaving the ship at east 214, south 72. The waypoint stays 4 units east and 10 units south of the ship.\n",
    "After these operations, the ship's Manhattan distance from its starting position is 214 + 72 = 286.\n",
    "\n",
    "Figure out where the navigation instructions actually lead. What is the Manhattan distance between that location and the ship's starting position?\n",
    "\n"
   ]
  },
  {
   "cell_type": "code",
   "execution_count": 83,
   "metadata": {},
   "outputs": [
    {
     "data": {
      "text/plain": "rot (generic function with 1 method)"
     },
     "execution_count": 83,
     "metadata": {},
     "output_type": "execute_result"
    }
   ],
   "source": [
    "mutable struct Ship\n",
    "    x:: Int\n",
    "    y:: Int\n",
    "    orientation:: Int\n",
    "end\n",
    "\n",
    "mutable struct Waypoint\n",
    "    x:: Int\n",
    "    y:: Int\n",
    "end\n",
    "\n",
    "function move(s::Ship, w::Waypoint, command::Char, value::Int)\n",
    "    v = [w.x-s.x, w.y-s.y]\n",
    "    if command == 'R'\n",
    "        v2 = rot(-value) * v\n",
    "        w.x = v2[1] + s.x\n",
    "        w.y = v2[2] + s.y\n",
    "    end\n",
    "    if command == 'L'\n",
    "       v2 = rot(value) * v\n",
    "       w.x = v2[1] + s.x\n",
    "       w.y = v2[2] + s.y\n",
    "    end\n",
    "    if command == 'N'\n",
    "        w.y += value\n",
    "    end\n",
    "    if command == 'S'\n",
    "        w.y -= value\n",
    "    end\n",
    "    if command == 'E'\n",
    "        w.x += value\n",
    "    end\n",
    "    if command == 'W'\n",
    "        w.x -= value\n",
    "    end\n",
    "    if command == 'F'\n",
    "        s.x = s.x + value * (w.x - s.x)\n",
    "        s.y = s.y + value * (w.y - s.y)\n",
    "        (w.x, w.y) = [s.x, s.y] + v\n",
    "    end\n",
    "    return s\n",
    "end\n",
    "\n",
    "function rot(d)\n",
    "    return [cosd(d) -sind(d); sind(d) cosd(d)]\n",
    "end"
   ]
  },
  {
   "cell_type": "code",
   "execution_count": 84,
   "metadata": {},
   "outputs": [],
   "source": [
    "s = Ship(0,0,90)\n",
    "w = Waypoint(10,1)\n",
    "for (command, value) in commands\n",
    "    move(s, w, command, value)\n",
    "end"
   ]
  },
  {
   "cell_type": "code",
   "execution_count": 85,
   "metadata": {},
   "outputs": [
    {
     "data": {
      "text/plain": "145117"
     },
     "execution_count": 85,
     "metadata": {},
     "output_type": "execute_result"
    }
   ],
   "source": [
    "abs(s.x) + abs(s.y)"
   ]
  },
  {
   "cell_type": "code",
   "execution_count": 82,
   "metadata": {},
   "outputs": [
    {
     "name": "stdout",
     "output_type": "stream",
     "text": [
      "c=F, v=10\n",
      "x=100, y=10\n",
      "wx=110, wy=11\n",
      "c=N, v=3\n",
      "x=100, y=10\n",
      "wx=110, wy=14\n",
      "c=F, v=7\n",
      "x=170, y=38\n",
      "wx=180, wy=42\n",
      "c=R, v=90\n",
      "[10, 4]\n",
      "[4.0, -10.0]\n",
      "x=170, y=38\n",
      "wx=174, wy=28\n",
      "c=F, v=11\n",
      "x=214, y=-72\n",
      "wx=218, wy=-82\n"
     ]
    }
   ],
   "source": [
    "c2 =[('F',10), ('N',3), ('F',7), ('R',90), ('F',11)]\n",
    "s = Ship(0,0,90)\n",
    "w = Waypoint(10,1)\n",
    "for (command, value) in c2\n",
    "    println(\"c=$command, v=$value\")\n",
    "    move(s, w, command, value)\n",
    "    println(\"x=$(s.x), y=$(s.y)\")\n",
    "    println(\"wx=$(w.x), wy=$(w.y)\")\n",
    "end"
   ]
  },
  {
   "cell_type": "code",
   "execution_count": null,
   "metadata": {},
   "outputs": [],
   "source": []
  },
  {
   "cell_type": "code",
   "execution_count": 19,
   "metadata": {},
   "outputs": [
    {
     "data": {
      "text/plain": "25"
     },
     "execution_count": 19,
     "metadata": {},
     "output_type": "execute_result"
    }
   ],
   "source": [
    "abs(s.x) + abs(s.y)"
   ]
  },
  {
   "cell_type": "code",
   "execution_count": 8,
   "metadata": {},
   "outputs": [
    {
     "data": {
      "text/plain": "Ship(10, 0, 90)"
     },
     "execution_count": 8,
     "metadata": {},
     "output_type": "execute_result"
    }
   ],
   "source": [
    "s = Ship(0,0,90)\n",
    "move(s,'F', 10)\n",
    "s"
   ]
  }
 ],
 "metadata": {
  "kernelspec": {
   "display_name": "Julia 1.5.3",
   "language": "julia",
   "name": "julia-1.5"
  },
  "language_info": {
   "file_extension": ".jl",
   "mimetype": "application/julia",
   "name": "julia",
   "version": "1.5.3"
  },
  "orig_nbformat": 2
 },
 "nbformat": 4,
 "nbformat_minor": 2
}