{
 "cells": [
  {
   "cell_type": "markdown",
   "metadata": {},
   "source": [
    "# Advent of Code 2021"
   ]
  },
  {
   "cell_type": "code",
   "execution_count": 1,
   "metadata": {},
   "outputs": [],
   "source": [
    "from aocd.models import Puzzle\n",
    "from aocd import submit\n",
    "import numpy as np\n",
    "import pandas as pd"
   ]
  },
  {
   "cell_type": "markdown",
   "metadata": {},
   "source": [
    "## Day 1 - Sonar Sweep"
   ]
  },
  {
   "cell_type": "code",
   "execution_count": 13,
   "metadata": {},
   "outputs": [],
   "source": [
    "puzzle = Puzzle(2021, 1)"
   ]
  },
  {
   "cell_type": "code",
   "execution_count": 12,
   "metadata": {},
   "outputs": [
    {
     "data": {
      "text/plain": [
       "7"
      ]
     },
     "execution_count": 12,
     "metadata": {},
     "output_type": "execute_result"
    }
   ],
   "source": [
    "test = np.array([199,200,208,210,200,207,240,269,290,263])\n",
    "gt = np.roll(test,-1) > test\n",
    "sum(gt[:-1])"
   ]
  },
  {
   "cell_type": "code",
   "execution_count": 18,
   "metadata": {},
   "outputs": [],
   "source": [
    "data = puzzle.input_data\n",
    "data = np.array([int(x) for x in data.splitlines()])"
   ]
  },
  {
   "cell_type": "code",
   "execution_count": 20,
   "metadata": {},
   "outputs": [],
   "source": [
    "gt = np.roll(data, -1) > data\n",
    "answer = sum(gt[:-1])"
   ]
  },
  {
   "cell_type": "code",
   "execution_count": 22,
   "metadata": {},
   "outputs": [
    {
     "name": "stderr",
     "output_type": "stream",
     "text": [
      "answer a: None\n",
      "submitting for part a\n"
     ]
    },
    {
     "name": "stdout",
     "output_type": "stream",
     "text": [
      "\u001b[32mThat's the right answer!  You are one gold star closer to finding the sleigh keys. [Continue to Part Two]\u001b[0m\n"
     ]
    },
    {
     "data": {
      "text/plain": [
       "<Response [200]>"
      ]
     },
     "execution_count": 22,
     "metadata": {},
     "output_type": "execute_result"
    }
   ],
   "source": [
    "submit(answer, day=1, year=2021)"
   ]
  },
  {
   "cell_type": "code",
   "execution_count": 24,
   "metadata": {},
   "outputs": [],
   "source": [
    "series = pd.Series(data)\n",
    "roll = series.rolling(3).sum()\n",
    "answer = (roll.diff() > 0).sum()"
   ]
  },
  {
   "cell_type": "code",
   "execution_count": null,
   "metadata": {},
   "outputs": [],
   "source": [
    "submit(answer, 'b', 1, 2021)"
   ]
  },
  {
   "cell_type": "markdown",
   "metadata": {},
   "source": [
    "## Day 2 - Dive!"
   ]
  },
  {
   "cell_type": "code",
   "execution_count": 3,
   "metadata": {},
   "outputs": [],
   "source": [
    "puzzle = Puzzle(2021, 2)\n",
    "data = puzzle.input_data"
   ]
  },
  {
   "cell_type": "code",
   "execution_count": 10,
   "metadata": {},
   "outputs": [],
   "source": [
    "class Diver:\n",
    "\tdef __init__(self, puzzle = 'a'):\n",
    "\t\tself.h = 0\n",
    "\t\tself.v = 0\n",
    "\t\tself.aim = 0\n",
    "\t\tself.puzzle = puzzle\n",
    "\n",
    "\tdef parse_line(self, line):\n",
    "\t\tdirection, value = line.split(\" \")\n",
    "\t\tvalue = int(value)\n",
    "\t\tif direction == 'forward':\n",
    "\t\t\tself.h += value\n",
    "\t\t\tif self.puzzle == 'b':\n",
    "\t\t\t\tself.v += self.aim * value\n",
    "\t\tif direction == 'backward':\n",
    "\t\t\tself.h -= value\n",
    "\t\tif direction == 'up':\n",
    "\t\t\tif self.puzzle == 'a':\n",
    "\t\t\t\tself.v -= value\n",
    "\t\t\telse:\n",
    "\t\t\t\tself.aim -= value\n",
    "\t\tif direction == 'down':\n",
    "\t\t\tif self.puzzle == 'a':\n",
    "\t\t\t\tself.v += value\n",
    "\t\t\telse:\n",
    "\t\t\t\tself.aim += value"
   ]
  },
  {
   "cell_type": "code",
   "execution_count": 8,
   "metadata": {},
   "outputs": [],
   "source": [
    "d = Diver()\n",
    "for row in data.splitlines():\n",
    "\td.parse_line(row)\n",
    "answer = d.h * d.v"
   ]
  },
  {
   "cell_type": "code",
   "execution_count": 9,
   "metadata": {},
   "outputs": [
    {
     "name": "stdout",
     "output_type": "stream",
     "text": [
      "\u001b[32mThat's the right answer!  You are one gold star closer to finding the sleigh keys. [Continue to Part Two]\u001b[0m\n"
     ]
    },
    {
     "data": {
      "text/plain": [
       "<Response [200]>"
      ]
     },
     "execution_count": 9,
     "metadata": {},
     "output_type": "execute_result"
    }
   ],
   "source": [
    "submit(answer, 'a', 2, 2021)"
   ]
  },
  {
   "cell_type": "code",
   "execution_count": 11,
   "metadata": {},
   "outputs": [],
   "source": [
    "d = Diver('b')\n",
    "for row in data.splitlines():\n",
    "\td.parse_line(row)\n",
    "answer = d.h * d.v"
   ]
  },
  {
   "cell_type": "code",
   "execution_count": 12,
   "metadata": {},
   "outputs": [
    {
     "name": "stdout",
     "output_type": "stream",
     "text": [
      "\u001b[32mThat's the right answer!  You are one gold star closer to finding the sleigh keys.You have completed Day 2! You can [Shareon\n",
      "  Twitter\n",
      "Mastodon] this victory or [Return to Your Advent Calendar].\u001b[0m\n"
     ]
    },
    {
     "data": {
      "text/plain": [
       "<Response [200]>"
      ]
     },
     "execution_count": 12,
     "metadata": {},
     "output_type": "execute_result"
    }
   ],
   "source": [
    "submit(answer, 'b', 2, 2021)"
   ]
  },
  {
   "cell_type": "markdown",
   "metadata": {},
   "source": [
    "## Day 3 - Binary Diagnostic"
   ]
  },
  {
   "cell_type": "code",
   "execution_count": 2,
   "metadata": {},
   "outputs": [],
   "source": [
    "puzzle = Puzzle(2021, 3)\n",
    "data = puzzle.input_data"
   ]
  },
  {
   "cell_type": "code",
   "execution_count": 3,
   "metadata": {},
   "outputs": [],
   "source": [
    "arr = np.array([[int(x) for x in line] for line in data.splitlines()])"
   ]
  },
  {
   "cell_type": "code",
   "execution_count": 4,
   "metadata": {},
   "outputs": [],
   "source": [
    "arr_df = pd.DataFrame(arr)"
   ]
  },
  {
   "cell_type": "code",
   "execution_count": 5,
   "metadata": {},
   "outputs": [],
   "source": [
    "def to_decimal(x):\n",
    "\treturn int(\"\".join([str(int(_)) for _ in x]),2)"
   ]
  },
  {
   "cell_type": "code",
   "execution_count": 6,
   "metadata": {},
   "outputs": [],
   "source": [
    "m = arr_df.mode(axis=0).astype(bool).values[0]\n",
    "gamma = to_decimal(m)\n",
    "epsilon = to_decimal(~m)"
   ]
  },
  {
   "cell_type": "code",
   "execution_count": 9,
   "metadata": {},
   "outputs": [],
   "source": [
    "answer = gamma * epsilon"
   ]
  },
  {
   "cell_type": "code",
   "execution_count": 61,
   "metadata": {},
   "outputs": [
    {
     "name": "stdout",
     "output_type": "stream",
     "text": [
      "\u001b[32mThat's the right answer!  You are one gold star closer to finding the sleigh keys. [Continue to Part Two]\u001b[0m\n"
     ]
    },
    {
     "data": {
      "text/plain": [
       "<Response [200]>"
      ]
     },
     "execution_count": 61,
     "metadata": {},
     "output_type": "execute_result"
    }
   ],
   "source": [
    "submit(answer, 'a',3,2021)"
   ]
  },
  {
   "cell_type": "code",
   "execution_count": 8,
   "metadata": {},
   "outputs": [],
   "source": [
    "most_common_per_bit = m.astype(int)\n",
    "least_common_per_but = (~m).astype(int)\n"
   ]
  },
  {
   "cell_type": "code",
   "execution_count": 47,
   "metadata": {},
   "outputs": [],
   "source": [
    "s = np.array([all(x) for x in (arr == most_common_per_bit)])"
   ]
  },
  {
   "cell_type": "code",
   "execution_count": 153,
   "metadata": {},
   "outputs": [],
   "source": [
    "def f(array,i, most=True):\n",
    "\tif len(array) == 1:\n",
    "\t\treturn to_decimal(array[0])\n",
    "\telse:\n",
    "\t\ta_df = pd.DataFrame(array)\n",
    "\t\tequals = a_df.sum(axis=0) == len(a_df)/2\n",
    "\t\tmask = a_df.mode(axis=0).astype(bool).values[0]\n",
    "\t\tmask[equals] = True\n",
    "\t\tif not most:\n",
    "\t\t\tmask = ~mask\n",
    "\t\tvalue = int(mask[i])\n",
    "\t\tl = array[:,i] == value\n",
    "\t\tarray = array[l]\n",
    "\t\treturn f(array, i+1, most)"
   ]
  },
  {
   "cell_type": "code",
   "execution_count": 154,
   "metadata": {},
   "outputs": [],
   "source": [
    "def get_number(arr):\n",
    "\treturn [f(arr.copy(),0, sign) for sign in [True, False]]\n",
    "\t\t\t\t"
   ]
  },
  {
   "cell_type": "code",
   "execution_count": 157,
   "metadata": {},
   "outputs": [],
   "source": [
    "a = get_number(arr)"
   ]
  },
  {
   "cell_type": "code",
   "execution_count": 158,
   "metadata": {},
   "outputs": [],
   "source": [
    "answer = a[0] * a[1]"
   ]
  },
  {
   "cell_type": "code",
   "execution_count": 159,
   "metadata": {},
   "outputs": [
    {
     "data": {
      "text/plain": [
       "4996233"
      ]
     },
     "execution_count": 159,
     "metadata": {},
     "output_type": "execute_result"
    }
   ],
   "source": [
    "answer"
   ]
  },
  {
   "cell_type": "code",
   "execution_count": 160,
   "metadata": {},
   "outputs": [
    {
     "name": "stdout",
     "output_type": "stream",
     "text": [
      "\u001b[32mThat's the right answer!  You are one gold star closer to finding the sleigh keys.You have completed Day 3! You can [Shareon\n",
      "  Twitter\n",
      "Mastodon] this victory or [Return to Your Advent Calendar].\u001b[0m\n"
     ]
    },
    {
     "data": {
      "text/plain": [
       "<Response [200]>"
      ]
     },
     "execution_count": 160,
     "metadata": {},
     "output_type": "execute_result"
    }
   ],
   "source": [
    "submit(answer, 'b',3, 2021)"
   ]
  },
  {
   "cell_type": "markdown",
   "metadata": {},
   "source": [
    "## Day 4 - Bingo"
   ]
  },
  {
   "cell_type": "code",
   "execution_count": 161,
   "metadata": {},
   "outputs": [],
   "source": [
    "puzzle = Puzzle(2021, 4)\n",
    "data = puzzle.input_data"
   ]
  },
  {
   "cell_type": "code",
   "execution_count": 165,
   "metadata": {},
   "outputs": [],
   "source": [
    "l = data.splitlines()\n",
    "numbers = l[0]"
   ]
  },
  {
   "cell_type": "code",
   "execution_count": 254,
   "metadata": {},
   "outputs": [],
   "source": [
    "class Board:\n",
    "\tdef __init__(self, string):\n",
    "\t\tself.arr = np.array([np.fromstring(s, sep=\" \") for s in string]).astype(int)\n",
    "\t\tself.mask = np.zeros_like(self.arr).astype(bool)\n",
    "\t\tself.last_value = 0\n",
    "\tdef add_number(self, value):\n",
    "\t\tself.mask = self.mask | (self.arr == value)\n",
    "\t\tself.last_value = value\n",
    "\t\n",
    "\t@property\n",
    "\tdef won(self):\n",
    "\t\trow_counts = any([all(x) for x in self.mask])\n",
    "\t\tcol_counts = any([all(x) for x in self.mask.T])\n",
    "\t\treturn row_counts | col_counts\n",
    "\t\t\n",
    "\tdef unmarked_sum(self):\n",
    "\t\treturn self.arr[~self.mask].sum() * self.last_value"
   ]
  },
  {
   "cell_type": "code",
   "execution_count": 230,
   "metadata": {},
   "outputs": [],
   "source": [
    "numbers = np.fromstring(l[0], sep=',').astype(int)"
   ]
  },
  {
   "cell_type": "code",
   "execution_count": 274,
   "metadata": {},
   "outputs": [],
   "source": [
    "def make_boards():\n",
    "\tboards = []\n",
    "\tfor i in range(100):\n",
    "\t\ts = 2 + (i*6)\n",
    "\t\te = s+5\n",
    "\t\tv = l[s:e]\n",
    "\t\tb = Board(v)\n",
    "\t\tboards.append(b)\n",
    "\treturn boards"
   ]
  },
  {
   "cell_type": "code",
   "execution_count": 256,
   "metadata": {},
   "outputs": [
    {
     "name": "stdout",
     "output_type": "stream",
     "text": [
      "82440\n",
      "39388\n",
      "66123\n",
      "80352\n",
      "56916\n",
      "8370\n",
      "25947\n",
      "28070\n",
      "27268\n",
      "25664\n",
      "0\n",
      "51590\n",
      "57021\n",
      "21582\n",
      "1308\n",
      "49704\n",
      "15696\n",
      "56898\n",
      "49005\n",
      "38115\n",
      "40590\n",
      "33594\n",
      "6108\n",
      "8340\n",
      "15568\n",
      "32804\n",
      "35584\n",
      "52820\n",
      "50596\n",
      "34435\n",
      "30070\n",
      "10670\n",
      "25705\n",
      "20286\n",
      "20670\n",
      "42930\n",
      "34125\n",
      "39130\n",
      "33670\n",
      "22344\n",
      "22850\n",
      "7902\n",
      "7463\n",
      "32047\n",
      "5707\n",
      "27270\n",
      "30300\n",
      "24240\n",
      "10605\n",
      "25755\n",
      "23556\n",
      "24915\n",
      "31280\n",
      "29440\n",
      "10140\n",
      "12168\n",
      "13677\n",
      "873\n",
      "6890\n",
      "11856\n",
      "17472\n",
      "4575\n",
      "7560\n",
      "3240\n",
      "4440\n",
      "11280\n",
      "840\n",
      "3375\n",
      "4350\n",
      "675\n",
      "5850\n",
      "4875\n",
      "5400\n",
      "450\n",
      "854\n",
      "0\n",
      "0\n",
      "0\n",
      "0\n",
      "0\n"
     ]
    }
   ],
   "source": [
    "boards = make_boards()\n",
    "for n in numbers:\n",
    "\tfor b in boards:\n",
    "\t\tb.add_number(n)\n",
    "\t\tif b.won:\n",
    "\t\t\tanswer = b.unmarked_sum()\n",
    "\t\t"
   ]
  },
  {
   "cell_type": "code",
   "execution_count": 257,
   "metadata": {},
   "outputs": [
    {
     "name": "stdout",
     "output_type": "stream",
     "text": [
      "\u001b[32mThat's the right answer!  You are one gold star closer to finding the sleigh keys. [Continue to Part Two]\u001b[0m\n"
     ]
    },
    {
     "data": {
      "text/plain": [
       "<Response [200]>"
      ]
     },
     "execution_count": 257,
     "metadata": {},
     "output_type": "execute_result"
    }
   ],
   "source": [
    "submit(82440, 'a', 4, 2021)"
   ]
  },
  {
   "cell_type": "code",
   "execution_count": 276,
   "metadata": {},
   "outputs": [],
   "source": [
    "won_boards = []\n",
    "boards = make_boards()\n",
    "for n in numbers:\n",
    "\tfor j,b in enumerate(boards):\n",
    "\t\tif b not in won_boards:\n",
    "\t\t\tb.add_number(n)\n",
    "\t\t\tif b.won:\n",
    "\t\t\t\twon_boards.append(b)"
   ]
  },
  {
   "cell_type": "code",
   "execution_count": 277,
   "metadata": {},
   "outputs": [
    {
     "data": {
      "text/plain": [
       "100"
      ]
     },
     "execution_count": 277,
     "metadata": {},
     "output_type": "execute_result"
    }
   ],
   "source": [
    "len(won_boards)"
   ]
  },
  {
   "cell_type": "code",
   "execution_count": 278,
   "metadata": {},
   "outputs": [
    {
     "data": {
      "text/plain": [
       "20774"
      ]
     },
     "execution_count": 278,
     "metadata": {},
     "output_type": "execute_result"
    }
   ],
   "source": [
    "won_boards[-1].unmarked_sum()"
   ]
  },
  {
   "cell_type": "code",
   "execution_count": 279,
   "metadata": {},
   "outputs": [
    {
     "name": "stdout",
     "output_type": "stream",
     "text": [
      "\u001b[32mThat's the right answer!  You are one gold star closer to finding the sleigh keys.You have completed Day 4! You can [Shareon\n",
      "  Twitter\n",
      "Mastodon] this victory or [Return to Your Advent Calendar].\u001b[0m\n"
     ]
    },
    {
     "data": {
      "text/plain": [
       "<Response [200]>"
      ]
     },
     "execution_count": 279,
     "metadata": {},
     "output_type": "execute_result"
    }
   ],
   "source": [
    "submit(20774,'b',4,2021)"
   ]
  },
  {
   "cell_type": "markdown",
   "metadata": {},
   "source": [
    "## Day 5 - Hydrothermal Venture"
   ]
  },
  {
   "cell_type": "code",
   "execution_count": 280,
   "metadata": {},
   "outputs": [],
   "source": [
    "puzzle = Puzzle(2021,5)\n",
    "data = puzzle.input_data"
   ]
  },
  {
   "cell_type": "code",
   "execution_count": 288,
   "metadata": {},
   "outputs": [],
   "source": [
    "def parse_coords(x):\n",
    "\tcoords = x.split(\" \")\n",
    "\tx1, y1 = np.fromstring(coords[0],sep=',').astype(int)\n",
    "\tx2, y2 = np.fromstring(coords[-1],sep=',').astype(int)\n",
    "\treturn np.array([x1,y1,x2,y2])"
   ]
  },
  {
   "cell_type": "code",
   "execution_count": 290,
   "metadata": {},
   "outputs": [],
   "source": [
    "coords = np.array([parse_coords(x) for x in data.splitlines()])"
   ]
  },
  {
   "cell_type": "code",
   "execution_count": 359,
   "metadata": {},
   "outputs": [],
   "source": [
    "class Grid:\n",
    "\tdef __init__(self,size, include_diags=False):\n",
    "\t\tself.include_diags = include_diags\n",
    "\t\tself.grid = np.zeros(shape=(size,size))\n",
    "\n",
    "\tdef add_coords(self,x1,y1,x2,y2):\n",
    "\t\tif x1 == x2:\n",
    "\t\t\ts,e =self.get_bounds(y1,y2)\n",
    "\t\t\tself.grid[x1,s:e] += 1\n",
    "\t\telif y1 == y2:\n",
    "\t\t\ts,e = self.get_bounds(x1,x2)\n",
    "\t\t\tself.grid[s:e, y1] += 1\n",
    "\t\telif self.include_diags:\n",
    "\t\t\txm = min(x1,x2)\n",
    "\t\t\tym = min(y1,y2)\n",
    "\t\t\td = abs(x2-x1)\n",
    "\t\t\txd = x2-x1\n",
    "\t\t\tyd = y2-y1\n",
    "\t\t\tfor i in range(d+1):\n",
    "\t\t\t\tself.grid[x1+i,y1+i] += 1\n",
    "\n",
    "\t@staticmethod\n",
    "\tdef get_bounds(x,y):\n",
    "\t\tif x < y:\n",
    "\t\t\ts = x\n",
    "\t\t\te = y + 1\n",
    "\t\telse:\n",
    "\t\t\ts = y\n",
    "\t\t\te = x + 1\n",
    "\t\treturn s,e\n"
   ]
  },
  {
   "cell_type": "code",
   "execution_count": 360,
   "metadata": {},
   "outputs": [],
   "source": [
    "g = Grid(1000)\n",
    "for c in coords:\n",
    "\tg.add_coords(*c)"
   ]
  },
  {
   "cell_type": "code",
   "execution_count": 331,
   "metadata": {},
   "outputs": [],
   "source": [
    "answer = len(g.grid[g.grid >= 2].flatten())"
   ]
  },
  {
   "cell_type": "code",
   "execution_count": 332,
   "metadata": {},
   "outputs": [
    {
     "data": {
      "text/plain": [
       "4873"
      ]
     },
     "execution_count": 332,
     "metadata": {},
     "output_type": "execute_result"
    }
   ],
   "source": [
    "answer"
   ]
  },
  {
   "cell_type": "code",
   "execution_count": 333,
   "metadata": {},
   "outputs": [
    {
     "name": "stdout",
     "output_type": "stream",
     "text": [
      "\u001b[32mThat's the right answer!  You are one gold star closer to finding the sleigh keys. [Continue to Part Two]\u001b[0m\n"
     ]
    },
    {
     "data": {
      "text/plain": [
       "<Response [200]>"
      ]
     },
     "execution_count": 333,
     "metadata": {},
     "output_type": "execute_result"
    }
   ],
   "source": [
    "submit(answer, 'a', 5, 2021)"
   ]
  },
  {
   "cell_type": "code",
   "execution_count": 361,
   "metadata": {},
   "outputs": [],
   "source": [
    "g = Grid(1000, include_diags=True)\n",
    "for c in coords:\n",
    "\tg.add_coords(*c)\n",
    "answer = len(g.grid[g.grid >= 2].flatten())"
   ]
  },
  {
   "cell_type": "code",
   "execution_count": 362,
   "metadata": {},
   "outputs": [
    {
     "data": {
      "text/plain": [
       "21536"
      ]
     },
     "execution_count": 362,
     "metadata": {},
     "output_type": "execute_result"
    }
   ],
   "source": [
    "answer"
   ]
  },
  {
   "cell_type": "code",
   "execution_count": 351,
   "metadata": {},
   "outputs": [
    {
     "name": "stderr",
     "output_type": "stream",
     "text": [
      "wrong answer: 21536\n"
     ]
    },
    {
     "name": "stdout",
     "output_type": "stream",
     "text": [
      "\u001b[31mThat's not the right answer; your answer is too high.  If you're stuck, make sure you're using the full input data; there are also some general tips on the about page, or you can ask for hints on the subreddit.  Please wait one minute before trying again. (You guessed 21536.) [Return to Day 5]\u001b[0m\n"
     ]
    },
    {
     "data": {
      "text/plain": [
       "<Response [200]>"
      ]
     },
     "execution_count": 351,
     "metadata": {},
     "output_type": "execute_result"
    }
   ],
   "source": [
    "submit(answer,'b',5)"
   ]
  },
  {
   "cell_type": "code",
   "execution_count": 346,
   "metadata": {},
   "outputs": [],
   "source": [
    "g = Grid(10, include_diags=True)"
   ]
  },
  {
   "cell_type": "code",
   "execution_count": 354,
   "metadata": {},
   "outputs": [],
   "source": [
    "t = \"\"\"0,9 -> 5,9\n",
    "8,0 -> 0,8\n",
    "9,4 -> 3,4\n",
    "2,2 -> 2,1\n",
    "7,0 -> 7,4\n",
    "6,4 -> 2,0\n",
    "0,9 -> 2,9\n",
    "3,4 -> 1,4\n",
    "0,0 -> 8,8\n",
    "5,5 -> 8,2\"\"\"\n",
    "test_coords = np.array([parse_coords(x) for x in t.splitlines()])\n",
    "g = Grid(10, include_diags=True)\n",
    "for c in test_coords:\n",
    "\tg.add_coords(*c)"
   ]
  },
  {
   "cell_type": "code",
   "execution_count": 358,
   "metadata": {},
   "outputs": [
    {
     "data": {
      "text/plain": [
       "33.0"
      ]
     },
     "execution_count": 358,
     "metadata": {},
     "output_type": "execute_result"
    }
   ],
   "source": [
    "g.grid[g.grid >=2].sum()"
   ]
  },
  {
   "cell_type": "code",
   "execution_count": 363,
   "metadata": {},
   "outputs": [],
   "source": [
    "g = Grid(10, include_diags=True)"
   ]
  },
  {
   "cell_type": "code",
   "execution_count": 364,
   "metadata": {},
   "outputs": [],
   "source": [
    "g.add_coords(1,1,3,3)\n"
   ]
  },
  {
   "cell_type": "code",
   "execution_count": 366,
   "metadata": {},
   "outputs": [],
   "source": [
    "g.add_coords(9,7,7,9)"
   ]
  },
  {
   "cell_type": "code",
   "execution_count": 367,
   "metadata": {},
   "outputs": [
    {
     "data": {
      "text/plain": [
       "array([[0., 0., 0., 0., 0., 0., 0., 0., 0., 0.],\n",
       "       [0., 1., 0., 0., 0., 0., 0., 0., 0., 0.],\n",
       "       [0., 0., 1., 0., 0., 0., 0., 0., 0., 0.],\n",
       "       [0., 0., 0., 1., 0., 0., 0., 0., 0., 0.],\n",
       "       [0., 0., 0., 0., 0., 0., 0., 0., 0., 0.],\n",
       "       [0., 0., 0., 0., 0., 0., 0., 0., 0., 0.],\n",
       "       [0., 0., 0., 0., 0., 0., 0., 0., 0., 0.],\n",
       "       [0., 0., 0., 0., 0., 0., 0., 1., 0., 0.],\n",
       "       [0., 0., 0., 0., 0., 0., 0., 0., 1., 0.],\n",
       "       [0., 0., 0., 0., 0., 0., 0., 0., 0., 1.]])"
      ]
     },
     "execution_count": 367,
     "metadata": {},
     "output_type": "execute_result"
    }
   ],
   "source": [
    "g.grid"
   ]
  },
  {
   "cell_type": "code",
   "execution_count": null,
   "metadata": {},
   "outputs": [],
   "source": []
  }
 ],
 "metadata": {
  "interpreter": {
   "hash": "31f2aee4e71d21fbe5cf8b01ff0e069b9275f58929596ceb00d14d90e3e16cd6"
  },
  "kernelspec": {
   "display_name": "Python 3.8.10 64-bit",
   "language": "python",
   "name": "python3"
  },
  "language_info": {
   "codemirror_mode": {
    "name": "ipython",
    "version": 3
   },
   "file_extension": ".py",
   "mimetype": "text/x-python",
   "name": "python",
   "nbconvert_exporter": "python",
   "pygments_lexer": "ipython3",
   "version": "3.8.10"
  },
  "orig_nbformat": 4
 },
 "nbformat": 4,
 "nbformat_minor": 2
}
