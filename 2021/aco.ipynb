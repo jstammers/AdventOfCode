{
 "cells": [
  {
   "cell_type": "markdown",
   "metadata": {},
   "source": [
    "# Advent of Code 2021"
   ]
  },
  {
   "cell_type": "code",
   "execution_count": 1,
   "metadata": {},
   "outputs": [],
   "source": [
    "from aocd.models import Puzzle\n",
    "from aocd import submit\n",
    "import numpy as np\n",
    "import pandas as pd"
   ]
  },
  {
   "cell_type": "markdown",
   "metadata": {},
   "source": [
    "## Day 1 - Sonar Sweep"
   ]
  },
  {
   "cell_type": "code",
   "execution_count": 13,
   "metadata": {},
   "outputs": [],
   "source": [
    "puzzle = Puzzle(2021, 1)"
   ]
  },
  {
   "cell_type": "code",
   "execution_count": 12,
   "metadata": {},
   "outputs": [
    {
     "data": {
      "text/plain": [
       "7"
      ]
     },
     "execution_count": 12,
     "metadata": {},
     "output_type": "execute_result"
    }
   ],
   "source": [
    "test = np.array([199,200,208,210,200,207,240,269,290,263])\n",
    "gt = np.roll(test,-1) > test\n",
    "sum(gt[:-1])"
   ]
  },
  {
   "cell_type": "code",
   "execution_count": 18,
   "metadata": {},
   "outputs": [],
   "source": [
    "data = puzzle.input_data\n",
    "data = np.array([int(x) for x in data.splitlines()])"
   ]
  },
  {
   "cell_type": "code",
   "execution_count": 20,
   "metadata": {},
   "outputs": [],
   "source": [
    "gt = np.roll(data, -1) > data\n",
    "answer = sum(gt[:-1])"
   ]
  },
  {
   "cell_type": "code",
   "execution_count": 22,
   "metadata": {},
   "outputs": [
    {
     "name": "stderr",
     "output_type": "stream",
     "text": [
      "answer a: None\n",
      "submitting for part a\n"
     ]
    },
    {
     "name": "stdout",
     "output_type": "stream",
     "text": [
      "\u001b[32mThat's the right answer!  You are one gold star closer to finding the sleigh keys. [Continue to Part Two]\u001b[0m\n"
     ]
    },
    {
     "data": {
      "text/plain": [
       "<Response [200]>"
      ]
     },
     "execution_count": 22,
     "metadata": {},
     "output_type": "execute_result"
    }
   ],
   "source": [
    "submit(answer, day=1, year=2021)"
   ]
  },
  {
   "cell_type": "code",
   "execution_count": 24,
   "metadata": {},
   "outputs": [],
   "source": [
    "series = pd.Series(data)\n",
    "roll = series.rolling(3).sum()\n",
    "answer = (roll.diff() > 0).sum()"
   ]
  },
  {
   "cell_type": "code",
   "execution_count": null,
   "metadata": {},
   "outputs": [],
   "source": [
    "submit(answer, 'b', 1, 2021)"
   ]
  },
  {
   "cell_type": "markdown",
   "metadata": {},
   "source": [
    "## Day 2 - Dive!"
   ]
  },
  {
   "cell_type": "code",
   "execution_count": 3,
   "metadata": {},
   "outputs": [],
   "source": [
    "puzzle = Puzzle(2021, 2)\n",
    "data = puzzle.input_data"
   ]
  },
  {
   "cell_type": "code",
   "execution_count": 10,
   "metadata": {},
   "outputs": [],
   "source": [
    "class Diver:\n",
    "\tdef __init__(self, puzzle = 'a'):\n",
    "\t\tself.h = 0\n",
    "\t\tself.v = 0\n",
    "\t\tself.aim = 0\n",
    "\t\tself.puzzle = puzzle\n",
    "\n",
    "\tdef parse_line(self, line):\n",
    "\t\tdirection, value = line.split(\" \")\n",
    "\t\tvalue = int(value)\n",
    "\t\tif direction == 'forward':\n",
    "\t\t\tself.h += value\n",
    "\t\t\tif self.puzzle == 'b':\n",
    "\t\t\t\tself.v += self.aim * value\n",
    "\t\tif direction == 'backward':\n",
    "\t\t\tself.h -= value\n",
    "\t\tif direction == 'up':\n",
    "\t\t\tif self.puzzle == 'a':\n",
    "\t\t\t\tself.v -= value\n",
    "\t\t\telse:\n",
    "\t\t\t\tself.aim -= value\n",
    "\t\tif direction == 'down':\n",
    "\t\t\tif self.puzzle == 'a':\n",
    "\t\t\t\tself.v += value\n",
    "\t\t\telse:\n",
    "\t\t\t\tself.aim += value"
   ]
  },
  {
   "cell_type": "code",
   "execution_count": 8,
   "metadata": {},
   "outputs": [],
   "source": [
    "d = Diver()\n",
    "for row in data.splitlines():\n",
    "\td.parse_line(row)\n",
    "answer = d.h * d.v"
   ]
  },
  {
   "cell_type": "code",
   "execution_count": 9,
   "metadata": {},
   "outputs": [
    {
     "name": "stdout",
     "output_type": "stream",
     "text": [
      "\u001b[32mThat's the right answer!  You are one gold star closer to finding the sleigh keys. [Continue to Part Two]\u001b[0m\n"
     ]
    },
    {
     "data": {
      "text/plain": [
       "<Response [200]>"
      ]
     },
     "execution_count": 9,
     "metadata": {},
     "output_type": "execute_result"
    }
   ],
   "source": [
    "submit(answer, 'a', 2, 2021)"
   ]
  },
  {
   "cell_type": "code",
   "execution_count": 11,
   "metadata": {},
   "outputs": [],
   "source": [
    "d = Diver('b')\n",
    "for row in data.splitlines():\n",
    "\td.parse_line(row)\n",
    "answer = d.h * d.v"
   ]
  },
  {
   "cell_type": "code",
   "execution_count": 12,
   "metadata": {},
   "outputs": [
    {
     "name": "stdout",
     "output_type": "stream",
     "text": [
      "\u001b[32mThat's the right answer!  You are one gold star closer to finding the sleigh keys.You have completed Day 2! You can [Shareon\n",
      "  Twitter\n",
      "Mastodon] this victory or [Return to Your Advent Calendar].\u001b[0m\n"
     ]
    },
    {
     "data": {
      "text/plain": [
       "<Response [200]>"
      ]
     },
     "execution_count": 12,
     "metadata": {},
     "output_type": "execute_result"
    }
   ],
   "source": [
    "submit(answer, 'b', 2, 2021)"
   ]
  },
  {
   "cell_type": "markdown",
   "metadata": {},
   "source": [
    "## Day 3 - Binary Diagnostic"
   ]
  },
  {
   "cell_type": "code",
   "execution_count": 2,
   "metadata": {},
   "outputs": [],
   "source": [
    "puzzle = Puzzle(2021, 3)\n",
    "data = puzzle.input_data"
   ]
  },
  {
   "cell_type": "code",
   "execution_count": 3,
   "metadata": {},
   "outputs": [],
   "source": [
    "arr = np.array([[int(x) for x in line] for line in data.splitlines()])"
   ]
  },
  {
   "cell_type": "code",
   "execution_count": 4,
   "metadata": {},
   "outputs": [],
   "source": [
    "arr_df = pd.DataFrame(arr)"
   ]
  },
  {
   "cell_type": "code",
   "execution_count": 5,
   "metadata": {},
   "outputs": [],
   "source": [
    "def to_decimal(x):\n",
    "\treturn int(\"\".join([str(int(_)) for _ in x]),2)"
   ]
  },
  {
   "cell_type": "code",
   "execution_count": 6,
   "metadata": {},
   "outputs": [],
   "source": [
    "m = arr_df.mode(axis=0).astype(bool).values[0]\n",
    "gamma = to_decimal(m)\n",
    "epsilon = to_decimal(~m)"
   ]
  },
  {
   "cell_type": "code",
   "execution_count": 9,
   "metadata": {},
   "outputs": [],
   "source": [
    "answer = gamma * epsilon"
   ]
  },
  {
   "cell_type": "code",
   "execution_count": 61,
   "metadata": {},
   "outputs": [
    {
     "name": "stdout",
     "output_type": "stream",
     "text": [
      "\u001b[32mThat's the right answer!  You are one gold star closer to finding the sleigh keys. [Continue to Part Two]\u001b[0m\n"
     ]
    },
    {
     "data": {
      "text/plain": [
       "<Response [200]>"
      ]
     },
     "execution_count": 61,
     "metadata": {},
     "output_type": "execute_result"
    }
   ],
   "source": [
    "submit(answer, 'a',3,2021)"
   ]
  },
  {
   "cell_type": "code",
   "execution_count": 8,
   "metadata": {},
   "outputs": [],
   "source": [
    "most_common_per_bit = m.astype(int)\n",
    "least_common_per_but = (~m).astype(int)\n"
   ]
  },
  {
   "cell_type": "code",
   "execution_count": 47,
   "metadata": {},
   "outputs": [],
   "source": [
    "s = np.array([all(x) for x in (arr == most_common_per_bit)])"
   ]
  },
  {
   "cell_type": "code",
   "execution_count": 153,
   "metadata": {},
   "outputs": [],
   "source": [
    "def f(array,i, most=True):\n",
    "\tif len(array) == 1:\n",
    "\t\treturn to_decimal(array[0])\n",
    "\telse:\n",
    "\t\ta_df = pd.DataFrame(array)\n",
    "\t\tequals = a_df.sum(axis=0) == len(a_df)/2\n",
    "\t\tmask = a_df.mode(axis=0).astype(bool).values[0]\n",
    "\t\tmask[equals] = True\n",
    "\t\tif not most:\n",
    "\t\t\tmask = ~mask\n",
    "\t\tvalue = int(mask[i])\n",
    "\t\tl = array[:,i] == value\n",
    "\t\tarray = array[l]\n",
    "\t\treturn f(array, i+1, most)"
   ]
  },
  {
   "cell_type": "code",
   "execution_count": 154,
   "metadata": {},
   "outputs": [],
   "source": [
    "def get_number(arr):\n",
    "\treturn [f(arr.copy(),0, sign) for sign in [True, False]]\n",
    "\t\t\t\t"
   ]
  },
  {
   "cell_type": "code",
   "execution_count": 157,
   "metadata": {},
   "outputs": [],
   "source": [
    "a = get_number(arr)"
   ]
  },
  {
   "cell_type": "code",
   "execution_count": 158,
   "metadata": {},
   "outputs": [],
   "source": [
    "answer = a[0] * a[1]"
   ]
  },
  {
   "cell_type": "code",
   "execution_count": 159,
   "metadata": {},
   "outputs": [
    {
     "data": {
      "text/plain": [
       "4996233"
      ]
     },
     "execution_count": 159,
     "metadata": {},
     "output_type": "execute_result"
    }
   ],
   "source": [
    "answer"
   ]
  },
  {
   "cell_type": "code",
   "execution_count": 160,
   "metadata": {},
   "outputs": [
    {
     "name": "stdout",
     "output_type": "stream",
     "text": [
      "\u001b[32mThat's the right answer!  You are one gold star closer to finding the sleigh keys.You have completed Day 3! You can [Shareon\n",
      "  Twitter\n",
      "Mastodon] this victory or [Return to Your Advent Calendar].\u001b[0m\n"
     ]
    },
    {
     "data": {
      "text/plain": [
       "<Response [200]>"
      ]
     },
     "execution_count": 160,
     "metadata": {},
     "output_type": "execute_result"
    }
   ],
   "source": [
    "submit(answer, 'b',3, 2021)"
   ]
  },
  {
   "cell_type": "markdown",
   "metadata": {},
   "source": [
    "## Day 4 - Bingo"
   ]
  },
  {
   "cell_type": "code",
   "execution_count": 161,
   "metadata": {},
   "outputs": [],
   "source": [
    "puzzle = Puzzle(2021, 4)\n",
    "data = puzzle.input_data"
   ]
  },
  {
   "cell_type": "code",
   "execution_count": 165,
   "metadata": {},
   "outputs": [],
   "source": [
    "l = data.splitlines()\n",
    "numbers = l[0]"
   ]
  },
  {
   "cell_type": "code",
   "execution_count": 254,
   "metadata": {},
   "outputs": [],
   "source": [
    "class Board:\n",
    "\tdef __init__(self, string):\n",
    "\t\tself.arr = np.array([np.fromstring(s, sep=\" \") for s in string]).astype(int)\n",
    "\t\tself.mask = np.zeros_like(self.arr).astype(bool)\n",
    "\t\tself.last_value = 0\n",
    "\tdef add_number(self, value):\n",
    "\t\tself.mask = self.mask | (self.arr == value)\n",
    "\t\tself.last_value = value\n",
    "\t\n",
    "\t@property\n",
    "\tdef won(self):\n",
    "\t\trow_counts = any([all(x) for x in self.mask])\n",
    "\t\tcol_counts = any([all(x) for x in self.mask.T])\n",
    "\t\treturn row_counts | col_counts\n",
    "\t\t\n",
    "\tdef unmarked_sum(self):\n",
    "\t\treturn self.arr[~self.mask].sum() * self.last_value"
   ]
  },
  {
   "cell_type": "code",
   "execution_count": 230,
   "metadata": {},
   "outputs": [],
   "source": [
    "numbers = np.fromstring(l[0], sep=',').astype(int)"
   ]
  },
  {
   "cell_type": "code",
   "execution_count": 274,
   "metadata": {},
   "outputs": [],
   "source": [
    "def make_boards():\n",
    "\tboards = []\n",
    "\tfor i in range(100):\n",
    "\t\ts = 2 + (i*6)\n",
    "\t\te = s+5\n",
    "\t\tv = l[s:e]\n",
    "\t\tb = Board(v)\n",
    "\t\tboards.append(b)\n",
    "\treturn boards"
   ]
  },
  {
   "cell_type": "code",
   "execution_count": 256,
   "metadata": {},
   "outputs": [
    {
     "name": "stdout",
     "output_type": "stream",
     "text": [
      "82440\n",
      "39388\n",
      "66123\n",
      "80352\n",
      "56916\n",
      "8370\n",
      "25947\n",
      "28070\n",
      "27268\n",
      "25664\n",
      "0\n",
      "51590\n",
      "57021\n",
      "21582\n",
      "1308\n",
      "49704\n",
      "15696\n",
      "56898\n",
      "49005\n",
      "38115\n",
      "40590\n",
      "33594\n",
      "6108\n",
      "8340\n",
      "15568\n",
      "32804\n",
      "35584\n",
      "52820\n",
      "50596\n",
      "34435\n",
      "30070\n",
      "10670\n",
      "25705\n",
      "20286\n",
      "20670\n",
      "42930\n",
      "34125\n",
      "39130\n",
      "33670\n",
      "22344\n",
      "22850\n",
      "7902\n",
      "7463\n",
      "32047\n",
      "5707\n",
      "27270\n",
      "30300\n",
      "24240\n",
      "10605\n",
      "25755\n",
      "23556\n",
      "24915\n",
      "31280\n",
      "29440\n",
      "10140\n",
      "12168\n",
      "13677\n",
      "873\n",
      "6890\n",
      "11856\n",
      "17472\n",
      "4575\n",
      "7560\n",
      "3240\n",
      "4440\n",
      "11280\n",
      "840\n",
      "3375\n",
      "4350\n",
      "675\n",
      "5850\n",
      "4875\n",
      "5400\n",
      "450\n",
      "854\n",
      "0\n",
      "0\n",
      "0\n",
      "0\n",
      "0\n"
     ]
    }
   ],
   "source": [
    "boards = make_boards()\n",
    "for n in numbers:\n",
    "\tfor b in boards:\n",
    "\t\tb.add_number(n)\n",
    "\t\tif b.won:\n",
    "\t\t\tanswer = b.unmarked_sum()\n",
    "\t\t"
   ]
  },
  {
   "cell_type": "code",
   "execution_count": 257,
   "metadata": {},
   "outputs": [
    {
     "name": "stdout",
     "output_type": "stream",
     "text": [
      "\u001b[32mThat's the right answer!  You are one gold star closer to finding the sleigh keys. [Continue to Part Two]\u001b[0m\n"
     ]
    },
    {
     "data": {
      "text/plain": [
       "<Response [200]>"
      ]
     },
     "execution_count": 257,
     "metadata": {},
     "output_type": "execute_result"
    }
   ],
   "source": [
    "submit(82440, 'a', 4, 2021)"
   ]
  },
  {
   "cell_type": "code",
   "execution_count": 276,
   "metadata": {},
   "outputs": [],
   "source": [
    "won_boards = []\n",
    "boards = make_boards()\n",
    "for n in numbers:\n",
    "\tfor j,b in enumerate(boards):\n",
    "\t\tif b not in won_boards:\n",
    "\t\t\tb.add_number(n)\n",
    "\t\t\tif b.won:\n",
    "\t\t\t\twon_boards.append(b)"
   ]
  },
  {
   "cell_type": "code",
   "execution_count": 277,
   "metadata": {},
   "outputs": [
    {
     "data": {
      "text/plain": [
       "100"
      ]
     },
     "execution_count": 277,
     "metadata": {},
     "output_type": "execute_result"
    }
   ],
   "source": [
    "len(won_boards)"
   ]
  },
  {
   "cell_type": "code",
   "execution_count": 278,
   "metadata": {},
   "outputs": [
    {
     "data": {
      "text/plain": [
       "20774"
      ]
     },
     "execution_count": 278,
     "metadata": {},
     "output_type": "execute_result"
    }
   ],
   "source": [
    "won_boards[-1].unmarked_sum()"
   ]
  },
  {
   "cell_type": "code",
   "execution_count": 279,
   "metadata": {},
   "outputs": [
    {
     "name": "stdout",
     "output_type": "stream",
     "text": [
      "\u001b[32mThat's the right answer!  You are one gold star closer to finding the sleigh keys.You have completed Day 4! You can [Shareon\n",
      "  Twitter\n",
      "Mastodon] this victory or [Return to Your Advent Calendar].\u001b[0m\n"
     ]
    },
    {
     "data": {
      "text/plain": [
       "<Response [200]>"
      ]
     },
     "execution_count": 279,
     "metadata": {},
     "output_type": "execute_result"
    }
   ],
   "source": [
    "submit(20774,'b',4,2021)"
   ]
  },
  {
   "cell_type": "markdown",
   "metadata": {},
   "source": [
    "## Day 5 - Hydrothermal Venture"
   ]
  },
  {
   "cell_type": "code",
   "execution_count": 2,
   "metadata": {},
   "outputs": [],
   "source": [
    "puzzle = Puzzle(2021,5)\n",
    "data = puzzle.input_data"
   ]
  },
  {
   "cell_type": "code",
   "execution_count": 3,
   "metadata": {},
   "outputs": [],
   "source": [
    "def parse_coords(x):\n",
    "\tcoords = x.split(\" \")\n",
    "\tx1, y1 = np.fromstring(coords[0],sep=',').astype(int)\n",
    "\tx2, y2 = np.fromstring(coords[-1],sep=',').astype(int)\n",
    "\treturn np.array([x1,y1,x2,y2])"
   ]
  },
  {
   "cell_type": "code",
   "execution_count": 4,
   "metadata": {},
   "outputs": [],
   "source": [
    "coords = np.array([parse_coords(x) for x in data.splitlines()])"
   ]
  },
  {
   "cell_type": "code",
   "execution_count": 69,
   "metadata": {},
   "outputs": [],
   "source": [
    "class Grid:\n",
    "\tdef __init__(self,size, include_diags=False):\n",
    "\t\tself.include_diags = include_diags\n",
    "\t\tself.grid = np.zeros(shape=(size,size))\n",
    "\n",
    "\tdef add_coords(self,x1,y1,x2,y2):\n",
    "\t\tif x1 == x2:\n",
    "\t\t\ts,e =self.get_bounds(y1,y2)\n",
    "\t\t\tself.grid[x1,s:e] += 1\n",
    "\t\telif y1 == y2:\n",
    "\t\t\ts,e = self.get_bounds(x1,x2)\n",
    "\t\t\tself.grid[s:e, y1] += 1\n",
    "\t\telif self.include_diags:\n",
    "\t\t\txd = int((x2-x1)/abs(x2-x1))\n",
    "\t\t\tyd = int((y2-y1)/abs(y2-y1))\n",
    "\t\t\tm = yd/xd\n",
    "\t\t\tfor i in range(abs(x1-x2)+1):\n",
    "\t\t\t\tx = x1+int(i*xd)\n",
    "\t\t\t\ty = y1+int(i*yd)\n",
    "\t\t\t\tself.grid[x,y] += 1\n",
    "\n",
    "\t@staticmethod\n",
    "\tdef get_bounds(x,y):\n",
    "\t\tif x < y:\n",
    "\t\t\ts = x\n",
    "\t\t\te = y + 1\n",
    "\t\telse:\n",
    "\t\t\ts = y\n",
    "\t\t\te = x + 1\n",
    "\t\treturn s,e\n",
    "\n",
    "\tdef __str__(self):\n",
    "\t\ts = self.grid.astype(int).astype(str)\n",
    "\t\ts[s == '0'] = '.'\n",
    "\t\treturn \"\\n\".join([\"\".join(list(x)) for x in s])"
   ]
  },
  {
   "cell_type": "code",
   "execution_count": 360,
   "metadata": {},
   "outputs": [],
   "source": [
    "g = Grid(1000)\n",
    "for c in coords:\n",
    "\tg.add_coords(*c)"
   ]
  },
  {
   "cell_type": "code",
   "execution_count": 331,
   "metadata": {},
   "outputs": [],
   "source": [
    "answer = len(g.grid[g.grid >= 2].flatten())"
   ]
  },
  {
   "cell_type": "code",
   "execution_count": 332,
   "metadata": {},
   "outputs": [
    {
     "data": {
      "text/plain": [
       "4873"
      ]
     },
     "execution_count": 332,
     "metadata": {},
     "output_type": "execute_result"
    }
   ],
   "source": [
    "answer"
   ]
  },
  {
   "cell_type": "code",
   "execution_count": 333,
   "metadata": {},
   "outputs": [
    {
     "name": "stdout",
     "output_type": "stream",
     "text": [
      "\u001b[32mThat's the right answer!  You are one gold star closer to finding the sleigh keys. [Continue to Part Two]\u001b[0m\n"
     ]
    },
    {
     "data": {
      "text/plain": [
       "<Response [200]>"
      ]
     },
     "execution_count": 333,
     "metadata": {},
     "output_type": "execute_result"
    }
   ],
   "source": [
    "submit(answer, 'a', 5, 2021)"
   ]
  },
  {
   "cell_type": "code",
   "execution_count": 83,
   "metadata": {},
   "outputs": [],
   "source": [
    "g = Grid(2500, include_diags=True)\n",
    "for c in coords:\n",
    "\tg.add_coords(*c)\n",
    "answer = len(g.grid[g.grid >= 2].flatten())"
   ]
  },
  {
   "cell_type": "code",
   "execution_count": 84,
   "metadata": {},
   "outputs": [
    {
     "data": {
      "text/plain": [
       "19472"
      ]
     },
     "execution_count": 84,
     "metadata": {},
     "output_type": "execute_result"
    }
   ],
   "source": [
    "answer"
   ]
  },
  {
   "cell_type": "code",
   "execution_count": 85,
   "metadata": {},
   "outputs": [
    {
     "name": "stdout",
     "output_type": "stream",
     "text": [
      "\u001b[32mThat's the right answer!  You are one gold star closer to finding the sleigh keys.You have completed Day 5! You can [Shareon\n",
      "  Twitter\n",
      "Mastodon] this victory or [Return to Your Advent Calendar].\u001b[0m\n"
     ]
    },
    {
     "data": {
      "text/plain": [
       "<Response [200]>"
      ]
     },
     "execution_count": 85,
     "metadata": {},
     "output_type": "execute_result"
    }
   ],
   "source": [
    "submit(answer,'b',5)"
   ]
  },
  {
   "cell_type": "code",
   "execution_count": 47,
   "metadata": {},
   "outputs": [],
   "source": [
    "g = Grid(10, include_diags=True)"
   ]
  },
  {
   "cell_type": "code",
   "execution_count": 78,
   "metadata": {},
   "outputs": [],
   "source": [
    "t = \"\"\"0,9 -> 5,9\n",
    "8,0 -> 0,8\n",
    "9,4 -> 3,4\n",
    "2,2 -> 2,1\n",
    "7,0 -> 7,4\n",
    "6,4 -> 2,0\n",
    "0,9 -> 2,9\n",
    "3,4 -> 1,4\n",
    "0,0 -> 8,8\n",
    "5,5 -> 8,2\"\"\"\n",
    "test_coords = np.array([parse_coords(x) for x in t.splitlines()])\n",
    "g = Grid(10, include_diags=True)\n",
    "for c in test_coords:\n",
    "\tg.add_coords(*c)"
   ]
  },
  {
   "cell_type": "code",
   "execution_count": 79,
   "metadata": {},
   "outputs": [
    {
     "name": "stdout",
     "output_type": "stream",
     "text": [
      "1.1....11.\n",
      ".111...2..\n",
      "..2.1.111.\n",
      "...1.2.2..\n",
      ".112313211\n",
      "...1.2....\n",
      "..1...1...\n",
      ".1.....1..\n",
      "1.......1.\n",
      "222111....\n"
     ]
    }
   ],
   "source": [
    "g.grid = g.grid.T\n",
    "print(g)"
   ]
  },
  {
   "cell_type": "code",
   "execution_count": 82,
   "metadata": {},
   "outputs": [
    {
     "data": {
      "text/plain": [
       "26.0"
      ]
     },
     "execution_count": 82,
     "metadata": {},
     "output_type": "execute_result"
    }
   ],
   "source": [
    "g.grid[g.grid >=2].sum()"
   ]
  },
  {
   "cell_type": "code",
   "execution_count": 73,
   "metadata": {},
   "outputs": [],
   "source": [
    "g = Grid(10, include_diags=True)"
   ]
  },
  {
   "cell_type": "code",
   "execution_count": 74,
   "metadata": {},
   "outputs": [],
   "source": [
    "g.add_coords(1,1,3,3)\n"
   ]
  },
  {
   "cell_type": "code",
   "execution_count": 75,
   "metadata": {},
   "outputs": [],
   "source": [
    "g.add_coords(9,7,7,9)"
   ]
  },
  {
   "cell_type": "code",
   "execution_count": 76,
   "metadata": {},
   "outputs": [
    {
     "name": "stdout",
     "output_type": "stream",
     "text": [
      "..........\n",
      ".1........\n",
      "..1.......\n",
      "...1......\n",
      "..........\n",
      "..........\n",
      "..........\n",
      ".........1\n",
      "........1.\n",
      ".......1..\n"
     ]
    }
   ],
   "source": [
    "print(g)"
   ]
  },
  {
   "cell_type": "code",
   "execution_count": 53,
   "metadata": {},
   "outputs": [
    {
     "data": {
      "text/plain": [
       "array([[0., 0., 0., 0., 0., 0., 0., 0., 0., 0.],\n",
       "       [0., 1., 0., 0., 0., 0., 0., 0., 0., 0.],\n",
       "       [0., 0., 1., 0., 0., 0., 0., 0., 0., 0.],\n",
       "       [0., 0., 0., 1., 0., 0., 0., 0., 0., 0.],\n",
       "       [0., 0., 0., 0., 0., 0., 0., 0., 0., 0.],\n",
       "       [0., 0., 0., 0., 0., 0., 0., 0., 0., 0.],\n",
       "       [0., 0., 0., 0., 0., 0., 0., 0., 0., 0.],\n",
       "       [0., 0., 0., 0., 0., 0., 0., 0., 0., 1.],\n",
       "       [0., 0., 0., 0., 0., 0., 0., 0., 1., 0.],\n",
       "       [0., 0., 0., 0., 0., 0., 0., 1., 0., 0.]])"
      ]
     },
     "execution_count": 53,
     "metadata": {},
     "output_type": "execute_result"
    }
   ],
   "source": [
    "g.grid"
   ]
  },
  {
   "cell_type": "code",
   "execution_count": null,
   "metadata": {},
   "outputs": [],
   "source": []
  },
  {
   "cell_type": "markdown",
   "metadata": {},
   "source": [
    "## Day 6 - Lanternfish "
   ]
  },
  {
   "cell_type": "code",
   "execution_count": 2,
   "metadata": {},
   "outputs": [],
   "source": [
    "puzzle = Puzzle(day=6, year=2021)\n",
    "data = puzzle.input_data"
   ]
  },
  {
   "cell_type": "code",
   "execution_count": 3,
   "metadata": {},
   "outputs": [],
   "source": [
    "class Laternfish:\n",
    "\tdef __init__(self, days):\n",
    "\t\tself.days = days\n",
    "\tdef count_down(self):\n",
    "\t\tif self.days == 0:\n",
    "\t\t\tself.days = 6\n",
    "\t\telse:\n",
    "\t\t\tself.days -= 1\n",
    "\t\n",
    "\tdef spawn_fish(self):\n",
    "\t\tif self.days == 0:\n",
    "\t\t\treturn Laternfish(8)\n",
    "\t\telse:\n",
    "\t\t\treturn None"
   ]
  },
  {
   "cell_type": "code",
   "execution_count": 4,
   "metadata": {},
   "outputs": [],
   "source": [
    "def count_fish(init_vals, days):\n",
    "\tfish_list = [Laternfish(v) for v in init_vals]\n",
    "\tfor d in range(days):\n",
    "\t\tnew_fishes = []\n",
    "\t\tfor fish in fish_list:\n",
    "\t\t\tnew_fish = fish.spawn_fish()\n",
    "\t\t\tfish.count_down()\n",
    "\t\t\tif new_fish is not None:\n",
    "\t\t\t\tnew_fishes.append(new_fish)\n",
    "\t\tif len(new_fishes) > 0:\n",
    "\t\t\tfish_list.extend(new_fishes)\n",
    "\treturn len(fish_list) "
   ]
  },
  {
   "cell_type": "code",
   "execution_count": 117,
   "metadata": {},
   "outputs": [
    {
     "data": {
      "text/plain": [
       "26"
      ]
     },
     "execution_count": 117,
     "metadata": {},
     "output_type": "execute_result"
    }
   ],
   "source": [
    "count_fish([3,4,3,1,2], 18)"
   ]
  },
  {
   "cell_type": "code",
   "execution_count": 5,
   "metadata": {},
   "outputs": [],
   "source": [
    "init_fish = np.fromstring(data,sep=',').astype(int)\n",
    "answer = count_fish(init_fish, 80)"
   ]
  },
  {
   "cell_type": "code",
   "execution_count": 125,
   "metadata": {},
   "outputs": [
    {
     "name": "stdout",
     "output_type": "stream",
     "text": [
      "\u001b[32mThat's the right answer!  You are one gold star closer to finding the sleigh keys. [Continue to Part Two]\u001b[0m\n"
     ]
    },
    {
     "data": {
      "text/plain": [
       "<Response [200]>"
      ]
     },
     "execution_count": 125,
     "metadata": {},
     "output_type": "execute_result"
    }
   ],
   "source": [
    "submit(answer, 'a', 6, 2021)"
   ]
  },
  {
   "cell_type": "code",
   "execution_count": 182,
   "metadata": {},
   "outputs": [],
   "source": [
    "def count_fish_arr(init_fish, days):\n",
    "\tfor fish in init_fish:\n",
    "\t\tnum_spawns = fish "
   ]
  },
  {
   "cell_type": "code",
   "execution_count": 25,
   "metadata": {},
   "outputs": [],
   "source": [
    "from functools import lru_cache"
   ]
  },
  {
   "cell_type": "code",
   "execution_count": 65,
   "metadata": {},
   "outputs": [],
   "source": [
    "@lru_cache(1000)\n",
    "def n(x,d=7):\n",
    "\tif x == 0:\n",
    "\t\treturn 1\n",
    "\tif (x % d) == 0:\n",
    "\t\treturn n(x-1,7) + n(x-2,8)\n",
    "\telse:\n",
    "\t\treturn n(x-1,7)\n"
   ]
  },
  {
   "cell_type": "code",
   "execution_count": 142,
   "metadata": {},
   "outputs": [],
   "source": [
    "def count_fish(init_fish, days):\n",
    "\tf = {x:0 for x in range(-1,9)}\n",
    "\tfor v in init_fish:\n",
    "\t\tf[v] += 1\n",
    "\tfor d in range(days):\n",
    "\t\tfor k,v in f.items():\n",
    "\t\t\tif k >= 0:\n",
    "\t\t\t\tf[k-1] = f[k]\n",
    "\t\tf[8] = f[-1]\n",
    "\t\tf[6] += f[-1]\n",
    "\t\tf[-1] = 0\n",
    "\treturn sum(f.values())\n"
   ]
  },
  {
   "cell_type": "code",
   "execution_count": 147,
   "metadata": {},
   "outputs": [
    {
     "name": "stdout",
     "output_type": "stream",
     "text": [
      "CPU times: user 31 µs, sys: 0 ns, total: 31 µs\n",
      "Wall time: 33.6 µs\n"
     ]
    },
    {
     "data": {
      "text/plain": [
       "26"
      ]
     },
     "execution_count": 147,
     "metadata": {},
     "output_type": "execute_result"
    }
   ],
   "source": [
    "%time count_fish([3,4,3,1,2],18)"
   ]
  },
  {
   "cell_type": "code",
   "execution_count": null,
   "metadata": {},
   "outputs": [],
   "source": []
  },
  {
   "cell_type": "code",
   "execution_count": 148,
   "metadata": {},
   "outputs": [
    {
     "name": "stdout",
     "output_type": "stream",
     "text": [
      "CPU times: user 175 µs, sys: 7 µs, total: 182 µs\n",
      "Wall time: 185 µs\n"
     ]
    },
    {
     "data": {
      "text/plain": [
       "1570"
      ]
     },
     "execution_count": 148,
     "metadata": {},
     "output_type": "execute_result"
    }
   ],
   "source": [
    "%time count_fish(init_fish, 18)"
   ]
  },
  {
   "cell_type": "code",
   "execution_count": 149,
   "metadata": {},
   "outputs": [
    {
     "name": "stdout",
     "output_type": "stream",
     "text": [
      "CPU times: user 408 µs, sys: 0 ns, total: 408 µs\n",
      "Wall time: 411 µs\n"
     ]
    },
    {
     "data": {
      "text/plain": [
       "1609314870967"
      ]
     },
     "execution_count": 149,
     "metadata": {},
     "output_type": "execute_result"
    }
   ],
   "source": [
    "%time count_fish(init_fish, 256)"
   ]
  },
  {
   "cell_type": "code",
   "execution_count": 150,
   "metadata": {},
   "outputs": [],
   "source": [
    "answer = count_fish(init_fish, 256)"
   ]
  },
  {
   "cell_type": "code",
   "execution_count": 151,
   "metadata": {},
   "outputs": [
    {
     "name": "stdout",
     "output_type": "stream",
     "text": [
      "\u001b[32mThat's the right answer!  You are one gold star closer to finding the sleigh keys.You have completed Day 6! You can [Shareon\n",
      "  Twitter\n",
      "Mastodon] this victory or [Return to Your Advent Calendar].\u001b[0m\n"
     ]
    },
    {
     "data": {
      "text/plain": [
       "<Response [200]>"
      ]
     },
     "execution_count": 151,
     "metadata": {},
     "output_type": "execute_result"
    }
   ],
   "source": [
    "submit(answer, 'b', 6, 2021)"
   ]
  },
  {
   "cell_type": "markdown",
   "metadata": {},
   "source": [
    "## Day 7 - The Treachery of Whales"
   ]
  },
  {
   "cell_type": "code",
   "execution_count": 152,
   "metadata": {},
   "outputs": [],
   "source": [
    "puzzle = Puzzle(2021,7)\n",
    "data = puzzle.input_data"
   ]
  },
  {
   "cell_type": "code",
   "execution_count": 154,
   "metadata": {},
   "outputs": [],
   "source": [
    "t = np.array([16,1,2,0,4,2,7,1,2,14])"
   ]
  },
  {
   "cell_type": "code",
   "execution_count": 158,
   "metadata": {},
   "outputs": [],
   "source": [
    "def dist(crabs, x):\n",
    "\treturn np.abs(crabs - x).sum()\n",
    "def min_dist(crabs):\n",
    "\tx = set(crabs)\n",
    "\treturn min([dist(crabs,d) for d in x])"
   ]
  },
  {
   "cell_type": "code",
   "execution_count": 161,
   "metadata": {},
   "outputs": [],
   "source": [
    "crabs = np.fromstring(data, sep=',').astype(int)"
   ]
  },
  {
   "cell_type": "code",
   "execution_count": 162,
   "metadata": {},
   "outputs": [],
   "source": [
    "answer = min_dist(crabs)"
   ]
  },
  {
   "cell_type": "code",
   "execution_count": 164,
   "metadata": {},
   "outputs": [
    {
     "name": "stdout",
     "output_type": "stream",
     "text": [
      "\u001b[32mThat's the right answer!  You are one gold star closer to finding the sleigh keys. [Continue to Part Two]\u001b[0m\n"
     ]
    },
    {
     "data": {
      "text/plain": [
       "<Response [200]>"
      ]
     },
     "execution_count": 164,
     "metadata": {},
     "output_type": "execute_result"
    }
   ],
   "source": [
    "submit(answer,'a',7)"
   ]
  },
  {
   "cell_type": "code",
   "execution_count": 181,
   "metadata": {},
   "outputs": [],
   "source": [
    "def arr(x):\n",
    "\treturn 0.5*(x * (x+1))\n",
    "def extra_dist(crabs, x):\n",
    "\treturn arr(np.abs(crabs - x)).sum().astype(int)\n",
    "def min_dist(crabs):\n",
    "\tx = set(crabs)\n",
    "\treturn min([extra_dist(crabs,d) for d in x])"
   ]
  },
  {
   "cell_type": "code",
   "execution_count": 182,
   "metadata": {},
   "outputs": [
    {
     "data": {
      "text/plain": [
       "206"
      ]
     },
     "execution_count": 182,
     "metadata": {},
     "output_type": "execute_result"
    }
   ],
   "source": [
    "extra_dist(t, 2).sum()"
   ]
  },
  {
   "cell_type": "code",
   "execution_count": 183,
   "metadata": {},
   "outputs": [],
   "source": [
    "answer = min_dist(crabs)"
   ]
  },
  {
   "cell_type": "code",
   "execution_count": 184,
   "metadata": {},
   "outputs": [
    {
     "name": "stdout",
     "output_type": "stream",
     "text": [
      "\u001b[32mThat's the right answer!  You are one gold star closer to finding the sleigh keys.You have completed Day 7! You can [Shareon\n",
      "  Twitter\n",
      "Mastodon] this victory or [Return to Your Advent Calendar].\u001b[0m\n"
     ]
    },
    {
     "data": {
      "text/plain": [
       "<Response [200]>"
      ]
     },
     "execution_count": 184,
     "metadata": {},
     "output_type": "execute_result"
    }
   ],
   "source": [
    "submit(answer, 'b',7)"
   ]
  },
  {
   "cell_type": "markdown",
   "metadata": {},
   "source": [
    "## Days 8 - Seven Segment Search"
   ]
  },
  {
   "cell_type": "code",
   "execution_count": 5,
   "metadata": {},
   "outputs": [],
   "source": [
    "from itertools import permutations"
   ]
  },
  {
   "cell_type": "code",
   "execution_count": 6,
   "metadata": {},
   "outputs": [],
   "source": [
    "puzzle = Puzzle(2021, 8)\n",
    "data = puzzle.input_data"
   ]
  },
  {
   "cell_type": "code",
   "execution_count": 7,
   "metadata": {},
   "outputs": [],
   "source": [
    "lines = data.splitlines()"
   ]
  },
  {
   "cell_type": "code",
   "execution_count": 122,
   "metadata": {},
   "outputs": [
    {
     "data": {
      "text/plain": [
       "dict_values(['abcefg', 'cf', 'acdeg', 'acdfg', 'bcdf', 'abdfg', 'abdefg', 'acf', 'abcdefg', 'abcdfg'])"
      ]
     },
     "execution_count": 122,
     "metadata": {},
     "output_type": "execute_result"
    }
   ],
   "source": [
    "\t{0:'abcefg',\n",
    "\t\t1:'cf',\n",
    "\t\t2:'acdeg',\n",
    "\t\t3:'acdfg',\n",
    "\t\t4:'bcdf',\n",
    "\t\t5:'abdfg',\n",
    "\t\t6:'abdefg',\n",
    "\t\t7:'acf',\n",
    "\t\t8:'abcdefg',\n",
    "\t\t9:'abcdfg'\n",
    "\n",
    "\t}.values()"
   ]
  },
  {
   "cell_type": "code",
   "execution_count": 221,
   "metadata": {},
   "outputs": [],
   "source": [
    "letters = ['a','b','c','d','e','f','g']\n",
    "values = sorted(['abcefg', 'cf', 'acdeg', 'acdfg', 'bcdf', 'abdfg', 'abdefg', 'acf', 'abcdefg', 'abcdfg'],key=len)\n",
    "perms = {}\n",
    "\n",
    "def swap_letters(perm, digits):\n",
    "\td = {perm[i]:x for i,x in enumerate(letters)}\n",
    "\tvals = []\n",
    "\tfor digit in digits:\n",
    "\t\tx = ''.join(sorted([d[c] for c in digit]))\n",
    "\t\tvals.append(x)\n",
    "\treturn vals\n",
    "\n",
    "for perm in permutations(letters, 7):\n",
    "\td = {letters[i]: perm[i] for i in range(7)}\n",
    "\tperms[perm] = swap_letters(perm, values)\n",
    "\t\n",
    "def try_map(m, v1, v2):\n",
    "\tfor v in v1:\t\n",
    "\t\tvn = ''.join(sorted([m[x] for x in v]))\n",
    "\t\tif vn not in v2:\n",
    "\t\t\treturn False\n",
    "\treturn True\n",
    "\n",
    "\n",
    "\n",
    "class Signal:\n",
    "\tsegment_dict = {'a':[0,2,3,5,6,7,8,9],\n",
    "'b':[0,4,5,6,8,9],\n",
    "'c':[0,1,2,3,4,7,8,9],\n",
    "'d':[2,3,4,5,6,8,9],\n",
    "'e':[0,2,6,8],\n",
    "'f':[0,1,3,4,5,6,7,8,9],\n",
    "'g':[0,2,3,5,6,8,9]}\n",
    "\tnumber_dict = {\n",
    "\t\t'abcefg':0,\n",
    "\t\t'cf':1,\n",
    "\t\t'acdeg':2,\n",
    "\t\t'acdfg':3,\n",
    "\t\t'bcdf':4,\n",
    "\t\t'abdfg':5,\n",
    "\t\t'abdefg':6,\n",
    "\t\t'acf':7,\n",
    "\t\t'abcdefg':8,\n",
    "\t\t'abcdfg':9\n",
    "\n",
    "\t}\n",
    "\t# number_lengths = {k:len(v) for k,v in Signal.number_dict.items()}\n",
    "\tperms = perms\n",
    "\n",
    "\n",
    "\n",
    "\tdef __init__(self, string) -> None:\n",
    "\t\tself.digits, self.number = [x.split(\" \") for x in string.split(\"|\")]\n",
    "\t\tself.number = [x for x in self.number if x != '']\n",
    "\t\tself.digits = self.digits[:-1]\n",
    "\t\tself.digits = sorted(self.digits, key=len)\n",
    "\t\tself.digits = [''.join(sorted(x)) for x in self.digits]\n",
    "\n",
    "\tdef count_numbers(self):\n",
    "\t\tcounts = np.array([len(x) for x in self.number])\n",
    "\t\tuniques = [1,4,7,8]\n",
    "\t\tdig_count = {}\n",
    "\t\tfor i in uniques:\n",
    "\t\t\tv = self.number_lengths[i]\n",
    "\t\t\tdig_count[i] = sum(counts == v)\n",
    "\t\treturn dig_count\n",
    "\n",
    "\tdef decode(self):\n",
    "\t\tfor k, v in self.perms.items():\n",
    "\t\t\tif all([x in v for x in self.digits]):\n",
    "\t\t\t\treturn k, v\n",
    "\n",
    "\tdef get_number(self):\n",
    "\t\tcode = {x:v for x,v in zip(letters, self.decode()[0])}\n",
    "\t\tvs =[]\n",
    "\t\tfor digit in self.number:\n",
    "\t\t\tv = [code[d] for d in digit]\n",
    "\t\t\tv = ''.join(sorted(v))\n",
    "\t\t\tvs.append(str(self.number_dict[v]))\n",
    "\t\treturn int(''.join(vs))\n",
    "\t\t\n"
   ]
  },
  {
   "cell_type": "code",
   "execution_count": 222,
   "metadata": {},
   "outputs": [],
   "source": [
    "test = Signal(\"acedgfb cdfbe gcdfa fbcad dab cefabd cdfgeb eafb cagedb ab |cdfeb fcadb cdfeb cdbaf\")"
   ]
  },
  {
   "cell_type": "markdown",
   "metadata": {},
   "source": []
  },
  {
   "cell_type": "code",
   "execution_count": 226,
   "metadata": {},
   "outputs": [],
   "source": [
    "signals = [Signal(l) for l in lines]"
   ]
  },
  {
   "cell_type": "code",
   "execution_count": 47,
   "metadata": {},
   "outputs": [],
   "source": [
    "counts = [s.count_numbers() for s in signals]"
   ]
  },
  {
   "cell_type": "code",
   "execution_count": 52,
   "metadata": {},
   "outputs": [],
   "source": [
    "answer =  pd.DataFrame(counts).sum().sum()"
   ]
  },
  {
   "cell_type": "code",
   "execution_count": 54,
   "metadata": {},
   "outputs": [
    {
     "name": "stdout",
     "output_type": "stream",
     "text": [
      "\u001b[32mThat's the right answer!  You are one gold star closer to finding the sleigh keys. [Continue to Part Two]\u001b[0m\n"
     ]
    },
    {
     "data": {
      "text/plain": [
       "<Response [200]>"
      ]
     },
     "execution_count": 54,
     "metadata": {},
     "output_type": "execute_result"
    }
   ],
   "source": [
    "submit(answer, 'a',8)"
   ]
  },
  {
   "cell_type": "code",
   "execution_count": 229,
   "metadata": {},
   "outputs": [],
   "source": [
    "answer = sum([s.get_number() for s in signals])"
   ]
  },
  {
   "cell_type": "code",
   "execution_count": 230,
   "metadata": {},
   "outputs": [
    {
     "name": "stdout",
     "output_type": "stream",
     "text": [
      "\u001b[32mThat's the right answer!  You are one gold star closer to finding the sleigh keys.You have completed Day 8! You can [Shareon\n",
      "  Twitter\n",
      "Mastodon] this victory or [Return to Your Advent Calendar].\u001b[0m\n"
     ]
    },
    {
     "data": {
      "text/plain": [
       "<Response [200]>"
      ]
     },
     "execution_count": 230,
     "metadata": {},
     "output_type": "execute_result"
    }
   ],
   "source": [
    "submit(answer, 'b',8)"
   ]
  },
  {
   "cell_type": "code",
   "execution_count": 228,
   "metadata": {},
   "outputs": [
    {
     "data": {
      "text/plain": [
       "1084606"
      ]
     },
     "execution_count": 228,
     "metadata": {},
     "output_type": "execute_result"
    }
   ],
   "source": [
    "sum(answer)"
   ]
  },
  {
   "cell_type": "markdown",
   "metadata": {},
   "source": [
    "## Day 9 - Smoke Basin"
   ]
  },
  {
   "cell_type": "code",
   "execution_count": 232,
   "metadata": {},
   "outputs": [],
   "source": [
    "puzzle = Puzzle(2021, 9)\n",
    "data = puzzle.input_data"
   ]
  },
  {
   "cell_type": "code",
   "execution_count": 313,
   "metadata": {},
   "outputs": [],
   "source": [
    "test = \"\"\"2199943210\n",
    "3987894921\n",
    "9856789892\n",
    "8767896789\n",
    "9899965678\"\"\".splitlines()\n",
    "\n",
    "arr1 = np.array([[int(x) for x in t] for t in test])"
   ]
  },
  {
   "cell_type": "code",
   "execution_count": 274,
   "metadata": {},
   "outputs": [],
   "source": [
    "def find_low_points(arr):\n",
    "\tup = arr.shift(1).fillna(1e6)\n",
    "\tdown = arr.shift(-1).fillna(1e6)\n",
    "\tleft = arr.T.shift(1).T.fillna(1e6)\n",
    "\tright = arr.T.shift(-1).T.fillna(1e6)\n",
    "\tv = (arr < up) & (arr < down) & (arr < left) & (arr < right)\n",
    "\treturn v\n",
    "\n",
    "def risk_level(arr):\n",
    "\tlp = find_low_points(arr)\n",
    "\treturn int((arr[lp] + 1).sum().sum())"
   ]
  },
  {
   "cell_type": "code",
   "execution_count": 275,
   "metadata": {},
   "outputs": [
    {
     "data": {
      "text/plain": [
       "15"
      ]
     },
     "execution_count": 275,
     "metadata": {},
     "output_type": "execute_result"
    }
   ],
   "source": [
    "risk_level(arr)"
   ]
  },
  {
   "cell_type": "code",
   "execution_count": 276,
   "metadata": {},
   "outputs": [],
   "source": [
    "arr = np.array([[int(x) for x in t] for t in data.splitlines()])"
   ]
  },
  {
   "cell_type": "code",
   "execution_count": 278,
   "metadata": {},
   "outputs": [],
   "source": [
    "arr_df = pd.DataFrame(arr)"
   ]
  },
  {
   "cell_type": "code",
   "execution_count": 279,
   "metadata": {},
   "outputs": [],
   "source": [
    "answer = risk_level(arr_df)"
   ]
  },
  {
   "cell_type": "code",
   "execution_count": 281,
   "metadata": {},
   "outputs": [
    {
     "name": "stdout",
     "output_type": "stream",
     "text": [
      "\u001b[32mThat's the right answer!  You are one gold star closer to finding the sleigh keys. [Continue to Part Two]\u001b[0m\n"
     ]
    },
    {
     "data": {
      "text/plain": [
       "<Response [200]>"
      ]
     },
     "execution_count": 281,
     "metadata": {},
     "output_type": "execute_result"
    }
   ],
   "source": [
    "submit(answer,'a',9)"
   ]
  },
  {
   "cell_type": "code",
   "execution_count": 314,
   "metadata": {},
   "outputs": [],
   "source": [
    "dx,dy = np.gradient(arr1)\n",
    "dxx, dxy = np.gradient(dx)\n",
    "dyx, dyy = np.gradient(dy)"
   ]
  },
  {
   "cell_type": "code",
   "execution_count": 325,
   "metadata": {},
   "outputs": [
    {
     "data": {
      "text/plain": [
       "array([[5, 4, 5, ..., 1, 0, 1],\n",
       "       [4, 3, 4, ..., 2, 1, 3],\n",
       "       [3, 2, 3, ..., 9, 2, 4],\n",
       "       ...,\n",
       "       [9, 8, 7, ..., 4, 5, 6],\n",
       "       [9, 7, 6, ..., 9, 6, 8],\n",
       "       [7, 6, 5, ..., 8, 7, 9]])"
      ]
     },
     "execution_count": 325,
     "metadata": {},
     "output_type": "execute_result"
    }
   ],
   "source": [
    "arr"
   ]
  },
  {
   "cell_type": "code",
   "execution_count": 311,
   "metadata": {},
   "outputs": [],
   "source": [
    "ix = (dx == 0) & (dy == 0) & (dxx > 0) & (dyy > 0)"
   ]
  },
  {
   "cell_type": "code",
   "execution_count": 318,
   "metadata": {},
   "outputs": [
    {
     "data": {
      "text/plain": [
       "array([[-1. ,  3.5,  4. ,  0. , -2.5, -3. , -1. , -1. , -1. , -1. ],\n",
       "       [ 6. ,  2.5, -1. ,  0. ,  1. , -2. ,  0. , -1. , -4. , -1. ],\n",
       "       [-1. , -2. , -1. ,  1. ,  1. ,  1. ,  0. ,  0. , -3. , -7. ],\n",
       "       [-1. , -1. ,  0. ,  1. ,  1. , -1. , -1. ,  1. ,  1. ,  1. ],\n",
       "       [-1. ,  0. ,  0.5,  0. , -1.5, -2. ,  0. ,  1. ,  1. ,  1. ]])"
      ]
     },
     "execution_count": 318,
     "metadata": {},
     "output_type": "execute_result"
    }
   ],
   "source": [
    "def basin(arr):\n",
    "\tbounds = arr == 9\n",
    "\t"
   ]
  },
  {
   "cell_type": "code",
   "execution_count": 327,
   "metadata": {},
   "outputs": [
    {
     "data": {
      "text/plain": [
       "array([[False, False,  True,  True,  True, False, False, False, False,\n",
       "        False],\n",
       "       [False,  True, False, False, False,  True, False,  True, False,\n",
       "        False],\n",
       "       [ True, False, False, False, False, False,  True, False,  True,\n",
       "        False],\n",
       "       [False, False, False, False, False,  True, False, False, False,\n",
       "         True],\n",
       "       [ True, False,  True,  True,  True, False, False, False, False,\n",
       "        False]])"
      ]
     },
     "execution_count": 327,
     "metadata": {},
     "output_type": "execute_result"
    }
   ],
   "source": [
    "arr1 == 9"
   ]
  },
  {
   "cell_type": "code",
   "execution_count": null,
   "metadata": {},
   "outputs": [],
   "source": []
  }
 ],
 "metadata": {
  "interpreter": {
   "hash": "31f2aee4e71d21fbe5cf8b01ff0e069b9275f58929596ceb00d14d90e3e16cd6"
  },
  "kernelspec": {
   "display_name": "Python 3.8.10 64-bit",
   "language": "python",
   "name": "python3"
  },
  "language_info": {
   "codemirror_mode": {
    "name": "ipython",
    "version": 3
   },
   "file_extension": ".py",
   "mimetype": "text/x-python",
   "name": "python",
   "nbconvert_exporter": "python",
   "pygments_lexer": "ipython3",
   "version": "3.8.10"
  },
  "orig_nbformat": 4
 },
 "nbformat": 4,
 "nbformat_minor": 2
}
