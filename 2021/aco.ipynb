{
 "cells": [
  {
   "cell_type": "markdown",
   "metadata": {},
   "source": [
    "# Advent of Code 2021"
   ]
  },
  {
   "cell_type": "markdown",
   "metadata": {},
   "source": []
  },
  {
   "cell_type": "code",
   "execution_count": 1,
   "metadata": {},
   "outputs": [],
   "source": [
    "from aocd.models import Puzzle\n",
    "from aocd import submit\n",
    "import numpy as np\n",
    "import pandas as pd\n",
    "import networkx as nx\n",
    "import matplotlib.pyplot as plt\n",
    "from functools import reduce"
   ]
  },
  {
   "cell_type": "markdown",
   "metadata": {},
   "source": [
    "## Day 1 - Sonar Sweep"
   ]
  },
  {
   "cell_type": "code",
   "execution_count": 13,
   "metadata": {},
   "outputs": [],
   "source": [
    "puzzle = Puzzle(2021, 1)"
   ]
  },
  {
   "cell_type": "code",
   "execution_count": 12,
   "metadata": {},
   "outputs": [
    {
     "data": {
      "text/plain": [
       "7"
      ]
     },
     "execution_count": 12,
     "metadata": {},
     "output_type": "execute_result"
    }
   ],
   "source": [
    "test = np.array([199,200,208,210,200,207,240,269,290,263])\n",
    "gt = np.roll(test,-1) > test\n",
    "sum(gt[:-1])"
   ]
  },
  {
   "cell_type": "code",
   "execution_count": 18,
   "metadata": {},
   "outputs": [],
   "source": [
    "data = puzzle.input_data\n",
    "data = np.array([int(x) for x in data.splitlines()])"
   ]
  },
  {
   "cell_type": "code",
   "execution_count": 20,
   "metadata": {},
   "outputs": [],
   "source": [
    "gt = np.roll(data, -1) > data\n",
    "answer = sum(gt[:-1])"
   ]
  },
  {
   "cell_type": "code",
   "execution_count": 22,
   "metadata": {},
   "outputs": [
    {
     "name": "stderr",
     "output_type": "stream",
     "text": [
      "answer a: None\n",
      "submitting for part a\n"
     ]
    },
    {
     "name": "stdout",
     "output_type": "stream",
     "text": [
      "\u001b[32mThat's the right answer!  You are one gold star closer to finding the sleigh keys. [Continue to Part Two]\u001b[0m\n"
     ]
    },
    {
     "data": {
      "text/plain": [
       "<Response [200]>"
      ]
     },
     "execution_count": 22,
     "metadata": {},
     "output_type": "execute_result"
    }
   ],
   "source": [
    "submit(answer, day=1, year=2021)"
   ]
  },
  {
   "cell_type": "code",
   "execution_count": 24,
   "metadata": {},
   "outputs": [],
   "source": [
    "series = pd.Series(data)\n",
    "roll = series.rolling(3).sum()\n",
    "answer = (roll.diff() > 0).sum()"
   ]
  },
  {
   "cell_type": "code",
   "execution_count": null,
   "metadata": {},
   "outputs": [],
   "source": [
    "submit(answer, 'b', 1, 2021)"
   ]
  },
  {
   "cell_type": "markdown",
   "metadata": {},
   "source": [
    "## Day 2 - Dive!"
   ]
  },
  {
   "cell_type": "code",
   "execution_count": 3,
   "metadata": {},
   "outputs": [],
   "source": [
    "puzzle = Puzzle(2021, 2)\n",
    "data = puzzle.input_data"
   ]
  },
  {
   "cell_type": "code",
   "execution_count": 10,
   "metadata": {},
   "outputs": [],
   "source": [
    "class Diver:\n",
    "\tdef __init__(self, puzzle = 'a'):\n",
    "\t\tself.h = 0\n",
    "\t\tself.v = 0\n",
    "\t\tself.aim = 0\n",
    "\t\tself.puzzle = puzzle\n",
    "\n",
    "\tdef parse_line(self, line):\n",
    "\t\tdirection, value = line.split(\" \")\n",
    "\t\tvalue = int(value)\n",
    "\t\tif direction == 'forward':\n",
    "\t\t\tself.h += value\n",
    "\t\t\tif self.puzzle == 'b':\n",
    "\t\t\t\tself.v += self.aim * value\n",
    "\t\tif direction == 'backward':\n",
    "\t\t\tself.h -= value\n",
    "\t\tif direction == 'up':\n",
    "\t\t\tif self.puzzle == 'a':\n",
    "\t\t\t\tself.v -= value\n",
    "\t\t\telse:\n",
    "\t\t\t\tself.aim -= value\n",
    "\t\tif direction == 'down':\n",
    "\t\t\tif self.puzzle == 'a':\n",
    "\t\t\t\tself.v += value\n",
    "\t\t\telse:\n",
    "\t\t\t\tself.aim += value"
   ]
  },
  {
   "cell_type": "code",
   "execution_count": 8,
   "metadata": {},
   "outputs": [],
   "source": [
    "d = Diver()\n",
    "for row in data.splitlines():\n",
    "\td.parse_line(row)\n",
    "answer = d.h * d.v"
   ]
  },
  {
   "cell_type": "code",
   "execution_count": 9,
   "metadata": {},
   "outputs": [
    {
     "name": "stdout",
     "output_type": "stream",
     "text": [
      "\u001b[32mThat's the right answer!  You are one gold star closer to finding the sleigh keys. [Continue to Part Two]\u001b[0m\n"
     ]
    },
    {
     "data": {
      "text/plain": [
       "<Response [200]>"
      ]
     },
     "execution_count": 9,
     "metadata": {},
     "output_type": "execute_result"
    }
   ],
   "source": [
    "submit(answer, 'a', 2, 2021)"
   ]
  },
  {
   "cell_type": "code",
   "execution_count": 11,
   "metadata": {},
   "outputs": [],
   "source": [
    "d = Diver('b')\n",
    "for row in data.splitlines():\n",
    "\td.parse_line(row)\n",
    "answer = d.h * d.v"
   ]
  },
  {
   "cell_type": "code",
   "execution_count": 12,
   "metadata": {},
   "outputs": [
    {
     "name": "stdout",
     "output_type": "stream",
     "text": [
      "\u001b[32mThat's the right answer!  You are one gold star closer to finding the sleigh keys.You have completed Day 2! You can [Shareon\n",
      "  Twitter\n",
      "Mastodon] this victory or [Return to Your Advent Calendar].\u001b[0m\n"
     ]
    },
    {
     "data": {
      "text/plain": [
       "<Response [200]>"
      ]
     },
     "execution_count": 12,
     "metadata": {},
     "output_type": "execute_result"
    }
   ],
   "source": [
    "submit(answer, 'b', 2, 2021)"
   ]
  },
  {
   "cell_type": "markdown",
   "metadata": {},
   "source": [
    "## Day 3 - Binary Diagnostic"
   ]
  },
  {
   "cell_type": "code",
   "execution_count": 2,
   "metadata": {},
   "outputs": [],
   "source": [
    "puzzle = Puzzle(2021, 3)\n",
    "data = puzzle.input_data"
   ]
  },
  {
   "cell_type": "code",
   "execution_count": 3,
   "metadata": {},
   "outputs": [],
   "source": [
    "arr = np.array([[int(x) for x in line] for line in data.splitlines()])"
   ]
  },
  {
   "cell_type": "code",
   "execution_count": 4,
   "metadata": {},
   "outputs": [],
   "source": [
    "arr_df = pd.DataFrame(arr)"
   ]
  },
  {
   "cell_type": "code",
   "execution_count": 5,
   "metadata": {},
   "outputs": [],
   "source": [
    "def to_decimal(x):\n",
    "\treturn int(\"\".join([str(int(_)) for _ in x]),2)"
   ]
  },
  {
   "cell_type": "code",
   "execution_count": 6,
   "metadata": {},
   "outputs": [],
   "source": [
    "m = arr_df.mode(axis=0).astype(bool).values[0]\n",
    "gamma = to_decimal(m)\n",
    "epsilon = to_decimal(~m)"
   ]
  },
  {
   "cell_type": "code",
   "execution_count": 9,
   "metadata": {},
   "outputs": [],
   "source": [
    "answer = gamma * epsilon"
   ]
  },
  {
   "cell_type": "code",
   "execution_count": 61,
   "metadata": {},
   "outputs": [
    {
     "name": "stdout",
     "output_type": "stream",
     "text": [
      "\u001b[32mThat's the right answer!  You are one gold star closer to finding the sleigh keys. [Continue to Part Two]\u001b[0m\n"
     ]
    },
    {
     "data": {
      "text/plain": [
       "<Response [200]>"
      ]
     },
     "execution_count": 61,
     "metadata": {},
     "output_type": "execute_result"
    }
   ],
   "source": [
    "submit(answer, 'a',3,2021)"
   ]
  },
  {
   "cell_type": "code",
   "execution_count": 8,
   "metadata": {},
   "outputs": [],
   "source": [
    "most_common_per_bit = m.astype(int)\n",
    "least_common_per_but = (~m).astype(int)\n"
   ]
  },
  {
   "cell_type": "code",
   "execution_count": 47,
   "metadata": {},
   "outputs": [],
   "source": [
    "s = np.array([all(x) for x in (arr == most_common_per_bit)])"
   ]
  },
  {
   "cell_type": "code",
   "execution_count": 153,
   "metadata": {},
   "outputs": [],
   "source": [
    "def f(array,i, most=True):\n",
    "\tif len(array) == 1:\n",
    "\t\treturn to_decimal(array[0])\n",
    "\telse:\n",
    "\t\ta_df = pd.DataFrame(array)\n",
    "\t\tequals = a_df.sum(axis=0) == len(a_df)/2\n",
    "\t\tmask = a_df.mode(axis=0).astype(bool).values[0]\n",
    "\t\tmask[equals] = True\n",
    "\t\tif not most:\n",
    "\t\t\tmask = ~mask\n",
    "\t\tvalue = int(mask[i])\n",
    "\t\tl = array[:,i] == value\n",
    "\t\tarray = array[l]\n",
    "\t\treturn f(array, i+1, most)"
   ]
  },
  {
   "cell_type": "code",
   "execution_count": 154,
   "metadata": {},
   "outputs": [],
   "source": [
    "def get_number(arr):\n",
    "\treturn [f(arr.copy(),0, sign) for sign in [True, False]]\n",
    "\t\t\t\t"
   ]
  },
  {
   "cell_type": "code",
   "execution_count": 157,
   "metadata": {},
   "outputs": [],
   "source": [
    "a = get_number(arr)"
   ]
  },
  {
   "cell_type": "code",
   "execution_count": 158,
   "metadata": {},
   "outputs": [],
   "source": [
    "answer = a[0] * a[1]"
   ]
  },
  {
   "cell_type": "code",
   "execution_count": 159,
   "metadata": {},
   "outputs": [
    {
     "data": {
      "text/plain": [
       "4996233"
      ]
     },
     "execution_count": 159,
     "metadata": {},
     "output_type": "execute_result"
    }
   ],
   "source": [
    "answer"
   ]
  },
  {
   "cell_type": "code",
   "execution_count": 160,
   "metadata": {},
   "outputs": [
    {
     "name": "stdout",
     "output_type": "stream",
     "text": [
      "\u001b[32mThat's the right answer!  You are one gold star closer to finding the sleigh keys.You have completed Day 3! You can [Shareon\n",
      "  Twitter\n",
      "Mastodon] this victory or [Return to Your Advent Calendar].\u001b[0m\n"
     ]
    },
    {
     "data": {
      "text/plain": [
       "<Response [200]>"
      ]
     },
     "execution_count": 160,
     "metadata": {},
     "output_type": "execute_result"
    }
   ],
   "source": [
    "submit(answer, 'b',3, 2021)"
   ]
  },
  {
   "cell_type": "markdown",
   "metadata": {},
   "source": [
    "## Day 4 - Bingo"
   ]
  },
  {
   "cell_type": "code",
   "execution_count": 161,
   "metadata": {},
   "outputs": [],
   "source": [
    "puzzle = Puzzle(2021, 4)\n",
    "data = puzzle.input_data"
   ]
  },
  {
   "cell_type": "code",
   "execution_count": 165,
   "metadata": {},
   "outputs": [],
   "source": [
    "l = data.splitlines()\n",
    "numbers = l[0]"
   ]
  },
  {
   "cell_type": "code",
   "execution_count": 254,
   "metadata": {},
   "outputs": [],
   "source": [
    "class Board:\n",
    "\tdef __init__(self, string):\n",
    "\t\tself.arr = np.array([np.fromstring(s, sep=\" \") for s in string]).astype(int)\n",
    "\t\tself.mask = np.zeros_like(self.arr).astype(bool)\n",
    "\t\tself.last_value = 0\n",
    "\tdef add_number(self, value):\n",
    "\t\tself.mask = self.mask | (self.arr == value)\n",
    "\t\tself.last_value = value\n",
    "\t\n",
    "\t@property\n",
    "\tdef won(self):\n",
    "\t\trow_counts = any([all(x) for x in self.mask])\n",
    "\t\tcol_counts = any([all(x) for x in self.mask.T])\n",
    "\t\treturn row_counts | col_counts\n",
    "\t\t\n",
    "\tdef unmarked_sum(self):\n",
    "\t\treturn self.arr[~self.mask].sum() * self.last_value"
   ]
  },
  {
   "cell_type": "code",
   "execution_count": 230,
   "metadata": {},
   "outputs": [],
   "source": [
    "numbers = np.fromstring(l[0], sep=',').astype(int)"
   ]
  },
  {
   "cell_type": "code",
   "execution_count": 274,
   "metadata": {},
   "outputs": [],
   "source": [
    "def make_boards():\n",
    "\tboards = []\n",
    "\tfor i in range(100):\n",
    "\t\ts = 2 + (i*6)\n",
    "\t\te = s+5\n",
    "\t\tv = l[s:e]\n",
    "\t\tb = Board(v)\n",
    "\t\tboards.append(b)\n",
    "\treturn boards"
   ]
  },
  {
   "cell_type": "code",
   "execution_count": 256,
   "metadata": {},
   "outputs": [
    {
     "name": "stdout",
     "output_type": "stream",
     "text": [
      "82440\n",
      "39388\n",
      "66123\n",
      "80352\n",
      "56916\n",
      "8370\n",
      "25947\n",
      "28070\n",
      "27268\n",
      "25664\n",
      "0\n",
      "51590\n",
      "57021\n",
      "21582\n",
      "1308\n",
      "49704\n",
      "15696\n",
      "56898\n",
      "49005\n",
      "38115\n",
      "40590\n",
      "33594\n",
      "6108\n",
      "8340\n",
      "15568\n",
      "32804\n",
      "35584\n",
      "52820\n",
      "50596\n",
      "34435\n",
      "30070\n",
      "10670\n",
      "25705\n",
      "20286\n",
      "20670\n",
      "42930\n",
      "34125\n",
      "39130\n",
      "33670\n",
      "22344\n",
      "22850\n",
      "7902\n",
      "7463\n",
      "32047\n",
      "5707\n",
      "27270\n",
      "30300\n",
      "24240\n",
      "10605\n",
      "25755\n",
      "23556\n",
      "24915\n",
      "31280\n",
      "29440\n",
      "10140\n",
      "12168\n",
      "13677\n",
      "873\n",
      "6890\n",
      "11856\n",
      "17472\n",
      "4575\n",
      "7560\n",
      "3240\n",
      "4440\n",
      "11280\n",
      "840\n",
      "3375\n",
      "4350\n",
      "675\n",
      "5850\n",
      "4875\n",
      "5400\n",
      "450\n",
      "854\n",
      "0\n",
      "0\n",
      "0\n",
      "0\n",
      "0\n"
     ]
    }
   ],
   "source": [
    "boards = make_boards()\n",
    "for n in numbers:\n",
    "\tfor b in boards:\n",
    "\t\tb.add_number(n)\n",
    "\t\tif b.won:\n",
    "\t\t\tanswer = b.unmarked_sum()\n",
    "\t\t"
   ]
  },
  {
   "cell_type": "code",
   "execution_count": 257,
   "metadata": {},
   "outputs": [
    {
     "name": "stdout",
     "output_type": "stream",
     "text": [
      "\u001b[32mThat's the right answer!  You are one gold star closer to finding the sleigh keys. [Continue to Part Two]\u001b[0m\n"
     ]
    },
    {
     "data": {
      "text/plain": [
       "<Response [200]>"
      ]
     },
     "execution_count": 257,
     "metadata": {},
     "output_type": "execute_result"
    }
   ],
   "source": [
    "submit(82440, 'a', 4, 2021)"
   ]
  },
  {
   "cell_type": "code",
   "execution_count": 276,
   "metadata": {},
   "outputs": [],
   "source": [
    "won_boards = []\n",
    "boards = make_boards()\n",
    "for n in numbers:\n",
    "\tfor j,b in enumerate(boards):\n",
    "\t\tif b not in won_boards:\n",
    "\t\t\tb.add_number(n)\n",
    "\t\t\tif b.won:\n",
    "\t\t\t\twon_boards.append(b)"
   ]
  },
  {
   "cell_type": "code",
   "execution_count": 277,
   "metadata": {},
   "outputs": [
    {
     "data": {
      "text/plain": [
       "100"
      ]
     },
     "execution_count": 277,
     "metadata": {},
     "output_type": "execute_result"
    }
   ],
   "source": [
    "len(won_boards)"
   ]
  },
  {
   "cell_type": "code",
   "execution_count": 278,
   "metadata": {},
   "outputs": [
    {
     "data": {
      "text/plain": [
       "20774"
      ]
     },
     "execution_count": 278,
     "metadata": {},
     "output_type": "execute_result"
    }
   ],
   "source": [
    "won_boards[-1].unmarked_sum()"
   ]
  },
  {
   "cell_type": "code",
   "execution_count": 279,
   "metadata": {},
   "outputs": [
    {
     "name": "stdout",
     "output_type": "stream",
     "text": [
      "\u001b[32mThat's the right answer!  You are one gold star closer to finding the sleigh keys.You have completed Day 4! You can [Shareon\n",
      "  Twitter\n",
      "Mastodon] this victory or [Return to Your Advent Calendar].\u001b[0m\n"
     ]
    },
    {
     "data": {
      "text/plain": [
       "<Response [200]>"
      ]
     },
     "execution_count": 279,
     "metadata": {},
     "output_type": "execute_result"
    }
   ],
   "source": [
    "submit(20774,'b',4,2021)"
   ]
  },
  {
   "cell_type": "markdown",
   "metadata": {},
   "source": [
    "## Day 5 - Hydrothermal Venture"
   ]
  },
  {
   "cell_type": "code",
   "execution_count": 2,
   "metadata": {},
   "outputs": [],
   "source": [
    "puzzle = Puzzle(2021,5)\n",
    "data = puzzle.input_data"
   ]
  },
  {
   "cell_type": "code",
   "execution_count": 3,
   "metadata": {},
   "outputs": [],
   "source": [
    "def parse_coords(x):\n",
    "\tcoords = x.split(\" \")\n",
    "\tx1, y1 = np.fromstring(coords[0],sep=',').astype(int)\n",
    "\tx2, y2 = np.fromstring(coords[-1],sep=',').astype(int)\n",
    "\treturn np.array([x1,y1,x2,y2])"
   ]
  },
  {
   "cell_type": "code",
   "execution_count": 4,
   "metadata": {},
   "outputs": [],
   "source": [
    "coords = np.array([parse_coords(x) for x in data.splitlines()])"
   ]
  },
  {
   "cell_type": "code",
   "execution_count": 69,
   "metadata": {},
   "outputs": [],
   "source": [
    "class Grid:\n",
    "\tdef __init__(self,size, include_diags=False):\n",
    "\t\tself.include_diags = include_diags\n",
    "\t\tself.grid = np.zeros(shape=(size,size))\n",
    "\n",
    "\tdef add_coords(self,x1,y1,x2,y2):\n",
    "\t\tif x1 == x2:\n",
    "\t\t\ts,e =self.get_bounds(y1,y2)\n",
    "\t\t\tself.grid[x1,s:e] += 1\n",
    "\t\telif y1 == y2:\n",
    "\t\t\ts,e = self.get_bounds(x1,x2)\n",
    "\t\t\tself.grid[s:e, y1] += 1\n",
    "\t\telif self.include_diags:\n",
    "\t\t\txd = int((x2-x1)/abs(x2-x1))\n",
    "\t\t\tyd = int((y2-y1)/abs(y2-y1))\n",
    "\t\t\tm = yd/xd\n",
    "\t\t\tfor i in range(abs(x1-x2)+1):\n",
    "\t\t\t\tx = x1+int(i*xd)\n",
    "\t\t\t\ty = y1+int(i*yd)\n",
    "\t\t\t\tself.grid[x,y] += 1\n",
    "\n",
    "\t@staticmethod\n",
    "\tdef get_bounds(x,y):\n",
    "\t\tif x < y:\n",
    "\t\t\ts = x\n",
    "\t\t\te = y + 1\n",
    "\t\telse:\n",
    "\t\t\ts = y\n",
    "\t\t\te = x + 1\n",
    "\t\treturn s,e\n",
    "\n",
    "\tdef __str__(self):\n",
    "\t\ts = self.grid.astype(int).astype(str)\n",
    "\t\ts[s == '0'] = '.'\n",
    "\t\treturn \"\\n\".join([\"\".join(list(x)) for x in s])"
   ]
  },
  {
   "cell_type": "code",
   "execution_count": 360,
   "metadata": {},
   "outputs": [],
   "source": [
    "g = Grid(1000)\n",
    "for c in coords:\n",
    "\tg.add_coords(*c)"
   ]
  },
  {
   "cell_type": "code",
   "execution_count": 331,
   "metadata": {},
   "outputs": [],
   "source": [
    "answer = len(g.grid[g.grid >= 2].flatten())"
   ]
  },
  {
   "cell_type": "code",
   "execution_count": 332,
   "metadata": {},
   "outputs": [
    {
     "data": {
      "text/plain": [
       "4873"
      ]
     },
     "execution_count": 332,
     "metadata": {},
     "output_type": "execute_result"
    }
   ],
   "source": [
    "answer"
   ]
  },
  {
   "cell_type": "code",
   "execution_count": 333,
   "metadata": {},
   "outputs": [
    {
     "name": "stdout",
     "output_type": "stream",
     "text": [
      "\u001b[32mThat's the right answer!  You are one gold star closer to finding the sleigh keys. [Continue to Part Two]\u001b[0m\n"
     ]
    },
    {
     "data": {
      "text/plain": [
       "<Response [200]>"
      ]
     },
     "execution_count": 333,
     "metadata": {},
     "output_type": "execute_result"
    }
   ],
   "source": [
    "submit(answer, 'a', 5, 2021)"
   ]
  },
  {
   "cell_type": "code",
   "execution_count": 83,
   "metadata": {},
   "outputs": [],
   "source": [
    "g = Grid(2500, include_diags=True)\n",
    "for c in coords:\n",
    "\tg.add_coords(*c)\n",
    "answer = len(g.grid[g.grid >= 2].flatten())"
   ]
  },
  {
   "cell_type": "code",
   "execution_count": 84,
   "metadata": {},
   "outputs": [
    {
     "data": {
      "text/plain": [
       "19472"
      ]
     },
     "execution_count": 84,
     "metadata": {},
     "output_type": "execute_result"
    }
   ],
   "source": [
    "answer"
   ]
  },
  {
   "cell_type": "code",
   "execution_count": 85,
   "metadata": {},
   "outputs": [
    {
     "name": "stdout",
     "output_type": "stream",
     "text": [
      "\u001b[32mThat's the right answer!  You are one gold star closer to finding the sleigh keys.You have completed Day 5! You can [Shareon\n",
      "  Twitter\n",
      "Mastodon] this victory or [Return to Your Advent Calendar].\u001b[0m\n"
     ]
    },
    {
     "data": {
      "text/plain": [
       "<Response [200]>"
      ]
     },
     "execution_count": 85,
     "metadata": {},
     "output_type": "execute_result"
    }
   ],
   "source": [
    "submit(answer,'b',5)"
   ]
  },
  {
   "cell_type": "code",
   "execution_count": 47,
   "metadata": {},
   "outputs": [],
   "source": [
    "g = Grid(10, include_diags=True)"
   ]
  },
  {
   "cell_type": "code",
   "execution_count": 78,
   "metadata": {},
   "outputs": [],
   "source": [
    "t = \"\"\"0,9 -> 5,9\n",
    "8,0 -> 0,8\n",
    "9,4 -> 3,4\n",
    "2,2 -> 2,1\n",
    "7,0 -> 7,4\n",
    "6,4 -> 2,0\n",
    "0,9 -> 2,9\n",
    "3,4 -> 1,4\n",
    "0,0 -> 8,8\n",
    "5,5 -> 8,2\"\"\"\n",
    "test_coords = np.array([parse_coords(x) for x in t.splitlines()])\n",
    "g = Grid(10, include_diags=True)\n",
    "for c in test_coords:\n",
    "\tg.add_coords(*c)"
   ]
  },
  {
   "cell_type": "code",
   "execution_count": 79,
   "metadata": {},
   "outputs": [
    {
     "name": "stdout",
     "output_type": "stream",
     "text": [
      "1.1....11.\n",
      ".111...2..\n",
      "..2.1.111.\n",
      "...1.2.2..\n",
      ".112313211\n",
      "...1.2....\n",
      "..1...1...\n",
      ".1.....1..\n",
      "1.......1.\n",
      "222111....\n"
     ]
    }
   ],
   "source": [
    "g.grid = g.grid.T\n",
    "print(g)"
   ]
  },
  {
   "cell_type": "code",
   "execution_count": 82,
   "metadata": {},
   "outputs": [
    {
     "data": {
      "text/plain": [
       "26.0"
      ]
     },
     "execution_count": 82,
     "metadata": {},
     "output_type": "execute_result"
    }
   ],
   "source": [
    "g.grid[g.grid >=2].sum()"
   ]
  },
  {
   "cell_type": "code",
   "execution_count": 73,
   "metadata": {},
   "outputs": [],
   "source": [
    "g = Grid(10, include_diags=True)"
   ]
  },
  {
   "cell_type": "code",
   "execution_count": 74,
   "metadata": {},
   "outputs": [],
   "source": [
    "g.add_coords(1,1,3,3)\n"
   ]
  },
  {
   "cell_type": "code",
   "execution_count": 75,
   "metadata": {},
   "outputs": [],
   "source": [
    "g.add_coords(9,7,7,9)"
   ]
  },
  {
   "cell_type": "code",
   "execution_count": 76,
   "metadata": {},
   "outputs": [
    {
     "name": "stdout",
     "output_type": "stream",
     "text": [
      "..........\n",
      ".1........\n",
      "..1.......\n",
      "...1......\n",
      "..........\n",
      "..........\n",
      "..........\n",
      ".........1\n",
      "........1.\n",
      ".......1..\n"
     ]
    }
   ],
   "source": [
    "print(g)"
   ]
  },
  {
   "cell_type": "code",
   "execution_count": 53,
   "metadata": {},
   "outputs": [
    {
     "data": {
      "text/plain": [
       "array([[0., 0., 0., 0., 0., 0., 0., 0., 0., 0.],\n",
       "       [0., 1., 0., 0., 0., 0., 0., 0., 0., 0.],\n",
       "       [0., 0., 1., 0., 0., 0., 0., 0., 0., 0.],\n",
       "       [0., 0., 0., 1., 0., 0., 0., 0., 0., 0.],\n",
       "       [0., 0., 0., 0., 0., 0., 0., 0., 0., 0.],\n",
       "       [0., 0., 0., 0., 0., 0., 0., 0., 0., 0.],\n",
       "       [0., 0., 0., 0., 0., 0., 0., 0., 0., 0.],\n",
       "       [0., 0., 0., 0., 0., 0., 0., 0., 0., 1.],\n",
       "       [0., 0., 0., 0., 0., 0., 0., 0., 1., 0.],\n",
       "       [0., 0., 0., 0., 0., 0., 0., 1., 0., 0.]])"
      ]
     },
     "execution_count": 53,
     "metadata": {},
     "output_type": "execute_result"
    }
   ],
   "source": [
    "g.grid"
   ]
  },
  {
   "cell_type": "code",
   "execution_count": null,
   "metadata": {},
   "outputs": [],
   "source": []
  },
  {
   "cell_type": "markdown",
   "metadata": {},
   "source": [
    "## Day 6 - Lanternfish "
   ]
  },
  {
   "cell_type": "code",
   "execution_count": 2,
   "metadata": {},
   "outputs": [],
   "source": [
    "puzzle = Puzzle(day=6, year=2021)\n",
    "data = puzzle.input_data"
   ]
  },
  {
   "cell_type": "code",
   "execution_count": 3,
   "metadata": {},
   "outputs": [],
   "source": [
    "class Laternfish:\n",
    "\tdef __init__(self, days):\n",
    "\t\tself.days = days\n",
    "\tdef count_down(self):\n",
    "\t\tif self.days == 0:\n",
    "\t\t\tself.days = 6\n",
    "\t\telse:\n",
    "\t\t\tself.days -= 1\n",
    "\t\n",
    "\tdef spawn_fish(self):\n",
    "\t\tif self.days == 0:\n",
    "\t\t\treturn Laternfish(8)\n",
    "\t\telse:\n",
    "\t\t\treturn None"
   ]
  },
  {
   "cell_type": "code",
   "execution_count": 4,
   "metadata": {},
   "outputs": [],
   "source": [
    "def count_fish(init_vals, days):\n",
    "\tfish_list = [Laternfish(v) for v in init_vals]\n",
    "\tfor d in range(days):\n",
    "\t\tnew_fishes = []\n",
    "\t\tfor fish in fish_list:\n",
    "\t\t\tnew_fish = fish.spawn_fish()\n",
    "\t\t\tfish.count_down()\n",
    "\t\t\tif new_fish is not None:\n",
    "\t\t\t\tnew_fishes.append(new_fish)\n",
    "\t\tif len(new_fishes) > 0:\n",
    "\t\t\tfish_list.extend(new_fishes)\n",
    "\treturn len(fish_list) "
   ]
  },
  {
   "cell_type": "code",
   "execution_count": 117,
   "metadata": {},
   "outputs": [
    {
     "data": {
      "text/plain": [
       "26"
      ]
     },
     "execution_count": 117,
     "metadata": {},
     "output_type": "execute_result"
    }
   ],
   "source": [
    "count_fish([3,4,3,1,2], 18)"
   ]
  },
  {
   "cell_type": "code",
   "execution_count": 5,
   "metadata": {},
   "outputs": [],
   "source": [
    "init_fish = np.fromstring(data,sep=',').astype(int)\n",
    "answer = count_fish(init_fish, 80)"
   ]
  },
  {
   "cell_type": "code",
   "execution_count": 125,
   "metadata": {},
   "outputs": [
    {
     "name": "stdout",
     "output_type": "stream",
     "text": [
      "\u001b[32mThat's the right answer!  You are one gold star closer to finding the sleigh keys. [Continue to Part Two]\u001b[0m\n"
     ]
    },
    {
     "data": {
      "text/plain": [
       "<Response [200]>"
      ]
     },
     "execution_count": 125,
     "metadata": {},
     "output_type": "execute_result"
    }
   ],
   "source": [
    "submit(answer, 'a', 6, 2021)"
   ]
  },
  {
   "cell_type": "code",
   "execution_count": 182,
   "metadata": {},
   "outputs": [],
   "source": [
    "def count_fish_arr(init_fish, days):\n",
    "\tfor fish in init_fish:\n",
    "\t\tnum_spawns = fish "
   ]
  },
  {
   "cell_type": "code",
   "execution_count": 25,
   "metadata": {},
   "outputs": [],
   "source": [
    "from functools import lru_cache"
   ]
  },
  {
   "cell_type": "code",
   "execution_count": 65,
   "metadata": {},
   "outputs": [],
   "source": [
    "@lru_cache(1000)\n",
    "def n(x,d=7):\n",
    "\tif x == 0:\n",
    "\t\treturn 1\n",
    "\tif (x % d) == 0:\n",
    "\t\treturn n(x-1,7) + n(x-2,8)\n",
    "\telse:\n",
    "\t\treturn n(x-1,7)\n"
   ]
  },
  {
   "cell_type": "code",
   "execution_count": 142,
   "metadata": {},
   "outputs": [],
   "source": [
    "def count_fish(init_fish, days):\n",
    "\tf = {x:0 for x in range(-1,9)}\n",
    "\tfor v in init_fish:\n",
    "\t\tf[v] += 1\n",
    "\tfor d in range(days):\n",
    "\t\tfor k,v in f.items():\n",
    "\t\t\tif k >= 0:\n",
    "\t\t\t\tf[k-1] = f[k]\n",
    "\t\tf[8] = f[-1]\n",
    "\t\tf[6] += f[-1]\n",
    "\t\tf[-1] = 0\n",
    "\treturn sum(f.values())\n"
   ]
  },
  {
   "cell_type": "code",
   "execution_count": 147,
   "metadata": {},
   "outputs": [
    {
     "name": "stdout",
     "output_type": "stream",
     "text": [
      "CPU times: user 31 µs, sys: 0 ns, total: 31 µs\n",
      "Wall time: 33.6 µs\n"
     ]
    },
    {
     "data": {
      "text/plain": [
       "26"
      ]
     },
     "execution_count": 147,
     "metadata": {},
     "output_type": "execute_result"
    }
   ],
   "source": [
    "%time count_fish([3,4,3,1,2],18)"
   ]
  },
  {
   "cell_type": "code",
   "execution_count": null,
   "metadata": {},
   "outputs": [],
   "source": []
  },
  {
   "cell_type": "code",
   "execution_count": 148,
   "metadata": {},
   "outputs": [
    {
     "name": "stdout",
     "output_type": "stream",
     "text": [
      "CPU times: user 175 µs, sys: 7 µs, total: 182 µs\n",
      "Wall time: 185 µs\n"
     ]
    },
    {
     "data": {
      "text/plain": [
       "1570"
      ]
     },
     "execution_count": 148,
     "metadata": {},
     "output_type": "execute_result"
    }
   ],
   "source": [
    "%time count_fish(init_fish, 18)"
   ]
  },
  {
   "cell_type": "code",
   "execution_count": 149,
   "metadata": {},
   "outputs": [
    {
     "name": "stdout",
     "output_type": "stream",
     "text": [
      "CPU times: user 408 µs, sys: 0 ns, total: 408 µs\n",
      "Wall time: 411 µs\n"
     ]
    },
    {
     "data": {
      "text/plain": [
       "1609314870967"
      ]
     },
     "execution_count": 149,
     "metadata": {},
     "output_type": "execute_result"
    }
   ],
   "source": [
    "%time count_fish(init_fish, 256)"
   ]
  },
  {
   "cell_type": "code",
   "execution_count": 150,
   "metadata": {},
   "outputs": [],
   "source": [
    "answer = count_fish(init_fish, 256)"
   ]
  },
  {
   "cell_type": "code",
   "execution_count": 151,
   "metadata": {},
   "outputs": [
    {
     "name": "stdout",
     "output_type": "stream",
     "text": [
      "\u001b[32mThat's the right answer!  You are one gold star closer to finding the sleigh keys.You have completed Day 6! You can [Shareon\n",
      "  Twitter\n",
      "Mastodon] this victory or [Return to Your Advent Calendar].\u001b[0m\n"
     ]
    },
    {
     "data": {
      "text/plain": [
       "<Response [200]>"
      ]
     },
     "execution_count": 151,
     "metadata": {},
     "output_type": "execute_result"
    }
   ],
   "source": [
    "submit(answer, 'b', 6, 2021)"
   ]
  },
  {
   "cell_type": "markdown",
   "metadata": {},
   "source": [
    "## Day 7 - The Treachery of Whales"
   ]
  },
  {
   "cell_type": "code",
   "execution_count": 152,
   "metadata": {},
   "outputs": [],
   "source": [
    "puzzle = Puzzle(2021,7)\n",
    "data = puzzle.input_data"
   ]
  },
  {
   "cell_type": "code",
   "execution_count": 154,
   "metadata": {},
   "outputs": [],
   "source": [
    "t = np.array([16,1,2,0,4,2,7,1,2,14])"
   ]
  },
  {
   "cell_type": "code",
   "execution_count": 158,
   "metadata": {},
   "outputs": [],
   "source": [
    "def dist(crabs, x):\n",
    "\treturn np.abs(crabs - x).sum()\n",
    "def min_dist(crabs):\n",
    "\tx = set(crabs)\n",
    "\treturn min([dist(crabs,d) for d in x])"
   ]
  },
  {
   "cell_type": "code",
   "execution_count": 161,
   "metadata": {},
   "outputs": [],
   "source": [
    "crabs = np.fromstring(data, sep=',').astype(int)"
   ]
  },
  {
   "cell_type": "code",
   "execution_count": 162,
   "metadata": {},
   "outputs": [],
   "source": [
    "answer = min_dist(crabs)"
   ]
  },
  {
   "cell_type": "code",
   "execution_count": 164,
   "metadata": {},
   "outputs": [
    {
     "name": "stdout",
     "output_type": "stream",
     "text": [
      "\u001b[32mThat's the right answer!  You are one gold star closer to finding the sleigh keys. [Continue to Part Two]\u001b[0m\n"
     ]
    },
    {
     "data": {
      "text/plain": [
       "<Response [200]>"
      ]
     },
     "execution_count": 164,
     "metadata": {},
     "output_type": "execute_result"
    }
   ],
   "source": [
    "submit(answer,'a',7)"
   ]
  },
  {
   "cell_type": "code",
   "execution_count": 181,
   "metadata": {},
   "outputs": [],
   "source": [
    "def arr(x):\n",
    "\treturn 0.5*(x * (x+1))\n",
    "def extra_dist(crabs, x):\n",
    "\treturn arr(np.abs(crabs - x)).sum().astype(int)\n",
    "def min_dist(crabs):\n",
    "\tx = set(crabs)\n",
    "\treturn min([extra_dist(crabs,d) for d in x])"
   ]
  },
  {
   "cell_type": "code",
   "execution_count": 182,
   "metadata": {},
   "outputs": [
    {
     "data": {
      "text/plain": [
       "206"
      ]
     },
     "execution_count": 182,
     "metadata": {},
     "output_type": "execute_result"
    }
   ],
   "source": [
    "extra_dist(t, 2).sum()"
   ]
  },
  {
   "cell_type": "code",
   "execution_count": 183,
   "metadata": {},
   "outputs": [],
   "source": [
    "answer = min_dist(crabs)"
   ]
  },
  {
   "cell_type": "code",
   "execution_count": 184,
   "metadata": {},
   "outputs": [
    {
     "name": "stdout",
     "output_type": "stream",
     "text": [
      "\u001b[32mThat's the right answer!  You are one gold star closer to finding the sleigh keys.You have completed Day 7! You can [Shareon\n",
      "  Twitter\n",
      "Mastodon] this victory or [Return to Your Advent Calendar].\u001b[0m\n"
     ]
    },
    {
     "data": {
      "text/plain": [
       "<Response [200]>"
      ]
     },
     "execution_count": 184,
     "metadata": {},
     "output_type": "execute_result"
    }
   ],
   "source": [
    "submit(answer, 'b',7)"
   ]
  },
  {
   "cell_type": "markdown",
   "metadata": {},
   "source": [
    "## Days 8 - Seven Segment Search"
   ]
  },
  {
   "cell_type": "code",
   "execution_count": 5,
   "metadata": {},
   "outputs": [],
   "source": [
    "from itertools import permutations"
   ]
  },
  {
   "cell_type": "code",
   "execution_count": 6,
   "metadata": {},
   "outputs": [],
   "source": [
    "puzzle = Puzzle(2021, 8)\n",
    "data = puzzle.input_data"
   ]
  },
  {
   "cell_type": "code",
   "execution_count": 7,
   "metadata": {},
   "outputs": [],
   "source": [
    "lines = data.splitlines()"
   ]
  },
  {
   "cell_type": "code",
   "execution_count": 122,
   "metadata": {},
   "outputs": [
    {
     "data": {
      "text/plain": [
       "dict_values(['abcefg', 'cf', 'acdeg', 'acdfg', 'bcdf', 'abdfg', 'abdefg', 'acf', 'abcdefg', 'abcdfg'])"
      ]
     },
     "execution_count": 122,
     "metadata": {},
     "output_type": "execute_result"
    }
   ],
   "source": [
    "\t{0:'abcefg',\n",
    "\t\t1:'cf',\n",
    "\t\t2:'acdeg',\n",
    "\t\t3:'acdfg',\n",
    "\t\t4:'bcdf',\n",
    "\t\t5:'abdfg',\n",
    "\t\t6:'abdefg',\n",
    "\t\t7:'acf',\n",
    "\t\t8:'abcdefg',\n",
    "\t\t9:'abcdfg'\n",
    "\n",
    "\t}.values()"
   ]
  },
  {
   "cell_type": "code",
   "execution_count": 221,
   "metadata": {},
   "outputs": [],
   "source": [
    "letters = ['a','b','c','d','e','f','g']\n",
    "values = sorted(['abcefg', 'cf', 'acdeg', 'acdfg', 'bcdf', 'abdfg', 'abdefg', 'acf', 'abcdefg', 'abcdfg'],key=len)\n",
    "perms = {}\n",
    "\n",
    "def swap_letters(perm, digits):\n",
    "\td = {perm[i]:x for i,x in enumerate(letters)}\n",
    "\tvals = []\n",
    "\tfor digit in digits:\n",
    "\t\tx = ''.join(sorted([d[c] for c in digit]))\n",
    "\t\tvals.append(x)\n",
    "\treturn vals\n",
    "\n",
    "for perm in permutations(letters, 7):\n",
    "\td = {letters[i]: perm[i] for i in range(7)}\n",
    "\tperms[perm] = swap_letters(perm, values)\n",
    "\t\n",
    "def try_map(m, v1, v2):\n",
    "\tfor v in v1:\t\n",
    "\t\tvn = ''.join(sorted([m[x] for x in v]))\n",
    "\t\tif vn not in v2:\n",
    "\t\t\treturn False\n",
    "\treturn True\n",
    "\n",
    "\n",
    "\n",
    "class Signal:\n",
    "\tsegment_dict = {'a':[0,2,3,5,6,7,8,9],\n",
    "'b':[0,4,5,6,8,9],\n",
    "'c':[0,1,2,3,4,7,8,9],\n",
    "'d':[2,3,4,5,6,8,9],\n",
    "'e':[0,2,6,8],\n",
    "'f':[0,1,3,4,5,6,7,8,9],\n",
    "'g':[0,2,3,5,6,8,9]}\n",
    "\tnumber_dict = {\n",
    "\t\t'abcefg':0,\n",
    "\t\t'cf':1,\n",
    "\t\t'acdeg':2,\n",
    "\t\t'acdfg':3,\n",
    "\t\t'bcdf':4,\n",
    "\t\t'abdfg':5,\n",
    "\t\t'abdefg':6,\n",
    "\t\t'acf':7,\n",
    "\t\t'abcdefg':8,\n",
    "\t\t'abcdfg':9\n",
    "\n",
    "\t}\n",
    "\t# number_lengths = {k:len(v) for k,v in Signal.number_dict.items()}\n",
    "\tperms = perms\n",
    "\n",
    "\n",
    "\n",
    "\tdef __init__(self, string) -> None:\n",
    "\t\tself.digits, self.number = [x.split(\" \") for x in string.split(\"|\")]\n",
    "\t\tself.number = [x for x in self.number if x != '']\n",
    "\t\tself.digits = self.digits[:-1]\n",
    "\t\tself.digits = sorted(self.digits, key=len)\n",
    "\t\tself.digits = [''.join(sorted(x)) for x in self.digits]\n",
    "\n",
    "\tdef count_numbers(self):\n",
    "\t\tcounts = np.array([len(x) for x in self.number])\n",
    "\t\tuniques = [1,4,7,8]\n",
    "\t\tdig_count = {}\n",
    "\t\tfor i in uniques:\n",
    "\t\t\tv = self.number_lengths[i]\n",
    "\t\t\tdig_count[i] = sum(counts == v)\n",
    "\t\treturn dig_count\n",
    "\n",
    "\tdef decode(self):\n",
    "\t\tfor k, v in self.perms.items():\n",
    "\t\t\tif all([x in v for x in self.digits]):\n",
    "\t\t\t\treturn k, v\n",
    "\n",
    "\tdef get_number(self):\n",
    "\t\tcode = {x:v for x,v in zip(letters, self.decode()[0])}\n",
    "\t\tvs =[]\n",
    "\t\tfor digit in self.number:\n",
    "\t\t\tv = [code[d] for d in digit]\n",
    "\t\t\tv = ''.join(sorted(v))\n",
    "\t\t\tvs.append(str(self.number_dict[v]))\n",
    "\t\treturn int(''.join(vs))\n",
    "\t\t\n"
   ]
  },
  {
   "cell_type": "code",
   "execution_count": 222,
   "metadata": {},
   "outputs": [],
   "source": [
    "test = Signal(\"acedgfb cdfbe gcdfa fbcad dab cefabd cdfgeb eafb cagedb ab |cdfeb fcadb cdfeb cdbaf\")"
   ]
  },
  {
   "cell_type": "markdown",
   "metadata": {},
   "source": []
  },
  {
   "cell_type": "code",
   "execution_count": 226,
   "metadata": {},
   "outputs": [],
   "source": [
    "signals = [Signal(l) for l in lines]"
   ]
  },
  {
   "cell_type": "code",
   "execution_count": 47,
   "metadata": {},
   "outputs": [],
   "source": [
    "counts = [s.count_numbers() for s in signals]"
   ]
  },
  {
   "cell_type": "code",
   "execution_count": 52,
   "metadata": {},
   "outputs": [],
   "source": [
    "answer =  pd.DataFrame(counts).sum().sum()"
   ]
  },
  {
   "cell_type": "code",
   "execution_count": 54,
   "metadata": {},
   "outputs": [
    {
     "name": "stdout",
     "output_type": "stream",
     "text": [
      "\u001b[32mThat's the right answer!  You are one gold star closer to finding the sleigh keys. [Continue to Part Two]\u001b[0m\n"
     ]
    },
    {
     "data": {
      "text/plain": [
       "<Response [200]>"
      ]
     },
     "execution_count": 54,
     "metadata": {},
     "output_type": "execute_result"
    }
   ],
   "source": [
    "submit(answer, 'a',8)"
   ]
  },
  {
   "cell_type": "code",
   "execution_count": 229,
   "metadata": {},
   "outputs": [],
   "source": [
    "answer = sum([s.get_number() for s in signals])"
   ]
  },
  {
   "cell_type": "code",
   "execution_count": 230,
   "metadata": {},
   "outputs": [
    {
     "name": "stdout",
     "output_type": "stream",
     "text": [
      "\u001b[32mThat's the right answer!  You are one gold star closer to finding the sleigh keys.You have completed Day 8! You can [Shareon\n",
      "  Twitter\n",
      "Mastodon] this victory or [Return to Your Advent Calendar].\u001b[0m\n"
     ]
    },
    {
     "data": {
      "text/plain": [
       "<Response [200]>"
      ]
     },
     "execution_count": 230,
     "metadata": {},
     "output_type": "execute_result"
    }
   ],
   "source": [
    "submit(answer, 'b',8)"
   ]
  },
  {
   "cell_type": "code",
   "execution_count": 228,
   "metadata": {},
   "outputs": [
    {
     "data": {
      "text/plain": [
       "1084606"
      ]
     },
     "execution_count": 228,
     "metadata": {},
     "output_type": "execute_result"
    }
   ],
   "source": [
    "sum(answer)"
   ]
  },
  {
   "cell_type": "markdown",
   "metadata": {},
   "source": [
    "## Day 9 - Smoke Basin"
   ]
  },
  {
   "cell_type": "code",
   "execution_count": 2,
   "metadata": {},
   "outputs": [],
   "source": [
    "puzzle = Puzzle(2021, 9)\n",
    "data = puzzle.input_data"
   ]
  },
  {
   "cell_type": "code",
   "execution_count": 3,
   "metadata": {},
   "outputs": [],
   "source": [
    "test = \"\"\"2199943210\n",
    "3987894921\n",
    "9856789892\n",
    "8767896789\n",
    "9899965678\"\"\".splitlines()\n",
    "\n",
    "arr1 = np.array([[int(x) for x in t] for t in test])"
   ]
  },
  {
   "cell_type": "code",
   "execution_count": 4,
   "metadata": {},
   "outputs": [],
   "source": [
    "def find_low_points(arr):\n",
    "\tup = arr.shift(1).fillna(1e6)\n",
    "\tdown = arr.shift(-1).fillna(1e6)\n",
    "\tleft = arr.T.shift(1).T.fillna(1e6)\n",
    "\tright = arr.T.shift(-1).T.fillna(1e6)\n",
    "\tv = (arr < up) & (arr < down) & (arr < left) & (arr < right)\n",
    "\treturn v\n",
    "\n",
    "def risk_level(arr):\n",
    "\tlp = find_low_points(arr)\n",
    "\treturn int((arr[lp] + 1).sum().sum())"
   ]
  },
  {
   "cell_type": "code",
   "execution_count": 275,
   "metadata": {},
   "outputs": [
    {
     "data": {
      "text/plain": [
       "15"
      ]
     },
     "execution_count": 275,
     "metadata": {},
     "output_type": "execute_result"
    }
   ],
   "source": [
    "risk_level(arr)"
   ]
  },
  {
   "cell_type": "code",
   "execution_count": 25,
   "metadata": {},
   "outputs": [],
   "source": [
    "arr = np.array([[int(x) for x in t] for t in data.splitlines()])"
   ]
  },
  {
   "cell_type": "code",
   "execution_count": 278,
   "metadata": {},
   "outputs": [],
   "source": [
    "arr_df = pd.DataFrame(arr)"
   ]
  },
  {
   "cell_type": "code",
   "execution_count": 279,
   "metadata": {},
   "outputs": [],
   "source": [
    "answer = risk_level(arr_df)"
   ]
  },
  {
   "cell_type": "code",
   "execution_count": 281,
   "metadata": {},
   "outputs": [
    {
     "name": "stdout",
     "output_type": "stream",
     "text": [
      "\u001b[32mThat's the right answer!  You are one gold star closer to finding the sleigh keys. [Continue to Part Two]\u001b[0m\n"
     ]
    },
    {
     "data": {
      "text/plain": [
       "<Response [200]>"
      ]
     },
     "execution_count": 281,
     "metadata": {},
     "output_type": "execute_result"
    }
   ],
   "source": [
    "submit(answer,'a',9)"
   ]
  },
  {
   "cell_type": "code",
   "execution_count": 21,
   "metadata": {},
   "outputs": [],
   "source": [
    "class Smoke:\n",
    "\tdef __init__(self, array):\n",
    "\t\tself.array = array\n",
    "\t\tself.xmax, self.ymax = array.shape\n",
    "\t\tself.count = 0\n",
    "\t\tself.mask = np.zeros_like(self.array).astype(bool)\n",
    "\t\n",
    "\tdef find_low_points(self):\n",
    "\t\tarr = pd.DataFrame(self.array)\n",
    "\t\tup = arr.shift(1).fillna(1e6)\n",
    "\t\tdown = arr.shift(-1).fillna(1e6)\n",
    "\t\tleft = arr.T.shift(1).T.fillna(1e6)\n",
    "\t\tright = arr.T.shift(-1).T.fillna(1e6)\n",
    "\t\tv = (self.array < up) & (self.array < down) & (self.array < left) & (self.array < right)\n",
    "\t\treturn v.values\n",
    "\n",
    "\tdef risk_level(self):\n",
    "\t\tlp = find_low_points(self.array)\n",
    "\t\treturn int((self.array[lp] + 1).sum().sum())\n",
    "\n",
    "\tdef low_point_coords(self):\n",
    "\t\tlp = self.find_low_points()\n",
    "\t\tcoords = np.transpose(lp.nonzero())\n",
    "\t\treturn coords\n",
    "\n",
    "\tdef traverse_basin(self, i, j):\n",
    "\t\tv = self.array[i,j]\n",
    "\t\tfor x in range(i+1, self.xmax):\n",
    "\t\t\tif (9 > self.array[x,j] > v) and not self.mask[x,j]:\n",
    "\t\t\t\tself.mask[x,j] = True\n",
    "\t\t\t\tself.traverse_basin(x,j)\n",
    "\t\t\telse:\n",
    "\t\t\t\tbreak\n",
    "\t\tfor x in range(i-1,-1,-1) :\n",
    "\t\t\tif (9 > self.array[x,j] > v) and not self.mask[x,j]:\n",
    "\t\t\t\tself.mask[x,j] = True\n",
    "\t\t\t\tself.traverse_basin(x,j)\n",
    "\t\t\telse:\n",
    "\t\t\t\tbreak\n",
    "\t\tfor y in range(j+1, self.ymax):\n",
    "\t\t\tif (9 > self.array[i,y] > v) and not self.mask[i,y]:\n",
    "\t\t\t\tself.mask[i,y] = True\n",
    "\t\t\t\tself.traverse_basin(i,y)\n",
    "\t\t\telse:\n",
    "\t\t\t\tbreak\n",
    "\t\tfor y in range(j-1,-1,-1):\n",
    "\t\t\tif (9 > self.array[i,y] > v) and not self.mask[i,y]:\n",
    "\t\t\t\tself.mask[i,y] = True\n",
    "\t\t\t\tself.traverse_basin(i,y)\n",
    "\t\t\telse:\n",
    "\t\t\t\tbreak\n",
    "\t\treturn self.mask.sum() + 1\n",
    "\n",
    "\tdef get_basins(self):\n",
    "\t\tbasins = []\n",
    "\t\tfor coord in self.low_point_coords():\n",
    "\t\t\tself.mask = np.zeros_like(self.array).astype(bool)\n",
    "\t\t\tbasin_size = self.traverse_basin(*coord)\n",
    "\t\t\tbasins.append(basin_size)\n",
    "\t\treturn basins\n",
    "\t\t"
   ]
  },
  {
   "cell_type": "code",
   "execution_count": 22,
   "metadata": {},
   "outputs": [],
   "source": [
    "s = Smoke(arr1)\n",
    "coords = s.low_point_coords()\n",
    "basins = s.get_basins()"
   ]
  },
  {
   "cell_type": "code",
   "execution_count": 26,
   "metadata": {},
   "outputs": [],
   "source": [
    "s = Smoke(arr)\n",
    "basins = s.get_basins()"
   ]
  },
  {
   "cell_type": "code",
   "execution_count": 33,
   "metadata": {},
   "outputs": [],
   "source": [
    "answer = np.array(sorted(basins)[-3:]).prod()"
   ]
  },
  {
   "cell_type": "code",
   "execution_count": 34,
   "metadata": {},
   "outputs": [
    {
     "name": "stdout",
     "output_type": "stream",
     "text": [
      "\u001b[32mThat's the right answer!  You are one gold star closer to finding the sleigh keys.You have completed Day 9! You can [Shareon\n",
      "  Twitter\n",
      "Mastodon] this victory or [Return to Your Advent Calendar].\u001b[0m\n"
     ]
    },
    {
     "data": {
      "text/plain": [
       "<Response [200]>"
      ]
     },
     "execution_count": 34,
     "metadata": {},
     "output_type": "execute_result"
    }
   ],
   "source": [
    "submit(answer,'b',9)"
   ]
  },
  {
   "cell_type": "markdown",
   "metadata": {},
   "source": [
    "## Day 10 - Syntax Scoring"
   ]
  },
  {
   "cell_type": "code",
   "execution_count": 22,
   "metadata": {},
   "outputs": [],
   "source": [
    "puzzle = Puzzle(2021, 10)\n",
    "data = puzzle.input_data"
   ]
  },
  {
   "cell_type": "code",
   "execution_count": 23,
   "metadata": {},
   "outputs": [],
   "source": [
    "matches = {'{':'}', '(':')','<':'>','[':']',\n",
    "'}':'{',']':'[',')':'(','>':'<'}"
   ]
  },
  {
   "cell_type": "code",
   "execution_count": 24,
   "metadata": {},
   "outputs": [],
   "source": [
    "import re"
   ]
  },
  {
   "cell_type": "code",
   "execution_count": 30,
   "metadata": {},
   "outputs": [
    {
     "ename": "AssertionError",
     "evalue": "",
     "output_type": "error",
     "traceback": [
      "\u001b[0;31m---------------------------------------------------------------------------\u001b[0m",
      "\u001b[0;31mAssertionError\u001b[0m                            Traceback (most recent call last)",
      "\u001b[0;32m/tmp/ipykernel_1362/1537742985.py\u001b[0m in \u001b[0;36m<module>\u001b[0;34m\u001b[0m\n\u001b[1;32m      1\u001b[0m \u001b[0;32massert\u001b[0m \u001b[0mcheck_line\u001b[0m\u001b[0;34m(\u001b[0m\u001b[0;34m'{([(<{}[<>[]}>{[]{[(<()>'\u001b[0m\u001b[0;34m)\u001b[0m \u001b[0;34m==\u001b[0m \u001b[0;34m'}'\u001b[0m\u001b[0;34m\u001b[0m\u001b[0;34m\u001b[0m\u001b[0m\n\u001b[0;32m----> 2\u001b[0;31m \u001b[0;32massert\u001b[0m \u001b[0mcheck_line\u001b[0m\u001b[0;34m(\u001b[0m\u001b[0;34m'[[<[([]))<([[{}[[()]]]'\u001b[0m\u001b[0;34m)\u001b[0m \u001b[0;34m==\u001b[0m \u001b[0;34m')'\u001b[0m\u001b[0;34m\u001b[0m\u001b[0;34m\u001b[0m\u001b[0m\n\u001b[0m\u001b[1;32m      3\u001b[0m \u001b[0;32massert\u001b[0m \u001b[0mcheck_line\u001b[0m\u001b[0;34m(\u001b[0m\u001b[0;34m'[{[{({}]{}}([{[{{{}}([]'\u001b[0m\u001b[0;34m)\u001b[0m \u001b[0;34m==\u001b[0m \u001b[0;34m']'\u001b[0m\u001b[0;34m\u001b[0m\u001b[0;34m\u001b[0m\u001b[0m\n\u001b[1;32m      4\u001b[0m \u001b[0;32massert\u001b[0m \u001b[0mcheck_line\u001b[0m\u001b[0;34m(\u001b[0m\u001b[0;34m'[<(<(<(<{}))><([]([]()'\u001b[0m\u001b[0;34m)\u001b[0m \u001b[0;34m==\u001b[0m \u001b[0;34m')'\u001b[0m\u001b[0;34m\u001b[0m\u001b[0;34m\u001b[0m\u001b[0m\n\u001b[1;32m      5\u001b[0m \u001b[0;32massert\u001b[0m \u001b[0mcheck_line\u001b[0m\u001b[0;34m(\u001b[0m\u001b[0;34m'<{([([[(<>()){}]>(<<{{'\u001b[0m\u001b[0;34m)\u001b[0m \u001b[0;34m==\u001b[0m \u001b[0;34m'>'\u001b[0m\u001b[0;34m\u001b[0m\u001b[0;34m\u001b[0m\u001b[0m\n",
      "\u001b[0;31mAssertionError\u001b[0m: "
     ]
    }
   ],
   "source": []
  },
  {
   "cell_type": "code",
   "execution_count": 40,
   "metadata": {},
   "outputs": [],
   "source": [
    "opening = list('([{<')\n",
    "closing = list(')]}>')\n",
    "points = [1,2,3,4]\n",
    "illegal_character_count = {'}':0,')':0,']':0,'>':0}\n",
    "\n",
    "def check_line(line, return_char=True):\n",
    "\tstack = []\n",
    "\tflag = True\n",
    "\tfor char in line:\n",
    "\t\tif char in opening:\n",
    "\t\t\tstack.append(char)\n",
    "\t\telif char in closing:\n",
    "\t\t\tif stack.pop() != opening[closing.index(char)]:\n",
    "\t\t\t\tillegal_character_count[char] += 1\n",
    "\t\t\t\tflag = False\n",
    "\t\t\t\tif return_char:\n",
    "\t\t\t\t\treturn char\n",
    "\t\t\t\telse:\n",
    "\t\t\t\t\tbreak\n",
    "\tif flag:\n",
    "\t\ttotal_score = 0\n",
    "\t\twhile len(stack) != 0:\n",
    "\t\t\tt = stack.pop()\n",
    "\t\t\tc = closing[opening.index(t)]\n",
    "\t\t\ttotal_score *= 5\n",
    "\t\t\ttotal_score += points[closing.index(c)]\n",
    "\t\treturn total_score\n",
    "\n"
   ]
  },
  {
   "cell_type": "code",
   "execution_count": 41,
   "metadata": {},
   "outputs": [],
   "source": [
    "assert check_line('{([(<{}[<>[]}>{[]{[(<()>') == '}'\n",
    "assert check_line('[[<[([]))<([[{}[[()]]]') == ')'\n",
    "assert check_line('[{[{({}]{}}([{[{{{}}([]') == ']'\n",
    "assert check_line('[<(<(<(<{}))><([]([]()') == ')'\n",
    "assert check_line('<{([([[(<>()){}]>(<<{{') == '>'"
   ]
  },
  {
   "cell_type": "code",
   "execution_count": 46,
   "metadata": {},
   "outputs": [],
   "source": [
    "illegal_character_count = {'}':0,')':0,']':0,'>':0}\n",
    "scores = []\n",
    "for line in data.splitlines():\n",
    "\tscores.append(check_line(line, False))"
   ]
  },
  {
   "cell_type": "code",
   "execution_count": 35,
   "metadata": {},
   "outputs": [],
   "source": [
    "scores = {'}':1197,')':3,']':57,'>':25137}\n",
    "answer = 0\n",
    "for k in illegal_character_count.keys():\n",
    "\tanswer += scores[k] * illegal_character_count[k]"
   ]
  },
  {
   "cell_type": "code",
   "execution_count": 36,
   "metadata": {},
   "outputs": [
    {
     "name": "stdout",
     "output_type": "stream",
     "text": [
      "\u001b[32mThat's the right answer!  You are one gold star closer to finding the sleigh keys. [Continue to Part Two]\u001b[0m\n"
     ]
    },
    {
     "data": {
      "text/plain": [
       "<Response [200]>"
      ]
     },
     "execution_count": 36,
     "metadata": {},
     "output_type": "execute_result"
    }
   ],
   "source": [
    "submit(answer, 'a',10)"
   ]
  },
  {
   "cell_type": "code",
   "execution_count": 49,
   "metadata": {},
   "outputs": [],
   "source": [
    "all_scores = sorted([s for s in scores if s])"
   ]
  },
  {
   "cell_type": "code",
   "execution_count": 50,
   "metadata": {},
   "outputs": [],
   "source": [
    "answer = all_scores[int(len(all_scores) / 2)]"
   ]
  },
  {
   "cell_type": "code",
   "execution_count": 51,
   "metadata": {},
   "outputs": [
    {
     "data": {
      "text/plain": [
       "2289754624"
      ]
     },
     "execution_count": 51,
     "metadata": {},
     "output_type": "execute_result"
    }
   ],
   "source": [
    "answer"
   ]
  },
  {
   "cell_type": "code",
   "execution_count": 52,
   "metadata": {},
   "outputs": [
    {
     "data": {
      "text/plain": [
       "45"
      ]
     },
     "execution_count": 52,
     "metadata": {},
     "output_type": "execute_result"
    }
   ],
   "source": [
    "len(all_scores)"
   ]
  },
  {
   "cell_type": "code",
   "execution_count": 54,
   "metadata": {},
   "outputs": [
    {
     "data": {
      "text/plain": [
       "2289754624"
      ]
     },
     "execution_count": 54,
     "metadata": {},
     "output_type": "execute_result"
    }
   ],
   "source": [
    "all_scores[22]"
   ]
  },
  {
   "cell_type": "code",
   "execution_count": 55,
   "metadata": {},
   "outputs": [
    {
     "name": "stdout",
     "output_type": "stream",
     "text": [
      "\u001b[32mThat's the right answer!  You are one gold star closer to finding the sleigh keys.You have completed Day 10! You can [Shareon\n",
      "  Twitter\n",
      "Mastodon] this victory or [Return to Your Advent Calendar].\u001b[0m\n"
     ]
    },
    {
     "data": {
      "text/plain": [
       "<Response [200]>"
      ]
     },
     "execution_count": 55,
     "metadata": {},
     "output_type": "execute_result"
    }
   ],
   "source": [
    "submit(answer,'b',10)"
   ]
  },
  {
   "cell_type": "markdown",
   "metadata": {},
   "source": [
    "## Day 11 - Dumbo Octopus"
   ]
  },
  {
   "cell_type": "code",
   "execution_count": 2,
   "metadata": {},
   "outputs": [],
   "source": [
    "puzzle = Puzzle(2021, 11)\n",
    "data = puzzle.input_data"
   ]
  },
  {
   "cell_type": "code",
   "execution_count": 3,
   "metadata": {},
   "outputs": [],
   "source": [
    "test = \"\"\"5483143223\n",
    "2745854711\n",
    "5264556173\n",
    "6141336146\n",
    "6357385478\n",
    "4167524645\n",
    "2176841721\n",
    "6882881134\n",
    "4846848554\n",
    "5283751526\"\"\""
   ]
  },
  {
   "cell_type": "code",
   "execution_count": 87,
   "metadata": {},
   "outputs": [],
   "source": [
    "class Octopus:\n",
    "\tdef __init__(self, string):\n",
    "\t\tself.array = np.array([[int(x) for x in s] for s in string.splitlines()])\n",
    "\t\tself.count = 0\n",
    "\n",
    "\tdef step(self):\n",
    "\t\tself.inc()\n",
    "\t\tself.flash()\n",
    "\t\tself.reset()\n",
    "\t\tself.count_flashes()\n",
    "\n",
    "\tdef inc(self):\n",
    "\t\tself.array += 1\n",
    "\t\n",
    "\tdef flash(self):\n",
    "\t\tflashed_mask = np.zeros_like(self.array)\n",
    "\t\tadjacents = [True]\n",
    "\t\twhile len(adjacents) > 0:\n",
    "\t\t\tmax_levels = self.array > 9\n",
    "\t\t\tto_flash = (max_levels & ~flashed_mask)\n",
    "\t\t\tif to_flash.sum() == 0:\n",
    "\t\t\t\treturn\n",
    "\t\t\tflash_coords = np.transpose(to_flash.nonzero())\n",
    "\t\t\tadjacents = [self.get_adjacents(*c) for c in flash_coords]\n",
    "\t\t\tflashed_mask = flashed_mask | max_levels\n",
    "\t\t\tfor adj in adjacents:\n",
    "\t\t\t\tself.array[adj[:,0], adj[:,1]] += 1\n",
    "\t\treturn flash_coords\n",
    "\n",
    "\tdef get_adjacents(self, i,j):\n",
    "\t\txmax, ymax = self.array.shape\n",
    "\t\tadj = np.array([[i, j + 1], \n",
    "\t\t\t   [i, j-1], \n",
    "\t\t\t   [i+1,j], \n",
    "\t\t\t   [i-1,j],\n",
    "\t\t\t   [i+1,j+1],\n",
    "\t\t\t   [i-1,j-1],\n",
    "\t\t\t   [i+1,j-1],\n",
    "\t\t\t   [i-1,j+1]])\n",
    "\t\tix = np.logical_and(0 <= adj[:,0], adj[:,0] < xmax) & np.logical_and(0 <= adj[:,1], adj[:,1] < ymax)\n",
    "\t\treturn adj[ix]\n",
    "\t\n",
    "\tdef reset(self):\n",
    "\t\tself.array[self.array > 9] = 0\n",
    "\t\n",
    "\tdef count_flashes(self):\n",
    "\t\tself.count += sum(sum(self.array == 0))\n",
    "\t\t\n",
    "\tdef __repr__(self) -> str:\n",
    "\t\treturn self.array.__repr__()"
   ]
  },
  {
   "cell_type": "code",
   "execution_count": 93,
   "metadata": {},
   "outputs": [],
   "source": [
    "o = Octopus(test)"
   ]
  },
  {
   "cell_type": "code",
   "execution_count": 94,
   "metadata": {},
   "outputs": [],
   "source": [
    "for i in range(10):\n",
    "\to.step()"
   ]
  },
  {
   "cell_type": "code",
   "execution_count": 96,
   "metadata": {},
   "outputs": [],
   "source": [
    "o = Octopus(data)"
   ]
  },
  {
   "cell_type": "code",
   "execution_count": 97,
   "metadata": {},
   "outputs": [],
   "source": [
    "for i in range(100):\n",
    "\to.step()\n",
    "\n",
    "answer = o.count"
   ]
  },
  {
   "cell_type": "code",
   "execution_count": 98,
   "metadata": {},
   "outputs": [
    {
     "name": "stdout",
     "output_type": "stream",
     "text": [
      "\u001b[32mThat's the right answer!  You are one gold star closer to finding the sleigh keys. [Continue to Part Two]\u001b[0m\n"
     ]
    },
    {
     "data": {
      "text/plain": [
       "<Response [200]>"
      ]
     },
     "execution_count": 98,
     "metadata": {},
     "output_type": "execute_result"
    }
   ],
   "source": [
    "submit(answer,'a', 11)"
   ]
  },
  {
   "cell_type": "code",
   "execution_count": 99,
   "metadata": {},
   "outputs": [],
   "source": [
    "o = Octopus(data)\n",
    "size = o.array.shape\n",
    "size = size[0] * size[1]\n",
    "all_flashed = False\n",
    "c = o.count\n",
    "i = 0\n",
    "while not all_flashed:\n",
    "\ti += 1\n",
    "\tc1 = o.count\n",
    "\to.step()\n",
    "\tc2 = o.count\n",
    "\tall_flashed = (c2-c1) == size\n"
   ]
  },
  {
   "cell_type": "code",
   "execution_count": 101,
   "metadata": {},
   "outputs": [
    {
     "name": "stdout",
     "output_type": "stream",
     "text": [
      "\u001b[32mThat's the right answer!  You are one gold star closer to finding the sleigh keys.You have completed Day 11! You can [Shareon\n",
      "  Twitter\n",
      "Mastodon] this victory or [Return to Your Advent Calendar].\u001b[0m\n"
     ]
    },
    {
     "data": {
      "text/plain": [
       "<Response [200]>"
      ]
     },
     "execution_count": 101,
     "metadata": {},
     "output_type": "execute_result"
    }
   ],
   "source": [
    "submit(i, 'b', 11,2021)"
   ]
  },
  {
   "cell_type": "markdown",
   "metadata": {},
   "source": [
    "## Day 12 - Passage Pathing"
   ]
  },
  {
   "cell_type": "code",
   "execution_count": 3,
   "metadata": {},
   "outputs": [],
   "source": [
    "puzzle = Puzzle(2021, 12)\n",
    "data = puzzle.input_data"
   ]
  },
  {
   "cell_type": "code",
   "execution_count": 4,
   "metadata": {},
   "outputs": [],
   "source": [
    "import networkx as nx"
   ]
  },
  {
   "cell_type": "code",
   "execution_count": 5,
   "metadata": {},
   "outputs": [],
   "source": [
    "test = \"\"\"start-A\n",
    "start-b\n",
    "A-c\n",
    "A-b\n",
    "b-d\n",
    "A-end\n",
    "b-end\"\"\""
   ]
  },
  {
   "cell_type": "code",
   "execution_count": 6,
   "metadata": {},
   "outputs": [],
   "source": [
    "def build_graph(input):\n",
    "\tG = nx.Graph()\n",
    "\tfor line in input.splitlines():\n",
    "\t\ts, e = line.split(\"-\")\n",
    "\t\tG.add_edge(s,e)\n",
    "\t\tG[s][e]['weight'] = 0\n",
    "\tfor node in G.nodes.keys():\n",
    "\t\tif node.lower() == node:\n",
    "\t\t\tG.nodes[node]['size'] = 'small'\n",
    "\t\t\tG.nodes[node]['weight'] = 0\n",
    "\t\telse:\n",
    "\t\t\tG.nodes[node]['size'] = 'big'\n",
    "\t\t\tG.nodes[node]['weight'] = -1\n",
    "\treturn G"
   ]
  },
  {
   "cell_type": "code",
   "execution_count": 23,
   "metadata": {},
   "outputs": [],
   "source": [
    "G = build_graph(test)"
   ]
  },
  {
   "cell_type": "code",
   "execution_count": 24,
   "metadata": {},
   "outputs": [],
   "source": [
    "from copy import copy"
   ]
  },
  {
   "cell_type": "code",
   "execution_count": 37,
   "metadata": {},
   "outputs": [
    {
     "data": {
      "text/plain": [
       "10"
      ]
     },
     "execution_count": 37,
     "metadata": {},
     "output_type": "execute_result"
    }
   ],
   "source": [
    "paths = []\n",
    "def find_paths(G: nx.Graph, node, path=None, max_small_visits=None):\n",
    "\tif max_small_visits is None:\n",
    "\t\tmax_small_visits = 1\n",
    "\tif path is None:\n",
    "\t\tpath = []\n",
    "\tif node == 'end':\n",
    "\t\tpaths.append(copy(path))\n",
    "\t\treturn path\n",
    "\tnodes = [x for x in G.neighbors(node) if (G.nodes[x]['weight'] < max_small_visits) and (x != 'start')]\n",
    "\tfor new_node in nodes:\n",
    "\t\t\n",
    "\t\tif G.nodes[new_node]['size'] == 'small':\n",
    "\t\t\tG.nodes[new_node]['weight'] += 1\n",
    "\t\t\tif G.nodes[new_node]['weight'] == 2:\n",
    "\t\t\t\tmax_small_visits = 1\n",
    "\n",
    "\t\tpath.append((node, new_node))\n",
    "\t\tpath = find_paths(G, new_node, path, max_small_visits)\n",
    "\t\tpath.pop()\n",
    "\t\tif G.nodes[new_node]['size'] == 'small':\n",
    "\t\t\tG.nodes[new_node]['weight'] -= 1\n",
    "\t\t\tmax_weight = max(G.nodes[x]['weight'] for x in G.nodes)\n",
    "\t\t\tif max_weight == 1:\n",
    "\t\t\t\tmax_small_visits = 2\n",
    "\treturn path\n",
    "find_paths(G,'start',None,None)\n",
    "len(paths)\n"
   ]
  },
  {
   "cell_type": "markdown",
   "metadata": {},
   "source": [
    "len(paths)"
   ]
  },
  {
   "cell_type": "code",
   "execution_count": 38,
   "metadata": {},
   "outputs": [],
   "source": [
    "G = build_graph(data)"
   ]
  },
  {
   "cell_type": "code",
   "execution_count": 39,
   "metadata": {},
   "outputs": [
    {
     "data": {
      "image/png": "[encoded data removed]",
      "text/plain": [
       "<Figure size 432x288 with 1 Axes>"
      ]
     },
     "metadata": {},
     "output_type": "display_data"
    }
   ],
   "source": [
    "nx.draw(G)"
   ]
  },
  {
   "cell_type": "code",
   "execution_count": 18,
   "metadata": {},
   "outputs": [],
   "source": [
    "paths = []\n",
    "a = find_paths(G, 'start')"
   ]
  },
  {
   "cell_type": "code",
   "execution_count": 20,
   "metadata": {},
   "outputs": [
    {
     "name": "stdout",
     "output_type": "stream",
     "text": [
      "\u001b[32mThat's the right answer!  You are one gold star closer to finding the sleigh keys. [Continue to Part Two]\u001b[0m\n"
     ]
    },
    {
     "data": {
      "text/plain": [
       "<Response [200]>"
      ]
     },
     "execution_count": 20,
     "metadata": {},
     "output_type": "execute_result"
    }
   ],
   "source": [
    "answer = len(paths)\n",
    "submit(answer,'a', 12, 2021)"
   ]
  },
  {
   "cell_type": "code",
   "execution_count": 40,
   "metadata": {},
   "outputs": [],
   "source": [
    "paths = []\n",
    "a = find_paths(G, 'start', None, 2)"
   ]
  },
  {
   "cell_type": "code",
   "execution_count": 41,
   "metadata": {},
   "outputs": [
    {
     "name": "stdout",
     "output_type": "stream",
     "text": [
      "\u001b[32mThat's the right answer!  You are one gold star closer to finding the sleigh keys.You have completed Day 12! You can [Shareon\n",
      "  Twitter\n",
      "Mastodon] this victory or [Return to Your Advent Calendar].\u001b[0m\n"
     ]
    },
    {
     "data": {
      "text/plain": [
       "<Response [200]>"
      ]
     },
     "execution_count": 41,
     "metadata": {},
     "output_type": "execute_result"
    }
   ],
   "source": [
    "answer = len(paths)\n",
    "submit(answer,'b',12,2021)"
   ]
  },
  {
   "cell_type": "markdown",
   "metadata": {},
   "source": [
    "## Day 13 - Transparent Origami"
   ]
  },
  {
   "cell_type": "code",
   "execution_count": 43,
   "metadata": {},
   "outputs": [],
   "source": [
    "puzzle = Puzzle(2021,13)\n",
    "data = puzzle.input_data"
   ]
  },
  {
   "cell_type": "code",
   "execution_count": 50,
   "metadata": {},
   "outputs": [],
   "source": [
    "test = \"\"\"6,10\n",
    "0,14\n",
    "9,10\n",
    "0,3\n",
    "10,4\n",
    "4,11\n",
    "6,0\n",
    "6,12\n",
    "4,1\n",
    "0,13\n",
    "10,12\n",
    "3,4\n",
    "3,0\n",
    "8,4\n",
    "1,10\n",
    "2,14\n",
    "8,10\n",
    "9,0\n",
    "\n",
    "fold along y=7\n",
    "fold along x=5\"\"\""
   ]
  },
  {
   "cell_type": "code",
   "execution_count": 141,
   "metadata": {},
   "outputs": [],
   "source": [
    "class Origami:\n",
    "\tdef __init__(self,input):\n",
    "\t\tlocs, folds = input.split(\"\\n\\n\")\n",
    "\n",
    "\t\tself.locs = np.array([np.fromstring(loc, sep=\",\")for loc in locs.split(\"\\n\")]).astype(int)\n",
    "\n",
    "\t\tself.arr = np.full((self.locs[:,1].max() + 1, self.locs[:,0].max() + 1),'.')\n",
    "\n",
    "\t\tfor x,y in self.locs:\n",
    "\t\t\tself.arr[y,x] = '#'\n",
    "\n",
    "\t\tself.folds = []\n",
    "\t\tfor fold in folds.split(\"\\n\"):\n",
    "\t\t\tins = fold[11:]\n",
    "\t\t\tc,v = ins.split(\"=\")\n",
    "\t\t\tself.folds.append((c,int(v)))\n",
    "\n",
    "\tdef __repr__(self):\n",
    "\t\treturn '\\n'.join([''.join(l) for l in self.arr])\n",
    "\n",
    "\tdef fold(self, axis, value):\n",
    "\t\tif axis == 'y':\n",
    "\t\t\tlower = self.arr[value+1:, :]\n",
    "\t\t\tupper = self.arr[:value, :]\n",
    "\t\t\treflected = np.flip(lower, axis=0)\n",
    "\t\telif axis == 'x':\n",
    "\t\t\tlower = self.arr[:, value+1:]\n",
    "\t\t\tupper = self.arr[:, :value]\n",
    "\t\t\treflected = np.flip(lower, axis=1)\n",
    "\t\telse:\n",
    "\t\t\traise ValueError(\"Unknown coord\")\n",
    "\t\t\n",
    "\t\tmask = reflected == '#'\n",
    "\t\tupper[mask] = '#'\n",
    "\t\treturn upper \n",
    "\t\n",
    "\tdef complete_folds(self):\n",
    "\t\tfor axis, value in self.folds:\n",
    "\t\t\tself.arr = self.fold(axis, value)"
   ]
  },
  {
   "cell_type": "code",
   "execution_count": 120,
   "metadata": {},
   "outputs": [],
   "source": [
    "o = Origami(test)"
   ]
  },
  {
   "cell_type": "code",
   "execution_count": 121,
   "metadata": {},
   "outputs": [],
   "source": [
    "n = o.fold('y',7)"
   ]
  },
  {
   "cell_type": "code",
   "execution_count": 123,
   "metadata": {},
   "outputs": [],
   "source": [
    "o.arr = n"
   ]
  },
  {
   "cell_type": "code",
   "execution_count": 125,
   "metadata": {},
   "outputs": [
    {
     "data": {
      "text/plain": [
       "array([['#', '#', '#', '#', '#'],\n",
       "       ['#', '.', '.', '.', '#'],\n",
       "       ['#', '.', '.', '.', '#'],\n",
       "       ['#', '.', '.', '.', '#'],\n",
       "       ['#', '#', '#', '#', '#'],\n",
       "       ['.', '.', '.', '.', '.'],\n",
       "       ['.', '.', '.', '.', '.']], dtype='<U1')"
      ]
     },
     "execution_count": 125,
     "metadata": {},
     "output_type": "execute_result"
    }
   ],
   "source": [
    "o.fold('x', 5)"
   ]
  },
  {
   "cell_type": "code",
   "execution_count": 142,
   "metadata": {},
   "outputs": [],
   "source": [
    "o = Origami(data)"
   ]
  },
  {
   "cell_type": "code",
   "execution_count": 134,
   "metadata": {},
   "outputs": [
    {
     "data": {
      "text/plain": [
       "('x', 655)"
      ]
     },
     "execution_count": 134,
     "metadata": {},
     "output_type": "execute_result"
    }
   ],
   "source": [
    "o.folds[0]"
   ]
  },
  {
   "cell_type": "code",
   "execution_count": 135,
   "metadata": {},
   "outputs": [],
   "source": [
    "folded = o.fold(*o.folds[0])"
   ]
  },
  {
   "cell_type": "code",
   "execution_count": 139,
   "metadata": {},
   "outputs": [],
   "source": [
    "answer = (folded == '#').sum()"
   ]
  },
  {
   "cell_type": "code",
   "execution_count": 140,
   "metadata": {},
   "outputs": [
    {
     "name": "stdout",
     "output_type": "stream",
     "text": [
      "\u001b[32mThat's the right answer!  You are one gold star closer to finding the sleigh keys. [Continue to Part Two]\u001b[0m\n"
     ]
    },
    {
     "data": {
      "text/plain": [
       "<Response [200]>"
      ]
     },
     "execution_count": 140,
     "metadata": {},
     "output_type": "execute_result"
    }
   ],
   "source": [
    "submit(answer, 'a', 13,2021)"
   ]
  },
  {
   "cell_type": "code",
   "execution_count": 143,
   "metadata": {},
   "outputs": [],
   "source": [
    "o.complete_folds()"
   ]
  },
  {
   "cell_type": "code",
   "execution_count": 144,
   "metadata": {},
   "outputs": [
    {
     "data": {
      "text/plain": [
       ".##..###..#..#...##.####.###...##...##..\n",
       "#..#.#..#.#.#.....#.#....#..#.#..#.#..#.\n",
       "#..#.###..##......#.###..###..#....#....\n",
       "####.#..#.#.#.....#.#....#..#.#.##.#....\n",
       "#..#.#..#.#.#..#..#.#....#..#.#..#.#..#.\n",
       "#..#.###..#..#..##..#....###...###..##.."
      ]
     },
     "execution_count": 144,
     "metadata": {},
     "output_type": "execute_result"
    }
   ],
   "source": [
    "o"
   ]
  },
  {
   "cell_type": "code",
   "execution_count": 145,
   "metadata": {},
   "outputs": [
    {
     "name": "stdout",
     "output_type": "stream",
     "text": [
      "\u001b[32mThat's the right answer!  You are one gold star closer to finding the sleigh keys.You have completed Day 13! You can [Shareon\n",
      "  Twitter\n",
      "Mastodon] this victory or [Return to Your Advent Calendar].\u001b[0m\n"
     ]
    },
    {
     "data": {
      "text/plain": [
       "<Response [200]>"
      ]
     },
     "execution_count": 145,
     "metadata": {},
     "output_type": "execute_result"
    }
   ],
   "source": [
    "answer = 'ABKJFBGC'\n",
    "submit(answer,'b',13,2021)"
   ]
  },
  {
   "cell_type": "markdown",
   "metadata": {},
   "source": [
    "## Day 14 - Extended Polymerization"
   ]
  },
  {
   "cell_type": "code",
   "execution_count": 2,
   "metadata": {},
   "outputs": [],
   "source": [
    "from itertools import tee\n",
    "from collections import Counter"
   ]
  },
  {
   "cell_type": "code",
   "execution_count": 3,
   "metadata": {},
   "outputs": [],
   "source": [
    "def pairwise(iterable):\n",
    "    # pairwise('ABCDEFG') --> AB BC CD DE EF FG\n",
    "    a, b = tee(iterable)\n",
    "    next(b, None)\n",
    "    return zip(a, b)"
   ]
  },
  {
   "cell_type": "code",
   "execution_count": 4,
   "metadata": {},
   "outputs": [],
   "source": [
    "test = \"\"\"NNCB\n",
    "\n",
    "CH -> B\n",
    "HH -> N\n",
    "CB -> H\n",
    "NH -> C\n",
    "HB -> C\n",
    "HC -> B\n",
    "HN -> C\n",
    "NN -> C\n",
    "BH -> H\n",
    "NC -> B\n",
    "NB -> B\n",
    "BN -> B\n",
    "BB -> N\n",
    "BC -> B\n",
    "CC -> N\n",
    "CN -> C\"\"\""
   ]
  },
  {
   "cell_type": "code",
   "execution_count": 37,
   "metadata": {},
   "outputs": [],
   "source": [
    "class Polymer:\n",
    "\tdef __init__(self, input) -> None:\n",
    "\t\tself.template, insertions = input.split(\"\\n\\n\")\n",
    "\n",
    "\t\tself.insertions = {}\n",
    "\t\tfor rule in insertions.split(\"\\n\"):\n",
    "\t\t\tpair = rule[:2]\n",
    "\t\t\tinsertion = rule[-1]\n",
    "\t\t\tself.insertions[pair] = pair[0] + insertion + pair[1]\n",
    "\n",
    "\t\tself.pair_counts = Counter()\n",
    "\t\tfor p in pairwise(self.template):\n",
    "\t\t\tpair = \"\".join(p)\n",
    "\t\t\tself.pair_counts[pair] += 1\n",
    "\n",
    "\t\tself.polymer = self.template\n",
    "\n",
    "\tdef insert(self):\n",
    "\t\tc = Counter()\n",
    "\t\tfor pair, count in self.pair_counts.items():\n",
    "\t\t\treplacements = self.insertions[pair]\n",
    "\t\t\tc[replacements[:-1]] += count\n",
    "\t\t\tc[replacements[1:]] += count\n",
    "\t\tself.pair_counts = c\n",
    "\t\treturn c\n",
    "\n",
    "\tdef count(self):\n",
    "\t\tc = Counter()\n",
    "\t\tfor k, v in self.pair_counts.items():\n",
    "\t\t\tc[k[0]] += v\n",
    "\t\t\tc[k[1]] += v\n",
    "\t\tends = [self.template[0], self.template[-1]]\n",
    "\t\tfor k in c.keys():\n",
    "\t\t\tc[k] = int(c[k]/2)\n",
    "\t\t\tif k in ends:\n",
    "\t\t\t\tc[k] = c[k] + 1\n",
    "\t\treturn c\n",
    "\t\t\n",
    "\tdef iter_insertions(self):\n",
    "\t\tfor pair in pairwise(self.polymer):\n",
    "\t\t\tp = \"\".join(pair)\n",
    "\t\t\tinsertion = self.insertions[p]\n",
    "\t\t\tyield insertion"
   ]
  },
  {
   "cell_type": "code",
   "execution_count": 41,
   "metadata": {},
   "outputs": [],
   "source": [
    "p = Polymer(test)\n",
    "for i in range(10):\n",
    "\ttemp = p.insert()\n",
    "\tp.polymer = temp\n",
    "c = p.count()"
   ]
  },
  {
   "cell_type": "code",
   "execution_count": 42,
   "metadata": {},
   "outputs": [
    {
     "data": {
      "text/plain": [
       "Counter({'N': 865, 'B': 1749, 'C': 298, 'H': 161})"
      ]
     },
     "execution_count": 42,
     "metadata": {},
     "output_type": "execute_result"
    }
   ],
   "source": [
    "c"
   ]
  },
  {
   "cell_type": "code",
   "execution_count": 44,
   "metadata": {},
   "outputs": [],
   "source": [
    "puzzle = Puzzle(2021, 14)\n",
    "data = puzzle.input_data"
   ]
  },
  {
   "cell_type": "code",
   "execution_count": 45,
   "metadata": {},
   "outputs": [],
   "source": [
    "p = Polymer(data)"
   ]
  },
  {
   "cell_type": "code",
   "execution_count": 46,
   "metadata": {},
   "outputs": [],
   "source": [
    "p = Polymer(data)\n",
    "for i in range(10):\n",
    "\ttemp = p.insert()\n",
    "\tp.polymer = temp\n",
    "c = p.count()"
   ]
  },
  {
   "cell_type": "code",
   "execution_count": 47,
   "metadata": {},
   "outputs": [],
   "source": [
    "s = pd.Series(c)"
   ]
  },
  {
   "cell_type": "code",
   "execution_count": 48,
   "metadata": {},
   "outputs": [
    {
     "data": {
      "text/plain": [
       "S    3675\n",
       "H     961\n",
       "K    3006\n",
       "P    1138\n",
       "C    1877\n",
       "B    2699\n",
       "N    2227\n",
       "O    1999\n",
       "V     760\n",
       "F    1115\n",
       "dtype: int64"
      ]
     },
     "execution_count": 48,
     "metadata": {},
     "output_type": "execute_result"
    }
   ],
   "source": [
    "s"
   ]
  },
  {
   "cell_type": "code",
   "execution_count": 67,
   "metadata": {},
   "outputs": [
    {
     "name": "stdout",
     "output_type": "stream",
     "text": [
      "\u001b[32mThat's the right answer!  You are one gold star closer to finding the sleigh keys. [Continue to Part Two]\u001b[0m\n"
     ]
    },
    {
     "data": {
      "text/plain": [
       "<Response [200]>"
      ]
     },
     "execution_count": 67,
     "metadata": {},
     "output_type": "execute_result"
    }
   ],
   "source": [
    "answer = s.max() - s.min()\n",
    "submit(answer, 'a', 14,2021)"
   ]
  },
  {
   "cell_type": "code",
   "execution_count": 49,
   "metadata": {},
   "outputs": [],
   "source": [
    "p = Polymer(data)\n",
    "for i in range(40):\n",
    "\ttemp = p.insert()\n",
    "\tp.polymer = temp\n",
    "c = p.count()"
   ]
  },
  {
   "cell_type": "code",
   "execution_count": 50,
   "metadata": {},
   "outputs": [
    {
     "name": "stdout",
     "output_type": "stream",
     "text": [
      "\u001b[32mThat's the right answer!  You are one gold star closer to finding the sleigh keys.You have completed Day 14! You can [Shareon\n",
      "  Twitter\n",
      "Mastodon] this victory or [Return to Your Advent Calendar].\u001b[0m\n"
     ]
    },
    {
     "data": {
      "text/plain": [
       "<Response [200]>"
      ]
     },
     "execution_count": 50,
     "metadata": {},
     "output_type": "execute_result"
    }
   ],
   "source": [
    "s = pd.Series(c)\n",
    "answer = s.max() - s.min()\n",
    "submit(answer, 'b', 14,2021)"
   ]
  },
  {
   "cell_type": "markdown",
   "metadata": {},
   "source": [
    "## Day 15 - Chiton"
   ]
  },
  {
   "cell_type": "code",
   "execution_count": 2,
   "metadata": {},
   "outputs": [],
   "source": [
    "test = \"\"\"1163751742\n",
    "1381373672\n",
    "2136511328\n",
    "3694931569\n",
    "7463417111\n",
    "1319128137\n",
    "1359912421\n",
    "3125421639\n",
    "1293138521\n",
    "2311944581\"\"\""
   ]
  },
  {
   "cell_type": "code",
   "execution_count": 62,
   "metadata": {},
   "outputs": [],
   "source": [
    "class Chiton:\n",
    "\tdef __init__(self, input):\n",
    "\t\tself.arr = np.array([[int(x) for x in line] for line in input.splitlines()])\n",
    "\t\tself.xm, self.ym = self.arr.shape\n",
    "\n",
    "\t\tself.construct_graph()\n",
    "\tdef __repr__(self):\n",
    "\t\treturn self.arr.__repr__()\n",
    "\n",
    "\n",
    "\tdef construct_graph(self):\n",
    "\t\tG = nx.Graph()\n",
    "\t\tfor i in range(self.xm):\n",
    "\t\t\tfor j in range(self.ym):\n",
    "\t\t\t\tv = (i,j)\n",
    "\t\t\t\tr = self.arr[i,j]\n",
    "\t\t\t\tif i-1 >= 0:\n",
    "\t\t\t\t\tu = (i-1,j)\n",
    "\t\t\t\t\tG.add_edge(u,v, weight=r)\n",
    "\t\t\t\tif i + 1 < self.xm:\n",
    "\t\t\t\t\tu = (i+1, j)\n",
    "\t\t\t\t\tG.add_edge(u,v, weight=r)\n",
    "\t\t\t\tif j - 1 >= 0:\n",
    "\t\t\t\t\tu = (i,j-1)\n",
    "\t\t\t\t\tG.add_edge(u,v, weight=r)\n",
    "\t\t\t\tif j + 1 < self.ym:\n",
    "\t\t\t\t\tu = (i,j+1)\n",
    "\t\t\t\t\tG.add_edge(u,v, weight=r)\n",
    "\t\tself.graph = G\n",
    "\n",
    "\tdef get_shortest_path(self):\n",
    "\t\tfrom networkx import shortest_path, single_source_dijkstra\n",
    "\t\ts = (0,0)\n",
    "\t\te =  (self.xm-1, self.ym-1)\n",
    "\t\treturn single_source_dijkstra(self.graph, s,e, weight=\"weight\")\n",
    "\t\tp = shortest_path(self.graph, (0,0), (self.xm-1, self.ym-1), weight='weight', method='bellman-ford')\n",
    "\t\trisk = 0\n",
    "\t\tfor node in p[1:]:\n",
    "\t\t\trisk += self.arr[node[0], node[1]]\n",
    "\t\treturn p, risk\n",
    "\n",
    "\t\t\t\t"
   ]
  },
  {
   "cell_type": "code",
   "execution_count": 63,
   "metadata": {},
   "outputs": [
    {
     "data": {
      "text/plain": [
       "40"
      ]
     },
     "execution_count": 63,
     "metadata": {},
     "output_type": "execute_result"
    }
   ],
   "source": [
    "c = Chiton(test)\n",
    "p, r = c.get_shortest_path()\n",
    "p"
   ]
  },
  {
   "cell_type": "code",
   "execution_count": 64,
   "metadata": {},
   "outputs": [],
   "source": [
    "puzzle = Puzzle(2021,15)\n",
    "data = puzzle.input_data"
   ]
  },
  {
   "cell_type": "code",
   "execution_count": 78,
   "metadata": {},
   "outputs": [],
   "source": [
    "c1 = Chiton(data)\n",
    "risk, path = c1.get_shortest_path()"
   ]
  },
  {
   "cell_type": "code",
   "execution_count": 82,
   "metadata": {},
   "outputs": [
    {
     "data": {
      "text/plain": [
       "1"
      ]
     },
     "execution_count": 82,
     "metadata": {},
     "output_type": "execute_result"
    }
   ],
   "source": [
    "c1.arr[99,99]"
   ]
  },
  {
   "cell_type": "code",
   "execution_count": 79,
   "metadata": {},
   "outputs": [
    {
     "data": {
      "text/plain": [
       "580"
      ]
     },
     "execution_count": 79,
     "metadata": {},
     "output_type": "execute_result"
    }
   ],
   "source": [
    "answer"
   ]
  },
  {
   "cell_type": "code",
   "execution_count": 72,
   "metadata": {},
   "outputs": [],
   "source": [
    "answer = risk"
   ]
  },
  {
   "cell_type": "code",
   "execution_count": 75,
   "metadata": {},
   "outputs": [
    {
     "data": {
      "text/plain": [
       "AtlasView({(0, 0): {'weight': 1}, (2, 0): {'weight': 2}, (1, 1): {'weight': 3}})"
      ]
     },
     "execution_count": 75,
     "metadata": {},
     "output_type": "execute_result"
    }
   ],
   "source": [
    "c.graph.adj[(1,0)]"
   ]
  },
  {
   "cell_type": "code",
   "execution_count": 73,
   "metadata": {},
   "outputs": [
    {
     "data": {
      "text/plain": [
       "580"
      ]
     },
     "execution_count": 73,
     "metadata": {},
     "output_type": "execute_result"
    }
   ],
   "source": [
    "answer"
   ]
  },
  {
   "cell_type": "code",
   "execution_count": 32,
   "metadata": {},
   "outputs": [
    {
     "name": "stderr",
     "output_type": "stream",
     "text": [
      "wrong answer: 579\n"
     ]
    },
    {
     "name": "stdout",
     "output_type": "stream",
     "text": [
      "\u001b[31mThat's not the right answer.  If you're stuck, make sure you're using the full input data; there are also some general tips on the about page, or you can ask for hints on the subreddit.  Because you have guessed incorrectly 5 times on this puzzle, please wait 5 minutes before trying again. (You guessed 579.) [Return to Day 15]\u001b[0m\n"
     ]
    },
    {
     "data": {
      "text/plain": [
       "<Response [200]>"
      ]
     },
     "execution_count": 32,
     "metadata": {},
     "output_type": "execute_result"
    }
   ],
   "source": [
    "submit(answer, 'a',15,2021)"
   ]
  },
  {
   "cell_type": "code",
   "execution_count": 76,
   "metadata": {},
   "outputs": [
    {
     "name": "stdout",
     "output_type": "stream",
     "text": [
      "Part 1: 589\n",
      "Part 2: 2885\n"
     ]
    }
   ],
   "source": [
    "import heapq\n",
    "from collections import defaultdict\n",
    "\n",
    "\n",
    "def solve(data,tiles):\n",
    "    rows, cols = size_y * tiles, size_x * tiles\n",
    "    costs = defaultdict(int)\n",
    "\n",
    "    pqueue = [(0, 0, 0)]\n",
    "    heapq.heapify(pqueue)\n",
    "    visited = set()\n",
    "    while len(pqueue) > 0:\n",
    "        cost, row, col = heapq.heappop(pqueue)\n",
    "        if (row, col) in visited:\n",
    "            continue\n",
    "        visited.add((row, col))\n",
    "        costs[(row, col)] = cost\n",
    "        if row == rows - 1 and col == cols - 1:\n",
    "            break\n",
    "\n",
    "        for mv_y, mv_x in [(0, 1), (0, -1), (1, 0), (-1, 0)]:\n",
    "            new_row = row + mv_y\n",
    "            new_col = col + mv_x\n",
    "            if not (0 <= new_row < rows and 0 <= new_col < cols):\n",
    "                continue\n",
    "\n",
    "            new_cost = (\n",
    "                (\n",
    "                    data[new_row % size_y][new_col % size_x]\n",
    "                    + (new_row // size_y)\n",
    "                    + (new_col // size_x)\n",
    "                )\n",
    "                - 1\n",
    "            ) % 9 + 1\n",
    "            heapq.heappush(pqueue, (cost + new_cost, new_row, new_col))\n",
    "    return costs[(rows - 1, cols - 1)]\n",
    "\n",
    "\n",
    "d = Chiton(data)\n",
    "g = d.arr\n",
    "size_y, size_x = len(g), len(g[0])\n",
    "print(f\"Part 1: {solve(g,1)}\")\n",
    "print(f\"Part 2: {solve(g,5)}\")"
   ]
  },
  {
   "cell_type": "code",
   "execution_count": 77,
   "metadata": {},
   "outputs": [
    {
     "name": "stdout",
     "output_type": "stream",
     "text": [
      "\u001b[32mThat's the right answer!  You are one gold star closer to finding the sleigh keys. [Continue to Part Two]\u001b[0m\n"
     ]
    },
    {
     "data": {
      "text/plain": [
       "<Response [200]>"
      ]
     },
     "execution_count": 77,
     "metadata": {},
     "output_type": "execute_result"
    }
   ],
   "source": [
    "submit(589, 'a',15,2021)"
   ]
  },
  {
   "cell_type": "code",
   "execution_count": null,
   "metadata": {},
   "outputs": [],
   "source": []
  },
  {
   "cell_type": "markdown",
   "metadata": {},
   "source": [
    "## Day 16 - Packet Decoder"
   ]
  },
  {
   "cell_type": "code",
   "execution_count": 3,
   "metadata": {},
   "outputs": [],
   "source": [
    "from bitarray import bitarray\n",
    "from bitarray.util import ba2hex, hex2ba,ba2int"
   ]
  },
  {
   "cell_type": "code",
   "execution_count": 20,
   "metadata": {},
   "outputs": [],
   "source": [
    "class Packet:\n",
    "\tdef __init__(self, hex, num_packets=None, packet_length=None):\n",
    "\t\tself.bits = hex2ba(hex)\n",
    "\t\tself.sub_packets = []\n",
    "\n",
    "\tdef version(self, bits=None):\n",
    "\t\tif bits is None:\n",
    "\t\t\tbits = self.bits\n",
    "\t\treturn ba2int(bits[:3])\n",
    "\t\t\n",
    "\n",
    "\tdef type_id(self, bits=None):\n",
    "\t\tif bits is None:\n",
    "\t\t\tbits = self.bits\n",
    "\t\treturn ba2int(bits[3:6])\n",
    "\n",
    "\n",
    "\tdef is_literal(self, bits=None):\n",
    "\t\treturn self.type_id(bits) == 4\n",
    "\n",
    "\tdef operator_id(self, bits=None):\n",
    "\t\tif bits is None:\n",
    "\t\t\tbits = self.bits\n",
    "\t\treturn bits[6]\n",
    "\n",
    "\tdef get_subpackets(self, bits=None):\n",
    "\t\tif bits is None:\n",
    "\t\t\tbits = self.bits\n",
    "\t\tif self.bits is None:\n",
    "\t\t\treturn self.sub_packets\n",
    "\t\tnum_packets=None\n",
    "\t\tpacket_length=None\n",
    "\t\tif not self.is_literal(bits):\n",
    "\t\t\top_mode = self.operator_id(bits)\n",
    "\t\t\tif op_mode == 0:\n",
    "\t\t\t\tb = bits[7:7+15]\n",
    "\t\t\t\tpacket_length = ba2int(b)\n",
    "\t\t\t\tsubpackets = bits[22:]\n",
    "\t\t\t\tif len(subpackets) == packet_length:\n",
    "\t\t\t\t\tnum_packets = 1\n",
    "\t\t\telse:\n",
    "\t\t\t\tnum_packets = ba2int(bits[7:7+11])\n",
    "\t\t\t\tsubpackets = bits[18:]\n",
    "\t\t\t\tif num_packets == 1:\n",
    "\t\t\t\t\tpacket_length = len(subpackets)\n",
    "\t\t\tbits = subpackets\n",
    "\t\t\twhile (len(bits) != packet_length) and (num_packets != len(self.sub_packets)):\n",
    "\n",
    "\t\t\trem = len(subpackets) // 4 * 4\n",
    "\t\t\tsubpackets = subpackets[:rem]\n",
    "\t\t\tif len(subpackets) == 0:\n",
    "\t\t\t\treturn self.sub_packets\n",
    "\t\t\tpacket = Packet(ba2hex(subpackets))\n",
    "\t\t\tif num_packets == 1:\n",
    "\t\t\t\tself.sub_packets.append(packet)\n",
    "\t\t\t\treturn self.sub_packets\n",
    "\t\t\telif packet_length is not None:\n",
    "\t\t\t\tp = subpackets[:packet_length]\n",
    "\t\t\t\tr = \n",
    "\t\t\t\tself.get_subpackets(subpackets)\n",
    "\t\t\treturn self.sub_packets\n",
    "\t\telse:\n",
    "\t\t\tpacket = Packet(ba2hex(bits))\n",
    "\t\t\tself.sub_packets.append(packet)\n",
    "\t\t\treturn None\n",
    "\n",
    "\tdef subpackets_by_length(self, bits, i):\n",
    "\t\tsub_packets = []\n",
    "\t\tlength_of_sub_packets = ba2int(bits[i:(i + 15)])\n",
    "\t\ti += 15\n",
    "\t\tlength_used = 0\n",
    "\t\twhile length_used < length_of_sub_packets:\n",
    "\t\t\tsub_packet, new_i = decode(transmission, i)\n",
    "\t\t\tsub_packets.append(sub_packet)\n",
    "\t\t\tlength_used += new_i - i\n",
    "\t\t\ti = new_i\n",
    "\t\treturn sub_packets, i\n",
    "\n",
    "\tdef subpackets_by_number(self, bits):\n",
    "\t\tpass\n",
    "\n",
    "\tdef __repr__(self):\n",
    "\t\treturn f\"Packet(v={self.version()}, t={self.type_id()}, s={len(self.sub_packets)})\"\n",
    "\n",
    "def build_hierarchy(p, graph=None):\n",
    "\tif graph is None:\n",
    "\t\tgraph = nx.DiGraph()\n",
    "\tprint(p)\n",
    "\tsub_packets = p.get_subpackets()\n",
    "\tprint([s for s in sub_packets])\n",
    "\tif sub_packets is None or len(sub_packets) == 0:\n",
    "\t\treturn graph\n",
    "\tfor sub in sub_packets:\n",
    "\t\tgraph.add_edge(p, sub)\n",
    "\t\tgraph = build_hierarchy(sub, graph)\n",
    "\treturn graph"
   ]
  },
  {
   "cell_type": "code",
   "execution_count": 21,
   "metadata": {},
   "outputs": [
    {
     "name": "stdout",
     "output_type": "stream",
     "text": [
      "Packet(v=3, t=0, s=0)\n",
      "[Packet(v=0, t=4, s=0)]\n",
      "Packet(v=0, t=4, s=0)\n"
     ]
    },
    {
     "ename": "TypeError",
     "evalue": "'NoneType' object is not iterable",
     "output_type": "error",
     "traceback": [
      "\u001b[0;31m---------------------------------------------------------------------------\u001b[0m",
      "\u001b[0;31mTypeError\u001b[0m                                 Traceback (most recent call last)",
      "\u001b[0;32m/tmp/ipykernel_14057/1752968999.py\u001b[0m in \u001b[0;36m<module>\u001b[0;34m\u001b[0m\n\u001b[0;32m----> 1\u001b[0;31m \u001b[0mg\u001b[0m \u001b[0;34m=\u001b[0m \u001b[0mbuild_hierarchy\u001b[0m\u001b[0;34m(\u001b[0m\u001b[0mPacket\u001b[0m\u001b[0;34m(\u001b[0m\u001b[0;34m\"620080001611562C8802118E34\"\u001b[0m\u001b[0;34m)\u001b[0m\u001b[0;34m)\u001b[0m\u001b[0;34m\u001b[0m\u001b[0;34m\u001b[0m\u001b[0m\n\u001b[0m",
      "\u001b[0;32m/tmp/ipykernel_14057/2921832604.py\u001b[0m in \u001b[0;36mbuild_hierarchy\u001b[0;34m(p, graph)\u001b[0m\n\u001b[1;32m     74\u001b[0m         \u001b[0;32mfor\u001b[0m \u001b[0msub\u001b[0m \u001b[0;32min\u001b[0m \u001b[0msub_packets\u001b[0m\u001b[0;34m:\u001b[0m\u001b[0;34m\u001b[0m\u001b[0;34m\u001b[0m\u001b[0m\n\u001b[1;32m     75\u001b[0m                 \u001b[0mgraph\u001b[0m\u001b[0;34m.\u001b[0m\u001b[0madd_edge\u001b[0m\u001b[0;34m(\u001b[0m\u001b[0mp\u001b[0m\u001b[0;34m,\u001b[0m \u001b[0msub\u001b[0m\u001b[0;34m)\u001b[0m\u001b[0;34m\u001b[0m\u001b[0;34m\u001b[0m\u001b[0m\n\u001b[0;32m---> 76\u001b[0;31m                 \u001b[0mgraph\u001b[0m \u001b[0;34m=\u001b[0m \u001b[0mbuild_hierarchy\u001b[0m\u001b[0;34m(\u001b[0m\u001b[0msub\u001b[0m\u001b[0;34m,\u001b[0m \u001b[0mgraph\u001b[0m\u001b[0;34m)\u001b[0m\u001b[0;34m\u001b[0m\u001b[0;34m\u001b[0m\u001b[0m\n\u001b[0m\u001b[1;32m     77\u001b[0m         \u001b[0;32mreturn\u001b[0m \u001b[0mgraph\u001b[0m\u001b[0;34m\u001b[0m\u001b[0;34m\u001b[0m\u001b[0m\n",
      "\u001b[0;32m/tmp/ipykernel_14057/2921832604.py\u001b[0m in \u001b[0;36mbuild_hierarchy\u001b[0;34m(p, graph)\u001b[0m\n\u001b[1;32m     69\u001b[0m         \u001b[0mprint\u001b[0m\u001b[0;34m(\u001b[0m\u001b[0mp\u001b[0m\u001b[0;34m)\u001b[0m\u001b[0;34m\u001b[0m\u001b[0;34m\u001b[0m\u001b[0m\n\u001b[1;32m     70\u001b[0m         \u001b[0msub_packets\u001b[0m \u001b[0;34m=\u001b[0m \u001b[0mp\u001b[0m\u001b[0;34m.\u001b[0m\u001b[0mget_subpackets\u001b[0m\u001b[0;34m(\u001b[0m\u001b[0;34m)\u001b[0m\u001b[0;34m\u001b[0m\u001b[0;34m\u001b[0m\u001b[0m\n\u001b[0;32m---> 71\u001b[0;31m         \u001b[0mprint\u001b[0m\u001b[0;34m(\u001b[0m\u001b[0;34m[\u001b[0m\u001b[0ms\u001b[0m \u001b[0;32mfor\u001b[0m \u001b[0ms\u001b[0m \u001b[0;32min\u001b[0m \u001b[0msub_packets\u001b[0m\u001b[0;34m]\u001b[0m\u001b[0;34m)\u001b[0m\u001b[0;34m\u001b[0m\u001b[0;34m\u001b[0m\u001b[0m\n\u001b[0m\u001b[1;32m     72\u001b[0m         \u001b[0;32mif\u001b[0m \u001b[0msub_packets\u001b[0m \u001b[0;32mis\u001b[0m \u001b[0;32mNone\u001b[0m \u001b[0;32mor\u001b[0m \u001b[0mlen\u001b[0m\u001b[0;34m(\u001b[0m\u001b[0msub_packets\u001b[0m\u001b[0;34m)\u001b[0m \u001b[0;34m==\u001b[0m \u001b[0;36m0\u001b[0m\u001b[0;34m:\u001b[0m\u001b[0;34m\u001b[0m\u001b[0;34m\u001b[0m\u001b[0m\n\u001b[1;32m     73\u001b[0m                 \u001b[0;32mreturn\u001b[0m \u001b[0mgraph\u001b[0m\u001b[0;34m\u001b[0m\u001b[0;34m\u001b[0m\u001b[0m\n",
      "\u001b[0;31mTypeError\u001b[0m: 'NoneType' object is not iterable"
     ]
    }
   ],
   "source": [
    "\n",
    "Packet = namedtuple(\"Packet\", (\"version\", \"type_id\", \"value\", \"sub_packets\"))\n",
    "\n",
    "\n",
    "def get_data(filename):\n",
    "    with open(filename) as file:\n",
    "        return [hex_to_bin(line) for line in file.read().splitlines()]\n",
    "\n",
    "\n",
    "def hex_to_bin(hex_str):\n",
    "    return bin(int(hex_str, 16))[2:].zfill(len(hex_str) * 4)\n",
    "\n",
    "\n",
    "def decode(transmission, i):\n",
    "    version = int(transmission[i:(i + 3)], 2)\n",
    "    type_id = int(transmission[(i + 3):(i + 6)], 2)\n",
    "    i += 6\n",
    "    if type_id == 4:\n",
    "        value, i = get_literal_value(transmission, i)\n",
    "        return Packet(version, type_id, value, []), i\n",
    "    length_type_id = transmission[i]\n",
    "    i += 1\n",
    "    if length_type_id == \"0\":\n",
    "        sub_packets, i = get_sub_packets_by_length(transmission, i)\n",
    "    else:\n",
    "        sub_packets, i = get_sub_packets_by_number(transmission, i)\n",
    "    value = calculate_value(type_id, sub_packets)\n",
    "    return Packet(version, type_id, value, sub_packets), i\n",
    "\n",
    "\n",
    "def get_literal_value(transmission, i):\n",
    "    value = \"\"\n",
    "    while True:\n",
    "        last_group = transmission[i] == \"0\"\n",
    "        value += transmission[(i + 1):(i + 5)]\n",
    "        i += 5\n",
    "        if last_group:\n",
    "            break\n",
    "    return int(value, 2), i\n",
    "\n",
    "\n",
    "def get_sub_packets_by_length(transmission, i):\n",
    "    sub_packets = []\n",
    "    length_of_sub_packets = int(transmission[i:(i + 15)], 2)\n",
    "    i += 15\n",
    "    length_used = 0\n",
    "    while length_used < length_of_sub_packets:\n",
    "        sub_packet, new_i = decode(transmission, i)\n",
    "        sub_packets.append(sub_packet)\n",
    "        length_used += new_i - i\n",
    "        i = new_i\n",
    "    return sub_packets, i\n",
    "\n",
    "\n",
    "def get_sub_packets_by_number(transmission, i):\n",
    "    sub_packets = []\n",
    "    number_of_sub_packets = int(transmission[i:(i + 11)], 2)\n",
    "    i += 11\n",
    "    for _ in range(number_of_sub_packets):\n",
    "        sub_packet, i = decode(transmission, i)\n",
    "        sub_packets.append(sub_packet)\n",
    "    return sub_packets, i\n",
    "\n",
    "\n",
    "def calculate_value(type_id, sub_packets):\n",
    "    value = 0\n",
    "    if type_id <= 3:\n",
    "        values = (sub_packet.value for sub_packet in sub_packets)\n",
    "        if type_id == 0:\n",
    "            value = sum(values)\n",
    "        elif type_id == 1:\n",
    "            value = prod(values)\n",
    "        elif type_id == 2:\n",
    "            value = min(values)\n",
    "        elif type_id == 3:\n",
    "            value = max(values)\n",
    "    else:\n",
    "        sub_a, sub_b = sub_packets\n",
    "        if type_id == 5:\n",
    "            value = sub_a.value > sub_b.value\n",
    "        elif type_id == 6:\n",
    "            value = sub_a.value < sub_b.value\n",
    "        elif type_id == 7:\n",
    "            value = sub_a.value == sub_b.value\n",
    "        value = int(value)\n",
    "    return value\n",
    "\n",
    "\n",
    "def sum_versions(packet):\n",
    "    total = packet.version\n",
    "    for sub_packet in packet.sub_packets:\n",
    "        total += sum_versions(sub_packet)\n",
    "    return total\n",
    "\n",
    "\n",
    "def part_1(transmission):\n",
    "    outer_packet = decode(transmission, 0)[0]\n",
    "    return sum_versions(outer_packet)\n",
    "\n",
    "\n",
    "def part_2(transmission):\n",
    "    outer_packet = decode(transmission, 0)[0]\n",
    "    return outer_packet.value\n"
   ]
  },
  {
   "cell_type": "code",
   "execution_count": 17,
   "metadata": {},
   "outputs": [
    {
     "data": {
      "text/plain": [
       "OutEdgeView([(Packet(v=3, t=0, s=1), Packet(v=0, t=4, s=1))])"
      ]
     },
     "execution_count": 17,
     "metadata": {},
     "output_type": "execute_result"
    }
   ],
   "source": [
    "g.edges"
   ]
  },
  {
   "cell_type": "code",
   "execution_count": 29,
   "metadata": {},
   "outputs": [],
   "source": [
    "\n",
    "from collections import namedtuple\n",
    "from math import prod\n",
    "Packet = namedtuple(\"Packet\", (\"version\", \"type_id\", \"value\", \"sub_packets\"))\n",
    "\n",
    "\n",
    "def hex_to_bin(hex_str):\n",
    "    return bin(int(hex_str, 16))[2:].zfill(len(hex_str) * 4)\n",
    "\n",
    "\n",
    "def decode(transmission, i):\n",
    "    version = int(transmission[i:(i + 3)], 2)\n",
    "    type_id = int(transmission[(i + 3):(i + 6)], 2)\n",
    "    i += 6\n",
    "    if type_id == 4:\n",
    "        value, i = get_literal_value(transmission, i)\n",
    "        return Packet(version, type_id, value, []), i\n",
    "    length_type_id = transmission[i]\n",
    "    i += 1\n",
    "    if length_type_id == \"0\":\n",
    "        sub_packets, i = get_sub_packets_by_length(transmission, i)\n",
    "    else:\n",
    "        sub_packets, i = get_sub_packets_by_number(transmission, i)\n",
    "    value = calculate_value(type_id, sub_packets)\n",
    "    return Packet(version, type_id, value, sub_packets), i\n",
    "\n",
    "\n",
    "def get_literal_value(transmission, i):\n",
    "    value = \"\"\n",
    "    while True:\n",
    "        last_group = transmission[i] == \"0\"\n",
    "        value += transmission[(i + 1):(i + 5)]\n",
    "        i += 5\n",
    "        if last_group:\n",
    "            break\n",
    "    return int(value, 2), i\n",
    "\n",
    "\n",
    "def get_sub_packets_by_length(transmission, i):\n",
    "    sub_packets = []\n",
    "    length_of_sub_packets = int(transmission[i:(i + 15)], 2)\n",
    "    i += 15\n",
    "    length_used = 0\n",
    "    while length_used < length_of_sub_packets:\n",
    "        sub_packet, new_i = decode(transmission, i)\n",
    "        sub_packets.append(sub_packet)\n",
    "        length_used += new_i - i\n",
    "        i = new_i\n",
    "    return sub_packets, i\n",
    "\n",
    "\n",
    "def get_sub_packets_by_number(transmission, i):\n",
    "    sub_packets = []\n",
    "    number_of_sub_packets = int(transmission[i:(i + 11)], 2)\n",
    "    i += 11\n",
    "    for _ in range(number_of_sub_packets):\n",
    "        sub_packet, i = decode(transmission, i)\n",
    "        sub_packets.append(sub_packet)\n",
    "    return sub_packets, i\n",
    "\n",
    "\n",
    "def calculate_value(type_id, sub_packets):\n",
    "    value = 0\n",
    "    if type_id <= 3:\n",
    "        values = (sub_packet.value for sub_packet in sub_packets)\n",
    "        if type_id == 0:\n",
    "            value = sum(values)\n",
    "        elif type_id == 1:\n",
    "            value = prod(values)\n",
    "        elif type_id == 2:\n",
    "            value = min(values)\n",
    "        elif type_id == 3:\n",
    "            value = max(values)\n",
    "    else:\n",
    "        sub_a, sub_b = sub_packets\n",
    "        if type_id == 5:\n",
    "            value = sub_a.value > sub_b.value\n",
    "        elif type_id == 6:\n",
    "            value = sub_a.value < sub_b.value\n",
    "        elif type_id == 7:\n",
    "            value = sub_a.value == sub_b.value\n",
    "        value = int(value)\n",
    "    return value\n",
    "\n",
    "\n",
    "def sum_versions(packet):\n",
    "    total = packet.version\n",
    "    for sub_packet in packet.sub_packets:\n",
    "        total += sum_versions(sub_packet)\n",
    "    return total\n",
    "\n",
    "\n",
    "def part_1(transmission):\n",
    "    outer_packet = decode(transmission, 0)[0]\n",
    "    return sum_versions(outer_packet)\n",
    "\n",
    "\n",
    "def part_2(transmission):\n",
    "    outer_packet = decode(transmission, 0)[0]\n",
    "    return outer_packet.value\n"
   ]
  },
  {
   "cell_type": "code",
   "execution_count": 30,
   "metadata": {},
   "outputs": [],
   "source": [
    "puzzle = Puzzle(2021,16)"
   ]
  },
  {
   "cell_type": "code",
   "execution_count": 31,
   "metadata": {},
   "outputs": [],
   "source": [
    "data = puzzle.input_data\n",
    "b = hex_to_bin(data)"
   ]
  },
  {
   "cell_type": "code",
   "execution_count": 32,
   "metadata": {},
   "outputs": [],
   "source": [
    "answer = part_1(b)"
   ]
  },
  {
   "cell_type": "code",
   "execution_count": 33,
   "metadata": {},
   "outputs": [
    {
     "name": "stdout",
     "output_type": "stream",
     "text": [
      "\u001b[32mThat's the right answer!  You are one gold star closer to finding the sleigh keys. [Continue to Part Two]\u001b[0m\n"
     ]
    },
    {
     "data": {
      "text/plain": [
       "<Response [200]>"
      ]
     },
     "execution_count": 33,
     "metadata": {},
     "output_type": "execute_result"
    }
   ],
   "source": [
    "submit(answer, 'a',16)"
   ]
  },
  {
   "cell_type": "code",
   "execution_count": 34,
   "metadata": {},
   "outputs": [],
   "source": [
    "answer = part_2(b)"
   ]
  },
  {
   "cell_type": "code",
   "execution_count": 35,
   "metadata": {},
   "outputs": [
    {
     "name": "stdout",
     "output_type": "stream",
     "text": [
      "\u001b[32mThat's the right answer!  You are one gold star closer to finding the sleigh keys.You have completed Day 16! You can [Shareon\n",
      "  Twitter\n",
      "Mastodon] this victory or [Return to Your Advent Calendar].\u001b[0m\n"
     ]
    },
    {
     "data": {
      "text/plain": [
       "<Response [200]>"
      ]
     },
     "execution_count": 35,
     "metadata": {},
     "output_type": "execute_result"
    }
   ],
   "source": [
    "submit(answer,'b',16)"
   ]
  },
  {
   "cell_type": "code",
   "execution_count": 37,
   "metadata": {},
   "outputs": [
    {
     "data": {
      "text/plain": [
       "167737115857"
      ]
     },
     "execution_count": 37,
     "metadata": {},
     "output_type": "execute_result"
    }
   ],
   "source": [
    "answer"
   ]
  },
  {
   "cell_type": "markdown",
   "metadata": {},
   "source": [
    "## Day 17 - Trick Shot"
   ]
  },
  {
   "cell_type": "code",
   "execution_count": 3,
   "metadata": {},
   "outputs": [],
   "source": [
    "from collections import namedtuple"
   ]
  },
  {
   "cell_type": "code",
   "execution_count": 4,
   "metadata": {},
   "outputs": [],
   "source": [
    "puzzle = Puzzle(2021, 17)\n",
    "data = puzzle.input_data"
   ]
  },
  {
   "cell_type": "code",
   "execution_count": 7,
   "metadata": {},
   "outputs": [],
   "source": [
    "test = \"target area: x=20..30, y=-10..-5\""
   ]
  },
  {
   "cell_type": "code",
   "execution_count": 8,
   "metadata": {},
   "outputs": [],
   "source": [
    "class Probe:\n",
    "\tdef __init__(self,x,y,vx,vy):\n",
    "\t\tself.x=x\n",
    "\t\tself.y=y\n",
    "\t\tself.vx=vx\n",
    "\t\tself.vy=vy\n",
    "\t\n",
    "\tdef step(self):\n",
    "\t\tself.x += self.vx\n",
    "\t\tself.y += self.vy\n",
    "\t\tself.vx -= int(np.sign(self.vx))\n",
    "\t\t# if self.vx < 0:\n",
    "\t\t# \tself.vx += 1\n",
    "\t\t# elif self.vx > 0:\n",
    "\t\t# \tself.vx -= 1\n",
    "\t\tself.vy -= 1\n",
    "\n",
    "\tdef __repr__(self):\n",
    "\t\treturn f\"(x: {self.x}, y:{self.y}, vx: {self.vx}, vy: {self.vy})\"\n",
    "\t@property\n",
    "\tdef coords(self):\n",
    "\t\treturn {\"x\": self.x, \"y\":self.y, \"vx\":self.vx, \"vy\": self.vy}\n",
    "\n",
    "class Target:\n",
    "\tdef __init__(self, input):\n",
    "\t\tarea, coords = input.split(\":\")\n",
    "\t\tx_c, y_c = coords.split(\",\")\n",
    "\t\tself.x_bounds = [int(x) for x in x_c[3:].split(\"..\")]\n",
    "\t\tself.y_bounds = [int(x) for x in y_c[3:].split(\"..\")]\n",
    "\t\tself.yt = min(self.y_bounds)\n",
    "\t\tself.xt = max(self.x_bounds) \n",
    "\n",
    "\t\tself.probe = Probe(0,0,0,0)\n",
    "\n",
    "\tdef simulate(self, vx=0, vy=0):\n",
    "\t\tself.probe = Probe(0,0,vx,vy)\n",
    "\t\tc = []\n",
    "\t\twhile True:\n",
    "\t\t\tself.probe.step()\n",
    "\t\t\tc.append(self.probe.coords)\n",
    "\t\t\tif self.probe_missed or self.probe_hit:\n",
    "\t\t\t\tbreak\n",
    "\t\treturn pd.DataFrame(c), self.probe_hit\n",
    "\n",
    "\t@property\n",
    "\tdef probe_hit(self):\n",
    "\t\tpx = self.probe.x\n",
    "\t\tpy = self.probe.y\n",
    "\t\treturn (self.x_bounds[0] <= px <= self.x_bounds[1]) and (self.y_bounds[0] <= py <= self.y_bounds[1])\n",
    "\n",
    "\t@property\n",
    "\tdef probe_missed(self):\n",
    "\t\tpy = self.probe.y\n",
    "\t\tc =  (py < self.yt) \n",
    "\t\treturn c\n",
    "\n",
    "\tdef find_max_y(self,vx,vy):\n",
    "\t\ttraj, probe_hit = self.simulate(vx,vy)\n",
    "\t\tif not probe_hit:\n",
    "\t\t\treturn None\n",
    "\t\telse:\n",
    "\t\t\treturn traj[\"y\"].max()\n"
   ]
  },
  {
   "cell_type": "code",
   "execution_count": 17,
   "metadata": {},
   "outputs": [],
   "source": [
    "target = Target(data)"
   ]
  },
  {
   "cell_type": "code",
   "execution_count": 11,
   "metadata": {},
   "outputs": [],
   "source": [
    "d = []\n",
    "for i in range(100):\n",
    "\tfor j in range(300):\n",
    "\t\tm = target.find_max_y(i,j)\n",
    "\t\tif m:\n",
    "\t\t\td.append({'x':i,'y':j, 'max':m})\n",
    "\t\t\t"
   ]
  },
  {
   "cell_type": "code",
   "execution_count": 16,
   "metadata": {},
   "outputs": [
    {
     "data": {
      "text/plain": [
       "x      30\n",
       "y       9\n",
       "max    45\n",
       "dtype: int64"
      ]
     },
     "execution_count": 16,
     "metadata": {},
     "output_type": "execute_result"
    }
   ],
   "source": [
    "pd.DataFrame(d).max()"
   ]
  },
  {
   "cell_type": "code",
   "execution_count": 206,
   "metadata": {},
   "outputs": [],
   "source": [
    "answer = 8646"
   ]
  },
  {
   "cell_type": "code",
   "execution_count": 207,
   "metadata": {},
   "outputs": [
    {
     "name": "stdout",
     "output_type": "stream",
     "text": [
      "\u001b[32mThat's the right answer!  You are one gold star closer to finding the sleigh keys. [Continue to Part Two]\u001b[0m\n"
     ]
    },
    {
     "data": {
      "text/plain": [
       "<Response [200]>"
      ]
     },
     "execution_count": 207,
     "metadata": {},
     "output_type": "execute_result"
    }
   ],
   "source": [
    "submit(answer,'a',17)"
   ]
  },
  {
   "cell_type": "code",
   "execution_count": 18,
   "metadata": {},
   "outputs": [],
   "source": [
    "test_target = Target(test)\n",
    "d = []\n",
    "for i in range(60):\n",
    "\tfor j in range(-30,30):\n",
    "\t\tm = test_target.find_max_y(i,j)\n",
    "\t\tif m:\n",
    "\t\t\td.append({'x':i,'y':j, 'max':m})"
   ]
  },
  {
   "cell_type": "code",
   "execution_count": 240,
   "metadata": {},
   "outputs": [],
   "source": [
    "def find_all_y(target: Target):\n",
    "\tybounds = min(target.y_bounds)\n",
    "\tyr = range(ybounds, -ybounds)\n",
    "\txmin = min(target.x_bounds)\n",
    "\txr = range(np.ceil(np.sqrt(xmin-0.5)).astype(int), 2*xmin)\n",
    "\td = []\n",
    "\tfor x in xr:\n",
    "\t\tfor y in yr:\n",
    "\t\t\tm = target.find_max_y(x,y)\n",
    "\t\t\tif m is not None:\n",
    "\t\t\t\td.append({'x':x,'y':y, 'max':m})\n",
    "\treturn pd.DataFrame(d)"
   ]
  },
  {
   "cell_type": "code",
   "execution_count": 241,
   "metadata": {},
   "outputs": [],
   "source": [
    "df = find_all_y(test_target)"
   ]
  },
  {
   "cell_type": "code",
   "execution_count": 214,
   "metadata": {},
   "outputs": [],
   "source": [
    "t = \"\"\"23,-10  25,-9   27,-5   29,-6   22,-6   21,-7   9,0     27,-7   24,-5\n",
    "25,-7   26,-6   25,-5   6,8     11,-2   20,-5   29,-10  6,3     28,-7\n",
    "8,0     30,-6   29,-8   20,-10  6,7     6,4     6,1     14,-4   21,-6\n",
    "26,-10  7,-1    7,7     8,-1    21,-9   6,2     20,-7   30,-10  14,-3\n",
    "20,-8   13,-2   7,3     28,-8   29,-9   15,-3   22,-5   26,-8   25,-8\n",
    "25,-6   15,-4   9,-2    15,-2   12,-2   28,-9   12,-3   24,-6   23,-7\n",
    "25,-10  7,8     11,-3   26,-7   7,1     23,-9   6,0     22,-10  27,-6\n",
    "8,1     22,-8   13,-4   7,6     28,-6   11,-4   12,-4   26,-9   7,4\n",
    "24,-10  23,-8   30,-8   7,0     9,-1    10,-1   26,-5   22,-9   6,5\n",
    "7,5     23,-6   28,-10  10,-2   11,-1   20,-9   14,-2   29,-7   13,-3\n",
    "23,-5   24,-8   27,-9   30,-7   28,-5   21,-10  7,9     6,6     21,-5\n",
    "27,-10  7,2     30,-9   21,-8   22,-7   24,-9   20,-6   6,9     29,-5\n",
    "8,-2    27,-8   30,-5   24,-7\"\"\"\n",
    "l = []\n",
    "for x in t.splitlines():\n",
    "\tfor c in x.split(\"  \"):\n",
    "\t\tif (c != '') and (c != \" \"):\n",
    "\t\t\tl.append(np.fromstring(c.strip(), sep=\",\").astype(int))\n",
    "\n"
   ]
  },
  {
   "cell_type": "code",
   "execution_count": 243,
   "metadata": {},
   "outputs": [],
   "source": [
    "df2 = find_all_y(target)"
   ]
  },
  {
   "cell_type": "code",
   "execution_count": 244,
   "metadata": {},
   "outputs": [],
   "source": [
    "answer = len(df2)"
   ]
  },
  {
   "cell_type": "code",
   "execution_count": 246,
   "metadata": {},
   "outputs": [
    {
     "name": "stdout",
     "output_type": "stream",
     "text": [
      "\u001b[32mThat's the right answer!  You are one gold star closer to finding the sleigh keys.You have completed Day 17! You can [Shareon\n",
      "  Twitter\n",
      "Mastodon] this victory or [Return to Your Advent Calendar].\u001b[0m\n"
     ]
    },
    {
     "data": {
      "text/plain": [
       "<Response [200]>"
      ]
     },
     "execution_count": 246,
     "metadata": {},
     "output_type": "execute_result"
    }
   ],
   "source": [
    "submit(answer, 'b',17)"
   ]
  },
  {
   "cell_type": "markdown",
   "metadata": {},
   "source": [
    "## Day 18 - Snailfish"
   ]
  },
  {
   "cell_type": "code",
   "execution_count": 43,
   "metadata": {},
   "outputs": [],
   "source": [
    "\n",
    "def explode(n, level = 0):\n",
    "    if not isinstance(n, int):\n",
    "        l, r = n\n",
    "        if level >= 4:\n",
    "            return 0, True, l, r\n",
    "        else:\n",
    "            l, reduced, expl, expr = explode(l, level + 1)\n",
    "            if reduced:\n",
    "                if expr != 0:\n",
    "                    r = add_left(r, expr)\n",
    "                    expr = 0\n",
    "            else:\n",
    "                r, reduced, expl, expr = explode(r, level + 1)\n",
    "                if reduced:\n",
    "                    if expl != 0:\n",
    "                        l = add_right(l, expl)\n",
    "                        expl = 0\n",
    "            if reduced:\n",
    "                return (l, r), True, expl, expr\n",
    "    return n, False, 0, 0\n",
    "\n",
    "def add_left(n, m):\n",
    "    if isinstance(n, int):\n",
    "        return n + m\n",
    "    else:\n",
    "        a, b = n\n",
    "        return add_left(a, m), b\n",
    "\n",
    "def add_right(n, m):\n",
    "    if isinstance(n, int):\n",
    "        return n + m\n",
    "    else:\n",
    "        a, b = n\n",
    "        return a, add_right(b, m)\n",
    "\n",
    "def split(n):\n",
    "    if isinstance(n, int):\n",
    "        if n >= 10:\n",
    "            a = n //2\n",
    "            return (a, n - a), True\n",
    "    else: \n",
    "        l, r = n\n",
    "        l, reduced = split(l)\n",
    "        if not reduced:\n",
    "            r, reduced = split(r)\n",
    "        if reduced:\n",
    "            return (l, r), True\n",
    "    return n, False\n",
    "\n",
    "def reduce_snailfish(n):\n",
    "    reduced = True\n",
    "    while reduced:\n",
    "        n, reduced, *_ = explode(n)\n",
    "        if not reduced:\n",
    "            n, reduced = split(n)\n",
    "    return n\n",
    "\n",
    "def add_snailfish(n1, n2):\n",
    "    return reduce_snailfish((n1,n2))\n",
    "\n",
    "def magnitude(n):\n",
    "    if isinstance(n, int):\n",
    "        return n\n",
    "    l,r = n\n",
    "    return 3*magnitude(l) + 2*magnitude(r)\n",
    "\n"
   ]
  },
  {
   "cell_type": "code",
   "execution_count": 23,
   "metadata": {},
   "outputs": [],
   "source": [
    "puzzle = Puzzle(2021,18)\n",
    "data = puzzle.input_data"
   ]
  },
  {
   "cell_type": "code",
   "execution_count": 63,
   "metadata": {},
   "outputs": [],
   "source": []
  },
  {
   "cell_type": "code",
   "execution_count": 11,
   "metadata": {},
   "outputs": [],
   "source": [
    "\n",
    "\n",
    "def add_all(numbers):\n",
    "    n = map(reduce_snailfish, numbers)\n",
    "    n = reduce(add_snailfish, n)\n",
    "    return n\n",
    "\n",
    "def part1(data):\n",
    "    numbers = [eval(line) for line in data.splitlines()]\n",
    "    n = add_all(numbers)\n",
    "    answer = magnitude(n)\n",
    "    return answer"
   ]
  },
  {
   "cell_type": "code",
   "execution_count": 33,
   "metadata": {},
   "outputs": [
    {
     "ename": "AssertionError",
     "evalue": "",
     "output_type": "error",
     "traceback": [
      "\u001b[0;31m---------------------------------------------------------------------------\u001b[0m",
      "\u001b[0;31mAssertionError\u001b[0m                            Traceback (most recent call last)",
      "\u001b[0;32m/tmp/ipykernel_1499/4122177779.py\u001b[0m in \u001b[0;36m<module>\u001b[0;34m\u001b[0m\n\u001b[0;32m----> 1\u001b[0;31m \u001b[0;32massert\u001b[0m \u001b[0madd_all\u001b[0m\u001b[0;34m(\u001b[0m\u001b[0;34m[\u001b[0m\u001b[0;34m[\u001b[0m\u001b[0;34m[\u001b[0m\u001b[0;34m[\u001b[0m\u001b[0;34m[\u001b[0m\u001b[0;36m4\u001b[0m\u001b[0;34m,\u001b[0m\u001b[0;36m3\u001b[0m\u001b[0;34m]\u001b[0m\u001b[0;34m,\u001b[0m\u001b[0;36m4\u001b[0m\u001b[0;34m]\u001b[0m\u001b[0;34m,\u001b[0m\u001b[0;36m4\u001b[0m\u001b[0;34m]\u001b[0m\u001b[0;34m,\u001b[0m\u001b[0;34m[\u001b[0m\u001b[0;36m7\u001b[0m\u001b[0;34m,\u001b[0m\u001b[0;34m[\u001b[0m\u001b[0;34m[\u001b[0m\u001b[0;36m8\u001b[0m\u001b[0;34m,\u001b[0m\u001b[0;36m4\u001b[0m\u001b[0;34m]\u001b[0m\u001b[0;34m,\u001b[0m\u001b[0;36m9\u001b[0m\u001b[0;34m]\u001b[0m\u001b[0;34m]\u001b[0m\u001b[0;34m]\u001b[0m\u001b[0;34m,\u001b[0m\u001b[0;34m[\u001b[0m\u001b[0;36m1\u001b[0m\u001b[0;34m,\u001b[0m\u001b[0;36m1\u001b[0m\u001b[0;34m]\u001b[0m\u001b[0;34m]\u001b[0m\u001b[0;34m)\u001b[0m \u001b[0;34m==\u001b[0m \u001b[0;34m[\u001b[0m\u001b[0;34m[\u001b[0m\u001b[0;34m[\u001b[0m\u001b[0;34m[\u001b[0m\u001b[0;36m0\u001b[0m\u001b[0;34m,\u001b[0m\u001b[0;36m7\u001b[0m\u001b[0;34m]\u001b[0m\u001b[0;34m,\u001b[0m\u001b[0;36m4\u001b[0m\u001b[0;34m]\u001b[0m\u001b[0;34m,\u001b[0m\u001b[0;34m[\u001b[0m\u001b[0;34m[\u001b[0m\u001b[0;36m7\u001b[0m\u001b[0;34m,\u001b[0m\u001b[0;36m8\u001b[0m\u001b[0;34m]\u001b[0m\u001b[0;34m,\u001b[0m\u001b[0;34m[\u001b[0m\u001b[0;36m6\u001b[0m\u001b[0;34m,\u001b[0m\u001b[0;36m0\u001b[0m\u001b[0;34m]\u001b[0m\u001b[0;34m]\u001b[0m\u001b[0;34m]\u001b[0m\u001b[0;34m,\u001b[0m\u001b[0;34m[\u001b[0m\u001b[0;36m8\u001b[0m\u001b[0;34m,\u001b[0m\u001b[0;36m1\u001b[0m\u001b[0;34m]\u001b[0m\u001b[0;34m]\u001b[0m\u001b[0;34m\u001b[0m\u001b[0;34m\u001b[0m\u001b[0m\n\u001b[0m",
      "\u001b[0;31mAssertionError\u001b[0m: "
     ]
    }
   ],
   "source": [
    "assert add_all([[[[[4,3],4],4],[7,[[8,4],9]]],[1,1]]) == [[[[0,7],4],[[7,8],[6,0]]],[8,1]]"
   ]
  },
  {
   "cell_type": "code",
   "execution_count": 24,
   "metadata": {},
   "outputs": [
    {
     "data": {
      "text/plain": [
       "((((0, 7), 4), ((7, 8), (6, 0))), (8, 1))"
      ]
     },
     "execution_count": 24,
     "metadata": {},
     "output_type": "execute_result"
    }
   ],
   "source": [
    "add_all([[[[[4,3],4],4],[7,[[8,4],9]]],[1,1]])"
   ]
  },
  {
   "cell_type": "code",
   "execution_count": 10,
   "metadata": {},
   "outputs": [],
   "source": [
    "assert magnitude([[1,2],[[3,4],5]]) == 143\n",
    "assert magnitude([[[[0,7],4],[[7,8],[6,0]]],[8,1]]) == 1384\n",
    "assert magnitude([[[[1,1],[2,2]],[3,3]],[4,4]]) == 445\n",
    "assert magnitude([[[[8,7],[7,7]],[[8,6],[7,7]]],[[[0,7],[6,6]],[8,7]]]) == 3488"
   ]
  },
  {
   "cell_type": "code",
   "execution_count": 26,
   "metadata": {},
   "outputs": [
    {
     "data": {
      "text/plain": [
       "((((3, 0), (5, 3)), [4, 4]), [5, 5])"
      ]
     },
     "execution_count": 26,
     "metadata": {},
     "output_type": "execute_result"
    }
   ],
   "source": [
    "add_all([[1,1],\n",
    "[2,2],\n",
    "[3,3],\n",
    "[4,4],\n",
    "[5,5]])"
   ]
  },
  {
   "cell_type": "code",
   "execution_count": 27,
   "metadata": {},
   "outputs": [
    {
     "data": {
      "text/plain": [
       "((((5, 0), (7, 4)), [5, 5]), [6, 6])"
      ]
     },
     "execution_count": 27,
     "metadata": {},
     "output_type": "execute_result"
    }
   ],
   "source": [
    "add_all([[1,1],\n",
    "[2,2],\n",
    "[3,3],\n",
    "[4,4],\n",
    "[5,5],\n",
    "[6,6]])"
   ]
  },
  {
   "cell_type": "code",
   "execution_count": 13,
   "metadata": {},
   "outputs": [
    {
     "data": {
      "text/plain": [
       "((((7, 9), (8, 10)), ((8, 9), (0, 9))), (((10, 4), 6), [8, 7]))"
      ]
     },
     "execution_count": 13,
     "metadata": {},
     "output_type": "execute_result"
    }
   ],
   "source": [
    "add_all([[[[0,[4,5]],[0,0]],[[[4,5],[2,6]],[9,5]]],\n",
    "[7,[[[3,7],[4,3]],[[6,3],[8,8]]]],\n",
    "[[2,[[0,8],[3,4]]],[[[6,7],1],[7,[1,6]]]],\n",
    "[[[[2,4],7],[6,[0,5]]],[[[6,8],[2,8]],[[2,1],[4,5]]]],\n",
    "[7,[5,[[3,8],[1,4]]]],\n",
    "[[2,[2,2]],[8,[8,1]]],\n",
    "[2,9],\n",
    "[1,[[[9,3],9],[[9,0],[0,7]]]],\n",
    "[[[5,[7,4]],7],1],\n",
    "[[[[4,2],2],6],[8,7]]])"
   ]
  },
  {
   "cell_type": "code",
   "execution_count": 12,
   "metadata": {},
   "outputs": [
    {
     "ename": "AssertionError",
     "evalue": "",
     "output_type": "error",
     "traceback": [
      "\u001b[0;31m---------------------------------------------------------------------------\u001b[0m",
      "\u001b[0;31mAssertionError\u001b[0m                            Traceback (most recent call last)",
      "\u001b[0;32m/tmp/ipykernel_1499/2283364411.py\u001b[0m in \u001b[0;36m<module>\u001b[0;34m\u001b[0m\n\u001b[0;32m----> 1\u001b[0;31m assert add_all([[[[0,[4,5]],[0,0]],[[[4,5],[2,6]],[9,5]]],\n\u001b[0m\u001b[1;32m      2\u001b[0m \u001b[0;34m[\u001b[0m\u001b[0;36m7\u001b[0m\u001b[0;34m,\u001b[0m\u001b[0;34m[\u001b[0m\u001b[0;34m[\u001b[0m\u001b[0;34m[\u001b[0m\u001b[0;36m3\u001b[0m\u001b[0;34m,\u001b[0m\u001b[0;36m7\u001b[0m\u001b[0;34m]\u001b[0m\u001b[0;34m,\u001b[0m\u001b[0;34m[\u001b[0m\u001b[0;36m4\u001b[0m\u001b[0;34m,\u001b[0m\u001b[0;36m3\u001b[0m\u001b[0;34m]\u001b[0m\u001b[0;34m]\u001b[0m\u001b[0;34m,\u001b[0m\u001b[0;34m[\u001b[0m\u001b[0;34m[\u001b[0m\u001b[0;36m6\u001b[0m\u001b[0;34m,\u001b[0m\u001b[0;36m3\u001b[0m\u001b[0;34m]\u001b[0m\u001b[0;34m,\u001b[0m\u001b[0;34m[\u001b[0m\u001b[0;36m8\u001b[0m\u001b[0;34m,\u001b[0m\u001b[0;36m8\u001b[0m\u001b[0;34m]\u001b[0m\u001b[0;34m]\u001b[0m\u001b[0;34m]\u001b[0m\u001b[0;34m]\u001b[0m\u001b[0;34m,\u001b[0m\u001b[0;34m\u001b[0m\u001b[0;34m\u001b[0m\u001b[0m\n\u001b[1;32m      3\u001b[0m \u001b[0;34m[\u001b[0m\u001b[0;34m[\u001b[0m\u001b[0;36m2\u001b[0m\u001b[0;34m,\u001b[0m\u001b[0;34m[\u001b[0m\u001b[0;34m[\u001b[0m\u001b[0;36m0\u001b[0m\u001b[0;34m,\u001b[0m\u001b[0;36m8\u001b[0m\u001b[0;34m]\u001b[0m\u001b[0;34m,\u001b[0m\u001b[0;34m[\u001b[0m\u001b[0;36m3\u001b[0m\u001b[0;34m,\u001b[0m\u001b[0;36m4\u001b[0m\u001b[0;34m]\u001b[0m\u001b[0;34m]\u001b[0m\u001b[0;34m]\u001b[0m\u001b[0;34m,\u001b[0m\u001b[0;34m[\u001b[0m\u001b[0;34m[\u001b[0m\u001b[0;34m[\u001b[0m\u001b[0;36m6\u001b[0m\u001b[0;34m,\u001b[0m\u001b[0;36m7\u001b[0m\u001b[0;34m]\u001b[0m\u001b[0;34m,\u001b[0m\u001b[0;36m1\u001b[0m\u001b[0;34m]\u001b[0m\u001b[0;34m,\u001b[0m\u001b[0;34m[\u001b[0m\u001b[0;36m7\u001b[0m\u001b[0;34m,\u001b[0m\u001b[0;34m[\u001b[0m\u001b[0;36m1\u001b[0m\u001b[0;34m,\u001b[0m\u001b[0;36m6\u001b[0m\u001b[0;34m]\u001b[0m\u001b[0;34m]\u001b[0m\u001b[0;34m]\u001b[0m\u001b[0;34m]\u001b[0m\u001b[0;34m,\u001b[0m\u001b[0;34m\u001b[0m\u001b[0;34m\u001b[0m\u001b[0m\n\u001b[1;32m      4\u001b[0m \u001b[0;34m[\u001b[0m\u001b[0;34m[\u001b[0m\u001b[0;34m[\u001b[0m\u001b[0;34m[\u001b[0m\u001b[0;36m2\u001b[0m\u001b[0;34m,\u001b[0m\u001b[0;36m4\u001b[0m\u001b[0;34m]\u001b[0m\u001b[0;34m,\u001b[0m\u001b[0;36m7\u001b[0m\u001b[0;34m]\u001b[0m\u001b[0;34m,\u001b[0m\u001b[0;34m[\u001b[0m\u001b[0;36m6\u001b[0m\u001b[0;34m,\u001b[0m\u001b[0;34m[\u001b[0m\u001b[0;36m0\u001b[0m\u001b[0;34m,\u001b[0m\u001b[0;36m5\u001b[0m\u001b[0;34m]\u001b[0m\u001b[0;34m]\u001b[0m\u001b[0;34m]\u001b[0m\u001b[0;34m,\u001b[0m\u001b[0;34m[\u001b[0m\u001b[0;34m[\u001b[0m\u001b[0;34m[\u001b[0m\u001b[0;36m6\u001b[0m\u001b[0;34m,\u001b[0m\u001b[0;36m8\u001b[0m\u001b[0;34m]\u001b[0m\u001b[0;34m,\u001b[0m\u001b[0;34m[\u001b[0m\u001b[0;36m2\u001b[0m\u001b[0;34m,\u001b[0m\u001b[0;36m8\u001b[0m\u001b[0;34m]\u001b[0m\u001b[0;34m]\u001b[0m\u001b[0;34m,\u001b[0m\u001b[0;34m[\u001b[0m\u001b[0;34m[\u001b[0m\u001b[0;36m2\u001b[0m\u001b[0;34m,\u001b[0m\u001b[0;36m1\u001b[0m\u001b[0;34m]\u001b[0m\u001b[0;34m,\u001b[0m\u001b[0;34m[\u001b[0m\u001b[0;36m4\u001b[0m\u001b[0;34m,\u001b[0m\u001b[0;36m5\u001b[0m\u001b[0;34m]\u001b[0m\u001b[0;34m]\u001b[0m\u001b[0;34m]\u001b[0m\u001b[0;34m]\u001b[0m\u001b[0;34m,\u001b[0m\u001b[0;34m\u001b[0m\u001b[0;34m\u001b[0m\u001b[0m\n\u001b[1;32m      5\u001b[0m \u001b[0;34m[\u001b[0m\u001b[0;36m7\u001b[0m\u001b[0;34m,\u001b[0m\u001b[0;34m[\u001b[0m\u001b[0;36m5\u001b[0m\u001b[0;34m,\u001b[0m\u001b[0;34m[\u001b[0m\u001b[0;34m[\u001b[0m\u001b[0;36m3\u001b[0m\u001b[0;34m,\u001b[0m\u001b[0;36m8\u001b[0m\u001b[0;34m]\u001b[0m\u001b[0;34m,\u001b[0m\u001b[0;34m[\u001b[0m\u001b[0;36m1\u001b[0m\u001b[0;34m,\u001b[0m\u001b[0;36m4\u001b[0m\u001b[0;34m]\u001b[0m\u001b[0;34m]\u001b[0m\u001b[0;34m]\u001b[0m\u001b[0;34m]\u001b[0m\u001b[0;34m,\u001b[0m\u001b[0;34m\u001b[0m\u001b[0;34m\u001b[0m\u001b[0m\n",
      "\u001b[0;31mAssertionError\u001b[0m: "
     ]
    }
   ],
   "source": [
    "assert add_all([[[[0,[4,5]],[0,0]],[[[4,5],[2,6]],[9,5]]],\n",
    "[7,[[[3,7],[4,3]],[[6,3],[8,8]]]],\n",
    "[[2,[[0,8],[3,4]]],[[[6,7],1],[7,[1,6]]]],\n",
    "[[[[2,4],7],[6,[0,5]]],[[[6,8],[2,8]],[[2,1],[4,5]]]],\n",
    "[7,[5,[[3,8],[1,4]]]],\n",
    "[[2,[2,2]],[8,[8,1]]],\n",
    "[2,9],\n",
    "[1,[[[9,3],9],[[9,0],[0,7]]]],\n",
    "[[[5,[7,4]],7],1],\n",
    "[[[[4,2],2],6],[8,7]]]) == [[[[8,7],[7,7]],[[8,6],[7,7]]],[[[0,7],[6,6]],[8,7]]]"
   ]
  },
  {
   "cell_type": "code",
   "execution_count": 34,
   "metadata": {},
   "outputs": [
    {
     "data": {
      "text/plain": [
       "((((4, 0), (5, 4)), ((7, 7), (6, 0))), ((8, (7, 7)), ((7, 9), (5, 0))))"
      ]
     },
     "execution_count": 34,
     "metadata": {},
     "output_type": "execute_result"
    }
   ],
   "source": [
    "add_all([[[[0,[4,5]],[0,0]],[[[4,5],[2,6]],[9,5]]],[7,[[[3,7],[4,3]],[[6,3],[8,8]]]]])"
   ]
  },
  {
   "cell_type": "code",
   "execution_count": 35,
   "metadata": {},
   "outputs": [
    {
     "data": {
      "text/plain": [
       "4140"
      ]
     },
     "execution_count": 35,
     "metadata": {},
     "output_type": "execute_result"
    }
   ],
   "source": [
    "part1(\"\"\"[[[0,[5,8]],[[1,7],[9,6]]],[[4,[1,2]],[[1,4],2]]]\n",
    "[[[5,[2,8]],4],[5,[[9,9],0]]]\n",
    "[6,[[[6,2],[5,6]],[[7,6],[4,7]]]]\n",
    "[[[6,[0,7]],[0,9]],[4,[9,[9,0]]]]\n",
    "[[[7,[6,4]],[3,[1,3]]],[[[5,5],1],9]]\n",
    "[[6,[[7,3],[3,2]]],[[[3,8],[5,7]],4]]\n",
    "[[[[5,4],[7,7]],8],[[8,3],8]]\n",
    "[[9,3],[[9,9],[6,[4,9]]]]\n",
    "[[2,[[7,7],7]],[[5,8],[[9,3],[0,2]]]]\n",
    "[[[[5,2],5],[8,[3,7]]],[[5,[7,5]],[4,4]]]\"\"\")"
   ]
  },
  {
   "cell_type": "code",
   "execution_count": 36,
   "metadata": {},
   "outputs": [],
   "source": [
    "answer = part1(data)"
   ]
  },
  {
   "cell_type": "code",
   "execution_count": 37,
   "metadata": {},
   "outputs": [
    {
     "name": "stdout",
     "output_type": "stream",
     "text": [
      "\u001b[32mThat's the right answer!  You are one gold star closer to finding the sleigh keys. [Continue to Part Two]\u001b[0m\n"
     ]
    },
    {
     "data": {
      "text/plain": [
       "<Response [200]>"
      ]
     },
     "execution_count": 37,
     "metadata": {},
     "output_type": "execute_result"
    }
   ],
   "source": [
    "submit(answer, 'a',18)"
   ]
  },
  {
   "cell_type": "code",
   "execution_count": 44,
   "metadata": {},
   "outputs": [],
   "source": [
    "from itertools import combinations\n",
    "def part2(data):\n",
    "    numbers = [eval(line) for line in data.splitlines()]\n",
    "    mags = []\n",
    "    for x,y in combinations(numbers,2):\n",
    "        n = magnitude(add_all([x,y]))\n",
    "        n1 = magnitude(add_all([y,x]))\n",
    "        mags.extend([n, n1])\n",
    "\n",
    "    answer = max(mags)\n",
    "    return answer"
   ]
  },
  {
   "cell_type": "code",
   "execution_count": 45,
   "metadata": {},
   "outputs": [
    {
     "data": {
      "text/plain": [
       "3993"
      ]
     },
     "execution_count": 45,
     "metadata": {},
     "output_type": "execute_result"
    }
   ],
   "source": [
    "part2(\"\"\"[[[0,[5,8]],[[1,7],[9,6]]],[[4,[1,2]],[[1,4],2]]]\n",
    "[[[5,[2,8]],4],[5,[[9,9],0]]]\n",
    "[6,[[[6,2],[5,6]],[[7,6],[4,7]]]]\n",
    "[[[6,[0,7]],[0,9]],[4,[9,[9,0]]]]\n",
    "[[[7,[6,4]],[3,[1,3]]],[[[5,5],1],9]]\n",
    "[[6,[[7,3],[3,2]]],[[[3,8],[5,7]],4]]\n",
    "[[[[5,4],[7,7]],8],[[8,3],8]]\n",
    "[[9,3],[[9,9],[6,[4,9]]]]\n",
    "[[2,[[7,7],7]],[[5,8],[[9,3],[0,2]]]]\n",
    "[[[[5,2],5],[8,[3,7]]],[[5,[7,5]],[4,4]]]\"\"\")"
   ]
  },
  {
   "cell_type": "code",
   "execution_count": 46,
   "metadata": {},
   "outputs": [],
   "source": [
    "answer = part2(data)"
   ]
  },
  {
   "cell_type": "code",
   "execution_count": 48,
   "metadata": {},
   "outputs": [
    {
     "name": "stdout",
     "output_type": "stream",
     "text": [
      "\u001b[32mThat's the right answer!  You are one gold star closer to finding the sleigh keys.You have completed Day 18! You can [Shareon\n",
      "  Twitter\n",
      "Mastodon] this victory or [Return to Your Advent Calendar].\u001b[0m\n"
     ]
    },
    {
     "data": {
      "text/plain": [
       "<Response [200]>"
      ]
     },
     "execution_count": 48,
     "metadata": {},
     "output_type": "execute_result"
    }
   ],
   "source": [
    "submit(answer, 'b', 18)"
   ]
  },
  {
   "cell_type": "markdown",
   "metadata": {},
   "source": [
    "## Day 19 - Beacon Scanner"
   ]
  },
  {
   "cell_type": "code",
   "execution_count": null,
   "metadata": {},
   "outputs": [],
   "source": []
  },
  {
   "cell_type": "code",
   "execution_count": 72,
   "metadata": {},
   "outputs": [],
   "source": [
    "class Scanner:\n",
    "    def __init__(self, input):\n",
    "        self.arr = np.array([np.fromstring(x, sep=\",\") for x in input.splitlines()]).astype(int)\n",
    "        d = []\n",
    "        if self.arr.shape[1] == 2:\n",
    "            for x,y in self.arr:\n",
    "                d.append({'x':x,'y':y,'o':'B'})\n",
    "            d.append({'x':0,'y':0,'o':'S'})\n",
    "        elif self.arr.shape[1] == 3:\n",
    "            for x,y,z in self.arr:\n",
    "                d.append({'x':x,'y':y,'z':z,'o':'B'})\n",
    "            d.append({'x':0,'y':0,'z':0, 'o':'S'})\n",
    "        self.df = pd.DataFrame(d)\n",
    "        # self.v = self.vision()\n",
    "\n",
    "        self.o = self.orients()\n",
    "\n",
    "\n",
    "    def vision(self):\n",
    "        use_z = \"z\" in self.df.columns\n",
    "        if use_z:\n",
    "            cols = ['x','y','z']\n",
    "        else:\n",
    "            cols = ['x','y']\n",
    "        d = self.df.copy()\n",
    "        d[cols] = d[cols] - d[cols].min()\n",
    "        s = d[cols].max()\n",
    "        v = np.full(shape=s+1, fill_value='.')\n",
    "        for i,row in d.iterrows():\n",
    "            x = row[\"x\"]\n",
    "            y = row[\"y\"]\n",
    "            o = row[\"o\"]\n",
    "            if use_z:\n",
    "                z = row[\"z\"]\n",
    "                v[x,y,z] = o\n",
    "            else:\n",
    "                v[x,y] = o\n",
    "\n",
    "        return np.flip(v,0)\n",
    "\n",
    "    def orients(self):\n",
    "        ndim = self.arr.shape[1]\n",
    "        o = []\n",
    "        for i in range(ndim):\n",
    "            ax = np.sort(self.arr[:,i])\n",
    "            o.append(ax)\n",
    "            o.append(np.sort(-ax))\n",
    "        return np.array(o)\n",
    "\n",
    "    def compare(self, other):\n",
    "        \n",
    "        translation = (self.o - other.o[:,np.newaxis]).reshape(6,-1,3)\n",
    "        \n",
    "        return translation\n",
    "    \n",
    "    # def __repr__(self):\n",
    "        # if self.arr.ndim == 2:\n",
    "        #     return \"\\n\".join([\"\".join(x) for x in self.v])\n",
    "\n",
    "def find_translation(s,t,m=12):\n",
    "    \"\"\"finds a translation for which s and t have at least m matches\"\"\"\n",
    "    r = np.max(s - t)\n",
    "    if r > 0:\n",
    "        i = np.arange(r+1)\n",
    "    else:\n",
    "        i = np.arange(0,r-1,-1)\n",
    "    x = t + i[:, np.newaxis]\n",
    "    return i[(x == s).sum(axis=1) >= m] # s = t + i\n",
    "\n",
    "def find_rotation(s: np.array, t: np.array, m=12):\n",
    "    \"\"\"finds the rotation plane for which the elements of s and t have at least m matches\"\"\"\n",
    "    l = []\n",
    "    for i,c1 in enumerate(['x','-x','y','-y','z','-z']):\n",
    "        for j, c2 in enumerate(['x','-x','y','-y','z','-z']):\n",
    "            tr = find_translation(s[i], t[j], m)\n",
    "            if len(tr) > 0:\n",
    "                l.append((c1,c2,tr))\n",
    "    return l\n"
   ]
  },
  {
   "cell_type": "code",
   "execution_count": 73,
   "metadata": {},
   "outputs": [],
   "source": [
    "s = np.array([[1,2,3],[3,10,1],[10,2020,1],[201201,2,1],[20304,23923,1],[23,23,1]])\n",
    "t = np.random.randint(0,10000,size=s.shape)\n",
    "t[1] = s[0] + 1"
   ]
  },
  {
   "cell_type": "code",
   "execution_count": 29,
   "metadata": {},
   "outputs": [
    {
     "data": {
      "text/plain": [
       "array([-1])"
      ]
     },
     "execution_count": 29,
     "metadata": {},
     "output_type": "execute_result"
    }
   ],
   "source": [
    "find_translation(s[0],t[1],2)"
   ]
  },
  {
   "cell_type": "code",
   "execution_count": 30,
   "metadata": {},
   "outputs": [
    {
     "name": "stdout",
     "output_type": "stream",
     "text": [
      "[1 2 3] [2 3 4]\n"
     ]
    },
    {
     "data": {
      "text/plain": [
       "[('x', '-x', array([-1]))]"
      ]
     },
     "execution_count": 30,
     "metadata": {},
     "output_type": "execute_result"
    }
   ],
   "source": [
    "find_rotation(s,t,2)"
   ]
  },
  {
   "cell_type": "code",
   "execution_count": 31,
   "metadata": {},
   "outputs": [],
   "source": [
    "def parse_string(s):\n",
    "    l = []\n",
    "    scanners = []\n",
    "    for line in s.splitlines():\n",
    "        if line == \"\" or line[0] == \"\\n\":\n",
    "            i = \"\\n\".join(l)\n",
    "            scanners.append(Scanner(i))\n",
    "            l.clear()\n",
    "        elif \"---\" in line:\n",
    "            continue\n",
    "        else:\n",
    "            l.append(line)\n",
    "    i = \"\\n\".join(l)\n",
    "    scanners.append(Scanner(i))\n",
    "    return scanners"
   ]
  },
  {
   "cell_type": "code",
   "execution_count": 32,
   "metadata": {},
   "outputs": [],
   "source": [
    "t1 = \"\"\"--- scanner 0 ---\n",
    "404,-588,-901\n",
    "528,-643,409\n",
    "-838,591,734\n",
    "390,-675,-793\n",
    "-537,-823,-458\n",
    "-485,-357,347\n",
    "-345,-311,381\n",
    "-661,-816,-575\n",
    "-876,649,763\n",
    "-618,-824,-621\n",
    "553,345,-567\n",
    "474,580,667\n",
    "-447,-329,318\n",
    "-584,868,-557\n",
    "544,-627,-890\n",
    "564,392,-477\n",
    "455,729,728\n",
    "-892,524,684\n",
    "-689,845,-530\n",
    "423,-701,434\n",
    "7,-33,-71\n",
    "630,319,-379\n",
    "443,580,662\n",
    "-789,900,-551\n",
    "459,-707,401\n",
    "\n",
    "--- scanner 1 ---\n",
    "686,422,578\n",
    "605,423,415\n",
    "515,917,-361\n",
    "-336,658,858\n",
    "95,138,22\n",
    "-476,619,847\n",
    "-340,-569,-846\n",
    "567,-361,727\n",
    "-460,603,-452\n",
    "669,-402,600\n",
    "729,430,532\n",
    "-500,-761,534\n",
    "-322,571,750\n",
    "-466,-666,-811\n",
    "-429,-592,574\n",
    "-355,545,-477\n",
    "703,-491,-529\n",
    "-328,-685,520\n",
    "413,935,-424\n",
    "-391,539,-444\n",
    "586,-435,557\n",
    "-364,-763,-893\n",
    "807,-499,-711\n",
    "755,-354,-619\n",
    "553,889,-390\n",
    "\n",
    "--- scanner 2 ---\n",
    "649,640,665\n",
    "682,-795,504\n",
    "-784,533,-524\n",
    "-644,584,-595\n",
    "-588,-843,648\n",
    "-30,6,44\n",
    "-674,560,763\n",
    "500,723,-460\n",
    "609,671,-379\n",
    "-555,-800,653\n",
    "-675,-892,-343\n",
    "697,-426,-610\n",
    "578,704,681\n",
    "493,664,-388\n",
    "-671,-858,530\n",
    "-667,343,800\n",
    "571,-461,-707\n",
    "-138,-166,112\n",
    "-889,563,-600\n",
    "646,-828,498\n",
    "640,759,510\n",
    "-630,509,768\n",
    "-681,-892,-333\n",
    "673,-379,-804\n",
    "-742,-814,-386\n",
    "577,-820,562\n",
    "\n",
    "--- scanner 3 ---\n",
    "-589,542,597\n",
    "605,-692,669\n",
    "-500,565,-823\n",
    "-660,373,557\n",
    "-458,-679,-417\n",
    "-488,449,543\n",
    "-626,468,-788\n",
    "338,-750,-386\n",
    "528,-832,-391\n",
    "562,-778,733\n",
    "-938,-730,414\n",
    "543,643,-506\n",
    "-524,371,-870\n",
    "407,773,750\n",
    "-104,29,83\n",
    "378,-903,-323\n",
    "-778,-728,485\n",
    "426,699,580\n",
    "-438,-605,-362\n",
    "-469,-447,-387\n",
    "509,732,623\n",
    "647,635,-688\n",
    "-868,-804,481\n",
    "614,-800,639\n",
    "595,780,-596\n",
    "\n",
    "--- scanner 4 ---\n",
    "727,592,562\n",
    "-293,-554,779\n",
    "441,611,-461\n",
    "-714,465,-776\n",
    "-743,427,-804\n",
    "-660,-479,-426\n",
    "832,-632,460\n",
    "927,-485,-438\n",
    "408,393,-506\n",
    "466,436,-512\n",
    "110,16,151\n",
    "-258,-428,682\n",
    "-393,719,612\n",
    "-211,-452,876\n",
    "808,-476,-593\n",
    "-575,615,604\n",
    "-485,667,467\n",
    "-680,325,-822\n",
    "-627,-443,-432\n",
    "872,-547,-609\n",
    "833,512,582\n",
    "807,604,487\n",
    "839,-516,451\n",
    "891,-625,532\n",
    "-652,-548,-490\n",
    "30,-46,-14\"\"\"\n",
    "scanners = parse_string(t1)"
   ]
  },
  {
   "cell_type": "code",
   "execution_count": 75,
   "metadata": {},
   "outputs": [],
   "source": [
    "s = scanners[0]\n",
    "t = scanners[1]"
   ]
  },
  {
   "cell_type": "code",
   "execution_count": 74,
   "metadata": {},
   "outputs": [],
   "source": [
    "s1 = Scanner(\"\"\"-618,-824,-621\n",
    "-537,-823,-458\n",
    "-447,-329,318\n",
    "404,-588,-901\n",
    "544,-627,-890\n",
    "528,-643,409\n",
    "-661,-816,-575\n",
    "390,-675,-793\n",
    "423,-701,434\n",
    "-345,-311,381\n",
    "459,-707,401\n",
    "-485,-357,347\"\"\")\n",
    "t1 = Scanner(\"\"\"686,422,578\n",
    "605,423,415\n",
    "515,917,-361\n",
    "-336,658,858\n",
    "-476,619,847\n",
    "-460,603,-452\n",
    "729,430,532\n",
    "-322,571,750\n",
    "-355,545,-477\n",
    "413,935,-424\n",
    "-391,539,-444\n",
    "553,889,-390\"\"\")"
   ]
  },
  {
   "cell_type": "code",
   "execution_count": 76,
   "metadata": {},
   "outputs": [
    {
     "data": {
      "text/plain": [
       "array([-892, -876, -838, -789, -689, -661, -618, -584, -537, -485, -447,\n",
       "       -345,    7,  390,  404,  423,  443,  455,  459,  474,  528,  544,\n",
       "        553,  564,  630])"
      ]
     },
     "execution_count": 76,
     "metadata": {},
     "output_type": "execute_result"
    }
   ],
   "source": [
    "s.o[0]"
   ]
  },
  {
   "cell_type": "code",
   "execution_count": 77,
   "metadata": {},
   "outputs": [
    {
     "data": {
      "text/plain": [
       "array([-661, -618, -537, -485, -447, -345,  390,  404,  423,  459,  528,\n",
       "        544])"
      ]
     },
     "execution_count": 77,
     "metadata": {},
     "output_type": "execute_result"
    }
   ],
   "source": [
    "s1.o[0]"
   ]
  },
  {
   "cell_type": "code",
   "execution_count": 78,
   "metadata": {},
   "outputs": [
    {
     "data": {
      "text/plain": [
       "array([185, 158, 146, 130, 111,  23,  23, 111, 130, 146, 158, 185])"
      ]
     },
     "execution_count": 78,
     "metadata": {},
     "output_type": "execute_result"
    }
   ],
   "source": [
    "t1.o[0] - s1.o[0]"
   ]
  },
  {
   "cell_type": "code",
   "execution_count": 79,
   "metadata": {},
   "outputs": [
    {
     "data": {
      "text/plain": [
       "array([[ -27,  -12,  -16,  -19,  -88,    0,   88,   19,   16,   12,   27],\n",
       "       [  27,   12,   16,   19,   88,    0,  -88,  -19,  -16,  -12,  -27],\n",
       "       [   0,    0,    0,    0,    0,    0,    0,    0,    0,    0,    0],\n",
       "       [   0,    0,    0,    0,    0,    0,    0,    0,    0,    0,    0],\n",
       "       [  14,  -89, -152,  -12,  -88,    0,   88,   12,  152,   89,  -14],\n",
       "       [ -14,   89,  152,   12,   88,    0,  -88,  -12, -152,  -89,   14]])"
      ]
     },
     "execution_count": 79,
     "metadata": {},
     "output_type": "execute_result"
    }
   ],
   "source": [
    "np.diff(t1.o, axis=1) - np.diff(s1.o, axis=1)"
   ]
  },
  {
   "cell_type": "code",
   "execution_count": null,
   "metadata": {},
   "outputs": [],
   "source": [
    "def rot(s, t, m=12):\n",
    "    diffs = np.diff(s.o, axis=1)[:,np.newaxis] - np.diff(t.o, axis=1)\n",
    "    locs = np.sum(a == 0, axis=-1) >= m - 1\n",
    "    \n"
   ]
  },
  {
   "cell_type": "code",
   "execution_count": 82,
   "metadata": {},
   "outputs": [
    {
     "name": "stdout",
     "output_type": "stream",
     "text": [
      "CPU times: user 73 µs, sys: 0 ns, total: 73 µs\n",
      "Wall time: 76.3 µs\n"
     ]
    }
   ],
   "source": [
    "%time a = np.diff(s1.o, axis=1)[:,np.newaxis] - np.diff(t1.o, axis=1)"
   ]
  },
  {
   "cell_type": "code",
   "execution_count": 91,
   "metadata": {},
   "outputs": [],
   "source": [
    "locs = np.sum(a == 0 , axis=-1) == 11"
   ]
  },
  {
   "cell_type": "code",
   "execution_count": 94,
   "metadata": {},
   "outputs": [
    {
     "data": {
      "text/plain": [
       "array([[False,  True, False, False, False, False],\n",
       "       [ True, False, False, False, False, False],\n",
       "       [False, False,  True, False, False, False],\n",
       "       [False, False, False,  True, False, False],\n",
       "       [False, False, False, False, False,  True],\n",
       "       [False, False, False, False,  True, False]])"
      ]
     },
     "execution_count": 94,
     "metadata": {},
     "output_type": "execute_result"
    }
   ],
   "source": [
    "locs"
   ]
  },
  {
   "cell_type": "code",
   "execution_count": null,
   "metadata": {},
   "outputs": [],
   "source": []
  },
  {
   "cell_type": "code",
   "execution_count": 93,
   "metadata": {},
   "outputs": [
    {
     "data": {
      "text/plain": [
       "array([[-544, -528, -459, -423, -404, -390,  345,  447,  485,  537,  618,\n",
       "         661]])"
      ]
     },
     "execution_count": 93,
     "metadata": {},
     "output_type": "execute_result"
    }
   ],
   "source": [
    "s1.o[locs[:,0]]"
   ]
  },
  {
   "cell_type": "code",
   "execution_count": null,
   "metadata": {},
   "outputs": [],
   "source": [
    "t1.o"
   ]
  },
  {
   "cell_type": "code",
   "execution_count": null,
   "metadata": {},
   "outputs": [],
   "source": [
    "ix = np.array([['x']])"
   ]
  },
  {
   "cell_type": "code",
   "execution_count": 84,
   "metadata": {},
   "outputs": [
    {
     "data": {
      "text/plain": [
       "[('x', '-x', array([68])),\n",
       " ('-x', 'x', array([-68])),\n",
       " ('y', 'y', array([-1246])),\n",
       " ('-y', '-y', array([1246])),\n",
       " ('z', '-z', array([-43])),\n",
       " ('-z', 'z', array([43]))]"
      ]
     },
     "execution_count": 84,
     "metadata": {},
     "output_type": "execute_result"
    }
   ],
   "source": [
    "find_rotation(s1.o, t1.o, 12)"
   ]
  },
  {
   "cell_type": "code",
   "execution_count": 57,
   "metadata": {},
   "outputs": [
    {
     "data": {
      "text/plain": [
       "array([0, 0, 0, 0, 0, 0, 0, 0, 0, 0, 0])"
      ]
     },
     "execution_count": 57,
     "metadata": {},
     "output_type": "execute_result"
    }
   ],
   "source": [
    "np.diff(t1.o[2]) - np.diff(s1.o[2])"
   ]
  },
  {
   "cell_type": "code",
   "execution_count": 44,
   "metadata": {},
   "outputs": [
    {
     "name": "stdout",
     "output_type": "stream",
     "text": [
      "CPU times: user 7.47 ms, sys: 0 ns, total: 7.47 ms\n",
      "Wall time: 7.66 ms\n"
     ]
    }
   ],
   "source": [
    "%time a = find_rotation(s.o, t.o)"
   ]
  },
  {
   "cell_type": "code",
   "execution_count": 45,
   "metadata": {},
   "outputs": [
    {
     "data": {
      "text/plain": [
       "[]"
      ]
     },
     "execution_count": 45,
     "metadata": {},
     "output_type": "execute_result"
    }
   ],
   "source": [
    "a"
   ]
  },
  {
   "cell_type": "code",
   "execution_count": 228,
   "metadata": {},
   "outputs": [
    {
     "name": "stdout",
     "output_type": "stream",
     "text": [
      "CPU times: user 1.37 ms, sys: 0 ns, total: 1.37 ms\n",
      "Wall time: 1.76 ms\n"
     ]
    }
   ],
   "source": [
    "%time a = s.o - t.o[:,np.newaxis]"
   ]
  },
  {
   "cell_type": "code",
   "execution_count": null,
   "metadata": {},
   "outputs": [],
   "source": []
  },
  {
   "cell_type": "code",
   "execution_count": 230,
   "metadata": {},
   "outputs": [
    {
     "name": "stdout",
     "output_type": "stream",
     "text": [
      "CPU times: user 1.19 ms, sys: 148 µs, total: 1.34 ms\n",
      "Wall time: 1.34 ms\n"
     ]
    }
   ],
   "source": [
    "%time u = (t.o - s.o[:,np.newaxis])"
   ]
  },
  {
   "cell_type": "code",
   "execution_count": 231,
   "metadata": {},
   "outputs": [
    {
     "data": {
      "text/plain": [
       "(25, 3)"
      ]
     },
     "execution_count": 231,
     "metadata": {},
     "output_type": "execute_result"
    }
   ],
   "source": [
    "s.arr.shape"
   ]
  },
  {
   "cell_type": "code",
   "execution_count": 232,
   "metadata": {},
   "outputs": [],
   "source": [
    "a1 = a.reshape(3,-1,25)"
   ]
  },
  {
   "cell_type": "code",
   "execution_count": 233,
   "metadata": {},
   "outputs": [],
   "source": [
    "x = []\n",
    "for i in range(3):\n",
    "\tfor j in range(3):\n",
    "\t\ta = s.arr[:,i] - t.arr[:,j]\n",
    "\t\tx.append(a)\n",
    "x = np.array(x)"
   ]
  },
  {
   "cell_type": "code",
   "execution_count": 236,
   "metadata": {},
   "outputs": [
    {
     "data": {
      "text/plain": [
       "array([3381484])"
      ]
     },
     "execution_count": 236,
     "metadata": {},
     "output_type": "execute_result"
    }
   ],
   "source": [
    "np.correlate(s.o[:,2], t.o[:,1])"
   ]
  },
  {
   "cell_type": "code",
   "execution_count": null,
   "metadata": {},
   "outputs": [],
   "source": []
  },
  {
   "cell_type": "code",
   "execution_count": 245,
   "metadata": {},
   "outputs": [
    {
     "data": {
      "image/png": "[encoded data removed]",
      "text/plain": [
       "<Figure size 432x288 with 1 Axes>"
      ]
     },
     "metadata": {},
     "output_type": "display_data"
    }
   ],
   "source": [
    "plt.plot(s.o.T[:,0:3]);"
   ]
  },
  {
   "cell_type": "code",
   "execution_count": 247,
   "metadata": {},
   "outputs": [
    {
     "data": {
      "image/png": "[encoded data removed]",
      "text/plain": [
       "<Figure size 432x288 with 1 Axes>"
      ]
     },
     "metadata": {},
     "output_type": "display_data"
    }
   ],
   "source": [
    "plt.plot(t.o.T[:,0:3]);"
   ]
  },
  {
   "cell_type": "code",
   "execution_count": 212,
   "metadata": {},
   "outputs": [
    {
     "data": {
      "text/plain": [
       "ModeResult(mode=array([[-1358],\n",
       "       [-2253],\n",
       "       [-2396],\n",
       "       [-2602],\n",
       "       [-2850],\n",
       "       [-2880],\n",
       "       [-2513],\n",
       "       [-2834],\n",
       "       [-2746]]), count=array([[2],\n",
       "       [1],\n",
       "       [1],\n",
       "       [1],\n",
       "       [1],\n",
       "       [1],\n",
       "       [1],\n",
       "       [1],\n",
       "       [1]]))"
      ]
     },
     "execution_count": 212,
     "metadata": {},
     "output_type": "execute_result"
    }
   ],
   "source": [
    "mode(np.diff(x),1)"
   ]
  },
  {
   "cell_type": "code",
   "execution_count": 195,
   "metadata": {},
   "outputs": [
    {
     "data": {
      "text/plain": [
       "ModeResult(mode=array([[[ -23],\n",
       "        [  23],\n",
       "        [-272],\n",
       "        [ 272],\n",
       "        [-166],\n",
       "        [  19]],\n",
       "\n",
       "       [[-129],\n",
       "        [ 129],\n",
       "        [-171],\n",
       "        [ -71],\n",
       "        [-138],\n",
       "        [ 138]],\n",
       "\n",
       "       [[-132],\n",
       "        [ 132],\n",
       "        [-175],\n",
       "        [ -23],\n",
       "        [-173],\n",
       "        [ -90]]]), count=array([[[2],\n",
       "        [2],\n",
       "        [2],\n",
       "        [2],\n",
       "        [2],\n",
       "        [2]],\n",
       "\n",
       "       [[2],\n",
       "        [2],\n",
       "        [1],\n",
       "        [1],\n",
       "        [2],\n",
       "        [2]],\n",
       "\n",
       "       [[2],\n",
       "        [2],\n",
       "        [2],\n",
       "        [2],\n",
       "        [1],\n",
       "        [1]]]))"
      ]
     },
     "execution_count": 195,
     "metadata": {},
     "output_type": "execute_result"
    }
   ],
   "source": [
    "mode(a1,axis=2)"
   ]
  },
  {
   "cell_type": "code",
   "execution_count": 136,
   "metadata": {},
   "outputs": [],
   "source": [
    "from scipy.stats import mode"
   ]
  },
  {
   "cell_type": "code",
   "execution_count": 145,
   "metadata": {},
   "outputs": [
    {
     "data": {
      "text/plain": [
       "4"
      ]
     },
     "execution_count": 145,
     "metadata": {},
     "output_type": "execute_result"
    }
   ],
   "source": [
    "u.ndim"
   ]
  },
  {
   "cell_type": "code",
   "execution_count": 163,
   "metadata": {},
   "outputs": [],
   "source": [
    "r = mode(u,axis=3)"
   ]
  },
  {
   "cell_type": "code",
   "execution_count": 165,
   "metadata": {},
   "outputs": [
    {
     "data": {
      "text/plain": [
       "array([[[[-5, -5, -5],\n",
       "         [ 5,  5,  5]],\n",
       "\n",
       "        [[-1, -3, -3],\n",
       "         [ 1,  3,  3]]],\n",
       "\n",
       "\n",
       "       [[[-6, -4, -4],\n",
       "         [ 6,  4,  4]],\n",
       "\n",
       "        [[-2, -2, -2],\n",
       "         [ 2,  2,  2]]]])"
      ]
     },
     "execution_count": 165,
     "metadata": {},
     "output_type": "execute_result"
    }
   ],
   "source": [
    "u"
   ]
  },
  {
   "cell_type": "code",
   "execution_count": null,
   "metadata": {},
   "outputs": [],
   "source": []
  },
  {
   "cell_type": "code",
   "execution_count": 164,
   "metadata": {},
   "outputs": [
    {
     "data": {
      "text/plain": [
       "array([[[[ True],\n",
       "         [ True]],\n",
       "\n",
       "        [[False],\n",
       "         [False]]],\n",
       "\n",
       "\n",
       "       [[[False],\n",
       "         [False]],\n",
       "\n",
       "        [[ True],\n",
       "         [ True]]]])"
      ]
     },
     "execution_count": 164,
     "metadata": {},
     "output_type": "execute_result"
    }
   ],
   "source": [
    "r.count >= 3"
   ]
  },
  {
   "cell_type": "code",
   "execution_count": 131,
   "metadata": {},
   "outputs": [
    {
     "data": {
      "text/plain": [
       "array([[[[-5, -5, -5],\n",
       "         [ 5,  5,  5]],\n",
       "\n",
       "        [[-1, -3, -3],\n",
       "         [ 1,  3,  3]]],\n",
       "\n",
       "\n",
       "       [[[-6, -4, -4],\n",
       "         [ 6,  4,  4]],\n",
       "\n",
       "        [[-2, -2, -2],\n",
       "         [ 2,  2,  2]]]])"
      ]
     },
     "execution_count": 131,
     "metadata": {},
     "output_type": "execute_result"
    }
   ],
   "source": [
    "u"
   ]
  },
  {
   "cell_type": "code",
   "execution_count": 102,
   "metadata": {},
   "outputs": [
    {
     "data": {
      "text/plain": [
       "(4, 3)"
      ]
     },
     "execution_count": 102,
     "metadata": {},
     "output_type": "execute_result"
    }
   ],
   "source": [
    "s.o.shape"
   ]
  },
  {
   "cell_type": "code",
   "execution_count": 111,
   "metadata": {},
   "outputs": [
    {
     "data": {
      "text/plain": [
       "array([[ 0,  3,  4],\n",
       "       [ 0, -3, -4],\n",
       "       [ 1,  2,  3],\n",
       "       [-1, -2, -3]])"
      ]
     },
     "execution_count": 111,
     "metadata": {},
     "output_type": "execute_result"
    }
   ],
   "source": [
    "s.o"
   ]
  },
  {
   "cell_type": "code",
   "execution_count": 113,
   "metadata": {},
   "outputs": [
    {
     "data": {
      "text/plain": [
       "array([[1, 3],\n",
       "       [9, 1],\n",
       "       [5, 2]])"
      ]
     },
     "execution_count": 113,
     "metadata": {},
     "output_type": "execute_result"
    }
   ],
   "source": [
    "s.arr - t.arr"
   ]
  },
  {
   "cell_type": "code",
   "execution_count": 114,
   "metadata": {},
   "outputs": [
    {
     "data": {
      "text/plain": [
       "array([[0, 2],\n",
       "       [4, 1],\n",
       "       [3, 3]])"
      ]
     },
     "execution_count": 114,
     "metadata": {},
     "output_type": "execute_result"
    }
   ],
   "source": [
    "s.arr"
   ]
  },
  {
   "cell_type": "code",
   "execution_count": 115,
   "metadata": {},
   "outputs": [
    {
     "data": {
      "text/plain": [
       "array([[-1, -1],\n",
       "       [-5,  0],\n",
       "       [-2,  1]])"
      ]
     },
     "execution_count": 115,
     "metadata": {},
     "output_type": "execute_result"
    }
   ],
   "source": [
    "t.arr"
   ]
  },
  {
   "cell_type": "code",
   "execution_count": 121,
   "metadata": {},
   "outputs": [
    {
     "data": {
      "text/plain": [
       "array([[[-5, -5, -5],\n",
       "        [ 5, -1, -3],\n",
       "        [-1, -3, -3],\n",
       "        [ 1, -3, -5]],\n",
       "\n",
       "       [[-5,  1,  3],\n",
       "        [ 5,  5,  5],\n",
       "        [-1,  3,  5],\n",
       "        [ 1,  3,  3]],\n",
       "\n",
       "       [[-6, -4, -4],\n",
       "        [ 4,  0, -2],\n",
       "        [-2, -2, -2],\n",
       "        [ 0, -2, -4]],\n",
       "\n",
       "       [[-4,  0,  2],\n",
       "        [ 6,  4,  4],\n",
       "        [ 0,  2,  4],\n",
       "        [ 2,  2,  2]]])"
      ]
     },
     "execution_count": 121,
     "metadata": {},
     "output_type": "execute_result"
    }
   ],
   "source": [
    "u"
   ]
  },
  {
   "cell_type": "code",
   "execution_count": 107,
   "metadata": {},
   "outputs": [
    {
     "data": {
      "text/plain": [
       "array([-5, -5, -5])"
      ]
     },
     "execution_count": 107,
     "metadata": {},
     "output_type": "execute_result"
    }
   ],
   "source": [
    "u[0,0]a"
   ]
  },
  {
   "cell_type": "code",
   "execution_count": 93,
   "metadata": {},
   "outputs": [
    {
     "name": "stdout",
     "output_type": "stream",
     "text": [
      "CPU times: user 5.76 ms, sys: 0 ns, total: 5.76 ms\n",
      "Wall time: 5.88 ms\n"
     ]
    }
   ],
   "source": [
    "%time a = pd.DataFrame(t.o-s.o).T.mode().T"
   ]
  },
  {
   "cell_type": "code",
   "execution_count": null,
   "metadata": {},
   "outputs": [],
   "source": []
  },
  {
   "cell_type": "code",
   "execution_count": 6,
   "metadata": {},
   "outputs": [
    {
     "data": {
      "text/plain": [
       "array([['.', 'B', '.', '.'],\n",
       "       ['.', '.', '.', 'B'],\n",
       "       ['.', '.', '.', '.'],\n",
       "       ['.', '.', '.', '.'],\n",
       "       ['S', '.', 'B', '.']], dtype='<U1')"
      ]
     },
     "execution_count": 6,
     "metadata": {},
     "output_type": "execute_result"
    }
   ],
   "source": [
    "s.vision()"
   ]
  },
  {
   "cell_type": "code",
   "execution_count": 7,
   "metadata": {},
   "outputs": [
    {
     "data": {
      "text/plain": [
       "array([[0, 2],\n",
       "       [2, 0],\n",
       "       [4, 1],\n",
       "       [1, 4],\n",
       "       [3, 3],\n",
       "       [3, 3]])"
      ]
     },
     "execution_count": 7,
     "metadata": {},
     "output_type": "execute_result"
    }
   ],
   "source": [
    "s.o"
   ]
  },
  {
   "cell_type": "code",
   "execution_count": 128,
   "metadata": {},
   "outputs": [
    {
     "data": {
      "text/plain": [
       ".B..\n",
       "...B\n",
       "....\n",
       "....\n",
       "S.B."
      ]
     },
     "execution_count": 128,
     "metadata": {},
     "output_type": "execute_result"
    }
   ],
   "source": [
    "s"
   ]
  },
  {
   "cell_type": "code",
   "execution_count": 61,
   "metadata": {},
   "outputs": [
    {
     "ename": "AttributeError",
     "evalue": "'range' is not a valid function for 'Series' object",
     "output_type": "error",
     "traceback": [
      "\u001b[0;31m---------------------------------------------------------------------------\u001b[0m",
      "\u001b[0;31mAttributeError\u001b[0m                            Traceback (most recent call last)",
      "\u001b[0;32m/tmp/ipykernel_1481/3216412161.py\u001b[0m in \u001b[0;36m<module>\u001b[0;34m\u001b[0m\n\u001b[0;32m----> 1\u001b[0;31m \u001b[0mscanners\u001b[0m\u001b[0;34m[\u001b[0m\u001b[0;36m0\u001b[0m\u001b[0;34m]\u001b[0m\u001b[0;34m.\u001b[0m\u001b[0mdf\u001b[0m\u001b[0;34m[\u001b[0m\u001b[0;34m[\u001b[0m\u001b[0;34m'x'\u001b[0m\u001b[0;34m,\u001b[0m\u001b[0;34m'y'\u001b[0m\u001b[0;34m]\u001b[0m\u001b[0;34m]\u001b[0m\u001b[0;34m.\u001b[0m\u001b[0magg\u001b[0m\u001b[0;34m(\u001b[0m\u001b[0;34m[\u001b[0m\u001b[0;34m'min'\u001b[0m\u001b[0;34m,\u001b[0m\u001b[0;34m'max'\u001b[0m\u001b[0;34m,\u001b[0m\u001b[0;34m'range'\u001b[0m\u001b[0;34m]\u001b[0m\u001b[0;34m)\u001b[0m\u001b[0;34m\u001b[0m\u001b[0;34m\u001b[0m\u001b[0m\n\u001b[0m",
      "\u001b[0;32m~/.local/lib/python3.8/site-packages/pandas/core/frame.py\u001b[0m in \u001b[0;36maggregate\u001b[0;34m(self, func, axis, *args, **kwargs)\u001b[0m\n\u001b[1;32m   8548\u001b[0m \u001b[0;34m\u001b[0m\u001b[0m\n\u001b[1;32m   8549\u001b[0m         \u001b[0mop\u001b[0m \u001b[0;34m=\u001b[0m \u001b[0mframe_apply\u001b[0m\u001b[0;34m(\u001b[0m\u001b[0mself\u001b[0m\u001b[0;34m,\u001b[0m \u001b[0mfunc\u001b[0m\u001b[0;34m=\u001b[0m\u001b[0mfunc\u001b[0m\u001b[0;34m,\u001b[0m \u001b[0maxis\u001b[0m\u001b[0;34m=\u001b[0m\u001b[0maxis\u001b[0m\u001b[0;34m,\u001b[0m \u001b[0margs\u001b[0m\u001b[0;34m=\u001b[0m\u001b[0margs\u001b[0m\u001b[0;34m,\u001b[0m \u001b[0mkwargs\u001b[0m\u001b[0;34m=\u001b[0m\u001b[0mkwargs\u001b[0m\u001b[0;34m)\u001b[0m\u001b[0;34m\u001b[0m\u001b[0;34m\u001b[0m\u001b[0m\n\u001b[0;32m-> 8550\u001b[0;31m         \u001b[0mresult\u001b[0m \u001b[0;34m=\u001b[0m \u001b[0mop\u001b[0m\u001b[0;34m.\u001b[0m\u001b[0magg\u001b[0m\u001b[0;34m(\u001b[0m\u001b[0;34m)\u001b[0m\u001b[0;34m\u001b[0m\u001b[0;34m\u001b[0m\u001b[0m\n\u001b[0m\u001b[1;32m   8551\u001b[0m \u001b[0;34m\u001b[0m\u001b[0m\n\u001b[1;32m   8552\u001b[0m         \u001b[0;32mif\u001b[0m \u001b[0mrelabeling\u001b[0m\u001b[0;34m:\u001b[0m\u001b[0;34m\u001b[0m\u001b[0;34m\u001b[0m\u001b[0m\n",
      "\u001b[0;32m~/.local/lib/python3.8/site-packages/pandas/core/apply.py\u001b[0m in \u001b[0;36magg\u001b[0;34m(self)\u001b[0m\n\u001b[1;32m    698\u001b[0m         \u001b[0mresult\u001b[0m \u001b[0;34m=\u001b[0m \u001b[0;32mNone\u001b[0m\u001b[0;34m\u001b[0m\u001b[0;34m\u001b[0m\u001b[0m\n\u001b[1;32m    699\u001b[0m         \u001b[0;32mtry\u001b[0m\u001b[0;34m:\u001b[0m\u001b[0;34m\u001b[0m\u001b[0;34m\u001b[0m\u001b[0m\n\u001b[0;32m--> 700\u001b[0;31m             \u001b[0mresult\u001b[0m \u001b[0;34m=\u001b[0m \u001b[0msuper\u001b[0m\u001b[0;34m(\u001b[0m\u001b[0;34m)\u001b[0m\u001b[0;34m.\u001b[0m\u001b[0magg\u001b[0m\u001b[0;34m(\u001b[0m\u001b[0;34m)\u001b[0m\u001b[0;34m\u001b[0m\u001b[0;34m\u001b[0m\u001b[0m\n\u001b[0m\u001b[1;32m    701\u001b[0m         \u001b[0;32mexcept\u001b[0m \u001b[0mTypeError\u001b[0m \u001b[0;32mas\u001b[0m \u001b[0merr\u001b[0m\u001b[0;34m:\u001b[0m\u001b[0;34m\u001b[0m\u001b[0;34m\u001b[0m\u001b[0m\n\u001b[1;32m    702\u001b[0m             exc = TypeError(\n",
      "\u001b[0;32m~/.local/lib/python3.8/site-packages/pandas/core/apply.py\u001b[0m in \u001b[0;36magg\u001b[0;34m(self)\u001b[0m\n\u001b[1;32m    162\u001b[0m         \u001b[0;32melif\u001b[0m \u001b[0mis_list_like\u001b[0m\u001b[0;34m(\u001b[0m\u001b[0marg\u001b[0m\u001b[0;34m)\u001b[0m\u001b[0;34m:\u001b[0m\u001b[0;34m\u001b[0m\u001b[0;34m\u001b[0m\u001b[0m\n\u001b[1;32m    163\u001b[0m             \u001b[0;31m# we require a list, but not a 'str'\u001b[0m\u001b[0;34m\u001b[0m\u001b[0;34m\u001b[0m\u001b[0;34m\u001b[0m\u001b[0m\n\u001b[0;32m--> 164\u001b[0;31m             \u001b[0;32mreturn\u001b[0m \u001b[0mself\u001b[0m\u001b[0;34m.\u001b[0m\u001b[0magg_list_like\u001b[0m\u001b[0;34m(\u001b[0m\u001b[0;34m)\u001b[0m\u001b[0;34m\u001b[0m\u001b[0;34m\u001b[0m\u001b[0m\n\u001b[0m\u001b[1;32m    165\u001b[0m \u001b[0;34m\u001b[0m\u001b[0m\n\u001b[1;32m    166\u001b[0m         \u001b[0;32mif\u001b[0m \u001b[0mcallable\u001b[0m\u001b[0;34m(\u001b[0m\u001b[0marg\u001b[0m\u001b[0;34m)\u001b[0m\u001b[0;34m:\u001b[0m\u001b[0;34m\u001b[0m\u001b[0;34m\u001b[0m\u001b[0m\n",
      "\u001b[0;32m~/.local/lib/python3.8/site-packages/pandas/core/apply.py\u001b[0m in \u001b[0;36magg_list_like\u001b[0;34m(self)\u001b[0m\n\u001b[1;32m    353\u001b[0m                 \u001b[0mcolg\u001b[0m \u001b[0;34m=\u001b[0m \u001b[0mobj\u001b[0m\u001b[0;34m.\u001b[0m\u001b[0m_gotitem\u001b[0m\u001b[0;34m(\u001b[0m\u001b[0mcol\u001b[0m\u001b[0;34m,\u001b[0m \u001b[0mndim\u001b[0m\u001b[0;34m=\u001b[0m\u001b[0;36m1\u001b[0m\u001b[0;34m,\u001b[0m \u001b[0msubset\u001b[0m\u001b[0;34m=\u001b[0m\u001b[0mselected_obj\u001b[0m\u001b[0;34m.\u001b[0m\u001b[0miloc\u001b[0m\u001b[0;34m[\u001b[0m\u001b[0;34m:\u001b[0m\u001b[0;34m,\u001b[0m \u001b[0mindex\u001b[0m\u001b[0;34m]\u001b[0m\u001b[0;34m)\u001b[0m\u001b[0;34m\u001b[0m\u001b[0;34m\u001b[0m\u001b[0m\n\u001b[1;32m    354\u001b[0m                 \u001b[0;32mtry\u001b[0m\u001b[0;34m:\u001b[0m\u001b[0;34m\u001b[0m\u001b[0;34m\u001b[0m\u001b[0m\n\u001b[0;32m--> 355\u001b[0;31m                     \u001b[0mnew_res\u001b[0m \u001b[0;34m=\u001b[0m \u001b[0mcolg\u001b[0m\u001b[0;34m.\u001b[0m\u001b[0maggregate\u001b[0m\u001b[0;34m(\u001b[0m\u001b[0marg\u001b[0m\u001b[0;34m)\u001b[0m\u001b[0;34m\u001b[0m\u001b[0;34m\u001b[0m\u001b[0m\n\u001b[0m\u001b[1;32m    356\u001b[0m                 \u001b[0;32mexcept\u001b[0m \u001b[0;34m(\u001b[0m\u001b[0mTypeError\u001b[0m\u001b[0;34m,\u001b[0m \u001b[0mDataError\u001b[0m\u001b[0;34m)\u001b[0m\u001b[0;34m:\u001b[0m\u001b[0;34m\u001b[0m\u001b[0;34m\u001b[0m\u001b[0m\n\u001b[1;32m    357\u001b[0m                     \u001b[0;32mpass\u001b[0m\u001b[0;34m\u001b[0m\u001b[0;34m\u001b[0m\u001b[0m\n",
      "\u001b[0;32m~/.local/lib/python3.8/site-packages/pandas/core/series.py\u001b[0m in \u001b[0;36maggregate\u001b[0;34m(self, func, axis, *args, **kwargs)\u001b[0m\n\u001b[1;32m   4225\u001b[0m \u001b[0;34m\u001b[0m\u001b[0m\n\u001b[1;32m   4226\u001b[0m         \u001b[0mop\u001b[0m \u001b[0;34m=\u001b[0m \u001b[0mSeriesApply\u001b[0m\u001b[0;34m(\u001b[0m\u001b[0mself\u001b[0m\u001b[0;34m,\u001b[0m \u001b[0mfunc\u001b[0m\u001b[0;34m,\u001b[0m \u001b[0mconvert_dtype\u001b[0m\u001b[0;34m=\u001b[0m\u001b[0;32mFalse\u001b[0m\u001b[0;34m,\u001b[0m \u001b[0margs\u001b[0m\u001b[0;34m=\u001b[0m\u001b[0margs\u001b[0m\u001b[0;34m,\u001b[0m \u001b[0mkwargs\u001b[0m\u001b[0;34m=\u001b[0m\u001b[0mkwargs\u001b[0m\u001b[0;34m)\u001b[0m\u001b[0;34m\u001b[0m\u001b[0;34m\u001b[0m\u001b[0m\n\u001b[0;32m-> 4227\u001b[0;31m         \u001b[0mresult\u001b[0m \u001b[0;34m=\u001b[0m \u001b[0mop\u001b[0m\u001b[0;34m.\u001b[0m\u001b[0magg\u001b[0m\u001b[0;34m(\u001b[0m\u001b[0;34m)\u001b[0m\u001b[0;34m\u001b[0m\u001b[0;34m\u001b[0m\u001b[0m\n\u001b[0m\u001b[1;32m   4228\u001b[0m         \u001b[0;32mreturn\u001b[0m \u001b[0mresult\u001b[0m\u001b[0;34m\u001b[0m\u001b[0;34m\u001b[0m\u001b[0m\n\u001b[1;32m   4229\u001b[0m \u001b[0;34m\u001b[0m\u001b[0m\n",
      "\u001b[0;32m~/.local/lib/python3.8/site-packages/pandas/core/apply.py\u001b[0m in \u001b[0;36magg\u001b[0;34m(self)\u001b[0m\n\u001b[1;32m   1044\u001b[0m \u001b[0;34m\u001b[0m\u001b[0m\n\u001b[1;32m   1045\u001b[0m     \u001b[0;32mdef\u001b[0m \u001b[0magg\u001b[0m\u001b[0;34m(\u001b[0m\u001b[0mself\u001b[0m\u001b[0;34m)\u001b[0m\u001b[0;34m:\u001b[0m\u001b[0;34m\u001b[0m\u001b[0;34m\u001b[0m\u001b[0m\n\u001b[0;32m-> 1046\u001b[0;31m         \u001b[0mresult\u001b[0m \u001b[0;34m=\u001b[0m \u001b[0msuper\u001b[0m\u001b[0;34m(\u001b[0m\u001b[0;34m)\u001b[0m\u001b[0;34m.\u001b[0m\u001b[0magg\u001b[0m\u001b[0;34m(\u001b[0m\u001b[0;34m)\u001b[0m\u001b[0;34m\u001b[0m\u001b[0;34m\u001b[0m\u001b[0m\n\u001b[0m\u001b[1;32m   1047\u001b[0m         \u001b[0;32mif\u001b[0m \u001b[0mresult\u001b[0m \u001b[0;32mis\u001b[0m \u001b[0;32mNone\u001b[0m\u001b[0;34m:\u001b[0m\u001b[0;34m\u001b[0m\u001b[0;34m\u001b[0m\u001b[0m\n\u001b[1;32m   1048\u001b[0m             \u001b[0mf\u001b[0m \u001b[0;34m=\u001b[0m \u001b[0mself\u001b[0m\u001b[0;34m.\u001b[0m\u001b[0mf\u001b[0m\u001b[0;34m\u001b[0m\u001b[0;34m\u001b[0m\u001b[0m\n",
      "\u001b[0;32m~/.local/lib/python3.8/site-packages/pandas/core/apply.py\u001b[0m in \u001b[0;36magg\u001b[0;34m(self)\u001b[0m\n\u001b[1;32m    162\u001b[0m         \u001b[0;32melif\u001b[0m \u001b[0mis_list_like\u001b[0m\u001b[0;34m(\u001b[0m\u001b[0marg\u001b[0m\u001b[0;34m)\u001b[0m\u001b[0;34m:\u001b[0m\u001b[0;34m\u001b[0m\u001b[0;34m\u001b[0m\u001b[0m\n\u001b[1;32m    163\u001b[0m             \u001b[0;31m# we require a list, but not a 'str'\u001b[0m\u001b[0;34m\u001b[0m\u001b[0;34m\u001b[0m\u001b[0;34m\u001b[0m\u001b[0m\n\u001b[0;32m--> 164\u001b[0;31m             \u001b[0;32mreturn\u001b[0m \u001b[0mself\u001b[0m\u001b[0;34m.\u001b[0m\u001b[0magg_list_like\u001b[0m\u001b[0;34m(\u001b[0m\u001b[0;34m)\u001b[0m\u001b[0;34m\u001b[0m\u001b[0;34m\u001b[0m\u001b[0m\n\u001b[0m\u001b[1;32m    165\u001b[0m \u001b[0;34m\u001b[0m\u001b[0m\n\u001b[1;32m    166\u001b[0m         \u001b[0;32mif\u001b[0m \u001b[0mcallable\u001b[0m\u001b[0;34m(\u001b[0m\u001b[0marg\u001b[0m\u001b[0;34m)\u001b[0m\u001b[0;34m:\u001b[0m\u001b[0;34m\u001b[0m\u001b[0;34m\u001b[0m\u001b[0m\n",
      "\u001b[0;32m~/.local/lib/python3.8/site-packages/pandas/core/apply.py\u001b[0m in \u001b[0;36magg_list_like\u001b[0;34m(self)\u001b[0m\n\u001b[1;32m    336\u001b[0m                 \u001b[0mcolg\u001b[0m \u001b[0;34m=\u001b[0m \u001b[0mobj\u001b[0m\u001b[0;34m.\u001b[0m\u001b[0m_gotitem\u001b[0m\u001b[0;34m(\u001b[0m\u001b[0mselected_obj\u001b[0m\u001b[0;34m.\u001b[0m\u001b[0mname\u001b[0m\u001b[0;34m,\u001b[0m \u001b[0mndim\u001b[0m\u001b[0;34m=\u001b[0m\u001b[0;36m1\u001b[0m\u001b[0;34m,\u001b[0m \u001b[0msubset\u001b[0m\u001b[0;34m=\u001b[0m\u001b[0mselected_obj\u001b[0m\u001b[0;34m)\u001b[0m\u001b[0;34m\u001b[0m\u001b[0;34m\u001b[0m\u001b[0m\n\u001b[1;32m    337\u001b[0m                 \u001b[0;32mtry\u001b[0m\u001b[0;34m:\u001b[0m\u001b[0;34m\u001b[0m\u001b[0;34m\u001b[0m\u001b[0m\n\u001b[0;32m--> 338\u001b[0;31m                     \u001b[0mnew_res\u001b[0m \u001b[0;34m=\u001b[0m \u001b[0mcolg\u001b[0m\u001b[0;34m.\u001b[0m\u001b[0maggregate\u001b[0m\u001b[0;34m(\u001b[0m\u001b[0ma\u001b[0m\u001b[0;34m)\u001b[0m\u001b[0;34m\u001b[0m\u001b[0;34m\u001b[0m\u001b[0m\n\u001b[0m\u001b[1;32m    339\u001b[0m \u001b[0;34m\u001b[0m\u001b[0m\n\u001b[1;32m    340\u001b[0m                 \u001b[0;32mexcept\u001b[0m \u001b[0mTypeError\u001b[0m\u001b[0;34m:\u001b[0m\u001b[0;34m\u001b[0m\u001b[0;34m\u001b[0m\u001b[0m\n",
      "\u001b[0;32m~/.local/lib/python3.8/site-packages/pandas/core/series.py\u001b[0m in \u001b[0;36maggregate\u001b[0;34m(self, func, axis, *args, **kwargs)\u001b[0m\n\u001b[1;32m   4225\u001b[0m \u001b[0;34m\u001b[0m\u001b[0m\n\u001b[1;32m   4226\u001b[0m         \u001b[0mop\u001b[0m \u001b[0;34m=\u001b[0m \u001b[0mSeriesApply\u001b[0m\u001b[0;34m(\u001b[0m\u001b[0mself\u001b[0m\u001b[0;34m,\u001b[0m \u001b[0mfunc\u001b[0m\u001b[0;34m,\u001b[0m \u001b[0mconvert_dtype\u001b[0m\u001b[0;34m=\u001b[0m\u001b[0;32mFalse\u001b[0m\u001b[0;34m,\u001b[0m \u001b[0margs\u001b[0m\u001b[0;34m=\u001b[0m\u001b[0margs\u001b[0m\u001b[0;34m,\u001b[0m \u001b[0mkwargs\u001b[0m\u001b[0;34m=\u001b[0m\u001b[0mkwargs\u001b[0m\u001b[0;34m)\u001b[0m\u001b[0;34m\u001b[0m\u001b[0;34m\u001b[0m\u001b[0m\n\u001b[0;32m-> 4227\u001b[0;31m         \u001b[0mresult\u001b[0m \u001b[0;34m=\u001b[0m \u001b[0mop\u001b[0m\u001b[0;34m.\u001b[0m\u001b[0magg\u001b[0m\u001b[0;34m(\u001b[0m\u001b[0;34m)\u001b[0m\u001b[0;34m\u001b[0m\u001b[0;34m\u001b[0m\u001b[0m\n\u001b[0m\u001b[1;32m   4228\u001b[0m         \u001b[0;32mreturn\u001b[0m \u001b[0mresult\u001b[0m\u001b[0;34m\u001b[0m\u001b[0;34m\u001b[0m\u001b[0m\n\u001b[1;32m   4229\u001b[0m \u001b[0;34m\u001b[0m\u001b[0m\n",
      "\u001b[0;32m~/.local/lib/python3.8/site-packages/pandas/core/apply.py\u001b[0m in \u001b[0;36magg\u001b[0;34m(self)\u001b[0m\n\u001b[1;32m   1044\u001b[0m \u001b[0;34m\u001b[0m\u001b[0m\n\u001b[1;32m   1045\u001b[0m     \u001b[0;32mdef\u001b[0m \u001b[0magg\u001b[0m\u001b[0;34m(\u001b[0m\u001b[0mself\u001b[0m\u001b[0;34m)\u001b[0m\u001b[0;34m:\u001b[0m\u001b[0;34m\u001b[0m\u001b[0;34m\u001b[0m\u001b[0m\n\u001b[0;32m-> 1046\u001b[0;31m         \u001b[0mresult\u001b[0m \u001b[0;34m=\u001b[0m \u001b[0msuper\u001b[0m\u001b[0;34m(\u001b[0m\u001b[0;34m)\u001b[0m\u001b[0;34m.\u001b[0m\u001b[0magg\u001b[0m\u001b[0;34m(\u001b[0m\u001b[0;34m)\u001b[0m\u001b[0;34m\u001b[0m\u001b[0;34m\u001b[0m\u001b[0m\n\u001b[0m\u001b[1;32m   1047\u001b[0m         \u001b[0;32mif\u001b[0m \u001b[0mresult\u001b[0m \u001b[0;32mis\u001b[0m \u001b[0;32mNone\u001b[0m\u001b[0;34m:\u001b[0m\u001b[0;34m\u001b[0m\u001b[0;34m\u001b[0m\u001b[0m\n\u001b[1;32m   1048\u001b[0m             \u001b[0mf\u001b[0m \u001b[0;34m=\u001b[0m \u001b[0mself\u001b[0m\u001b[0;34m.\u001b[0m\u001b[0mf\u001b[0m\u001b[0;34m\u001b[0m\u001b[0;34m\u001b[0m\u001b[0m\n",
      "\u001b[0;32m~/.local/lib/python3.8/site-packages/pandas/core/apply.py\u001b[0m in \u001b[0;36magg\u001b[0;34m(self)\u001b[0m\n\u001b[1;32m    156\u001b[0m \u001b[0;34m\u001b[0m\u001b[0m\n\u001b[1;32m    157\u001b[0m         \u001b[0;32mif\u001b[0m \u001b[0misinstance\u001b[0m\u001b[0;34m(\u001b[0m\u001b[0marg\u001b[0m\u001b[0;34m,\u001b[0m \u001b[0mstr\u001b[0m\u001b[0;34m)\u001b[0m\u001b[0;34m:\u001b[0m\u001b[0;34m\u001b[0m\u001b[0;34m\u001b[0m\u001b[0m\n\u001b[0;32m--> 158\u001b[0;31m             \u001b[0;32mreturn\u001b[0m \u001b[0mself\u001b[0m\u001b[0;34m.\u001b[0m\u001b[0mapply_str\u001b[0m\u001b[0;34m(\u001b[0m\u001b[0;34m)\u001b[0m\u001b[0;34m\u001b[0m\u001b[0;34m\u001b[0m\u001b[0m\n\u001b[0m\u001b[1;32m    159\u001b[0m \u001b[0;34m\u001b[0m\u001b[0m\n\u001b[1;32m    160\u001b[0m         \u001b[0;32mif\u001b[0m \u001b[0mis_dict_like\u001b[0m\u001b[0;34m(\u001b[0m\u001b[0marg\u001b[0m\u001b[0;34m)\u001b[0m\u001b[0;34m:\u001b[0m\u001b[0;34m\u001b[0m\u001b[0;34m\u001b[0m\u001b[0m\n",
      "\u001b[0;32m~/.local/lib/python3.8/site-packages/pandas/core/apply.py\u001b[0m in \u001b[0;36mapply_str\u001b[0;34m(self)\u001b[0m\n\u001b[1;32m    505\u001b[0m             \u001b[0;32melif\u001b[0m \u001b[0mself\u001b[0m\u001b[0;34m.\u001b[0m\u001b[0maxis\u001b[0m \u001b[0;34m!=\u001b[0m \u001b[0;36m0\u001b[0m\u001b[0;34m:\u001b[0m\u001b[0;34m\u001b[0m\u001b[0;34m\u001b[0m\u001b[0m\n\u001b[1;32m    506\u001b[0m                 \u001b[0;32mraise\u001b[0m \u001b[0mValueError\u001b[0m\u001b[0;34m(\u001b[0m\u001b[0;34mf\"Operation {f} does not support axis=1\"\u001b[0m\u001b[0;34m)\u001b[0m\u001b[0;34m\u001b[0m\u001b[0;34m\u001b[0m\u001b[0m\n\u001b[0;32m--> 507\u001b[0;31m         \u001b[0;32mreturn\u001b[0m \u001b[0mself\u001b[0m\u001b[0;34m.\u001b[0m\u001b[0m_try_aggregate_string_function\u001b[0m\u001b[0;34m(\u001b[0m\u001b[0mobj\u001b[0m\u001b[0;34m,\u001b[0m \u001b[0mf\u001b[0m\u001b[0;34m,\u001b[0m \u001b[0;34m*\u001b[0m\u001b[0mself\u001b[0m\u001b[0;34m.\u001b[0m\u001b[0margs\u001b[0m\u001b[0;34m,\u001b[0m \u001b[0;34m**\u001b[0m\u001b[0mself\u001b[0m\u001b[0;34m.\u001b[0m\u001b[0mkwargs\u001b[0m\u001b[0;34m)\u001b[0m\u001b[0;34m\u001b[0m\u001b[0;34m\u001b[0m\u001b[0m\n\u001b[0m\u001b[1;32m    508\u001b[0m \u001b[0;34m\u001b[0m\u001b[0m\n\u001b[1;32m    509\u001b[0m     \u001b[0;32mdef\u001b[0m \u001b[0mapply_multiple\u001b[0m\u001b[0;34m(\u001b[0m\u001b[0mself\u001b[0m\u001b[0;34m)\u001b[0m \u001b[0;34m->\u001b[0m \u001b[0mFrameOrSeriesUnion\u001b[0m\u001b[0;34m:\u001b[0m\u001b[0;34m\u001b[0m\u001b[0;34m\u001b[0m\u001b[0m\n",
      "\u001b[0;32m~/.local/lib/python3.8/site-packages/pandas/core/apply.py\u001b[0m in \u001b[0;36m_try_aggregate_string_function\u001b[0;34m(self, obj, arg, *args, **kwargs)\u001b[0m\n\u001b[1;32m    588\u001b[0m             \u001b[0;32mreturn\u001b[0m \u001b[0mf\u001b[0m\u001b[0;34m(\u001b[0m\u001b[0mobj\u001b[0m\u001b[0;34m,\u001b[0m \u001b[0;34m*\u001b[0m\u001b[0margs\u001b[0m\u001b[0;34m,\u001b[0m \u001b[0;34m**\u001b[0m\u001b[0mkwargs\u001b[0m\u001b[0;34m)\u001b[0m\u001b[0;34m\u001b[0m\u001b[0;34m\u001b[0m\u001b[0m\n\u001b[1;32m    589\u001b[0m \u001b[0;34m\u001b[0m\u001b[0m\n\u001b[0;32m--> 590\u001b[0;31m         raise AttributeError(\n\u001b[0m\u001b[1;32m    591\u001b[0m             \u001b[0;34mf\"'{arg}' is not a valid function for '{type(obj).__name__}' object\"\u001b[0m\u001b[0;34m\u001b[0m\u001b[0;34m\u001b[0m\u001b[0m\n\u001b[1;32m    592\u001b[0m         )\n",
      "\u001b[0;31mAttributeError\u001b[0m: 'range' is not a valid function for 'Series' object"
     ]
    }
   ],
   "source": [
    "scanners[0].df[['x','y']].agg(['min','max','range'])"
   ]
  },
  {
   "cell_type": "code",
   "execution_count": 27,
   "metadata": {},
   "outputs": [],
   "source": [
    "cmin = scanners[0].arr.min(axis=0)\n",
    "cmax =scanners[0].arr.max(axis=0)"
   ]
  },
  {
   "cell_type": "code",
   "execution_count": 28,
   "metadata": {},
   "outputs": [
    {
     "data": {
      "text/plain": [
       "array([4, 3])"
      ]
     },
     "execution_count": 28,
     "metadata": {},
     "output_type": "execute_result"
    }
   ],
   "source": [
    "cmax"
   ]
  },
  {
   "cell_type": "code",
   "execution_count": 30,
   "metadata": {},
   "outputs": [
    {
     "data": {
      "text/plain": [
       "array([4, 2])"
      ]
     },
     "execution_count": 30,
     "metadata": {},
     "output_type": "execute_result"
    }
   ],
   "source": [
    "cmax-cmin"
   ]
  },
  {
   "cell_type": "code",
   "execution_count": 31,
   "metadata": {},
   "outputs": [
    {
     "data": {
      "text/plain": [
       "array([0, 1])"
      ]
     },
     "execution_count": 31,
     "metadata": {},
     "output_type": "execute_result"
    }
   ],
   "source": [
    "cmin"
   ]
  },
  {
   "cell_type": "code",
   "execution_count": 34,
   "metadata": {},
   "outputs": [
    {
     "data": {
      "text/plain": [
       "array([1, 2])"
      ]
     },
     "execution_count": 34,
     "metadata": {},
     "output_type": "execute_result"
    }
   ],
   "source": [
    "np.arange(cmin[1], cmax[1])"
   ]
  },
  {
   "cell_type": "code",
   "execution_count": 33,
   "metadata": {},
   "outputs": [
    {
     "data": {
      "text/plain": [
       "array([[0., 0., 0., 0.],\n",
       "       [0., 0., 0., 0.],\n",
       "       [0., 0., 0., 0.],\n",
       "       [0., 0., 0., 0.],\n",
       "       [0., 0., 0., 0.]])"
      ]
     },
     "execution_count": 33,
     "metadata": {},
     "output_type": "execute_result"
    }
   ],
   "source": [
    "np.zeros(shape=(5,4))"
   ]
  },
  {
   "cell_type": "code",
   "execution_count": 36,
   "metadata": {},
   "outputs": [],
   "source": [
    "x,y = np.meshgrid(scanners[0].arr[:,0], scanners[0].arr[:,1])"
   ]
  },
  {
   "cell_type": "code",
   "execution_count": 42,
   "metadata": {},
   "outputs": [
    {
     "data": {
      "text/plain": [
       "array([0, 2])"
      ]
     },
     "execution_count": 42,
     "metadata": {},
     "output_type": "execute_result"
    }
   ],
   "source": [
    "scanners[0].arr[0,:]"
   ]
  },
  {
   "cell_type": "markdown",
   "metadata": {},
   "source": []
  }
 ],
 "metadata": {
  "interpreter": {
   "hash": "31f2aee4e71d21fbe5cf8b01ff0e069b9275f58929596ceb00d14d90e3e16cd6"
  },
  "kernelspec": {
   "display_name": "Python 3.8.10 64-bit",
   "language": "python",
   "name": "python3"
  },
  "language_info": {
   "codemirror_mode": {
    "name": "ipython",
    "version": 3
   },
   "file_extension": ".py",
   "mimetype": "text/x-python",
   "name": "python",
   "nbconvert_exporter": "python",
   "pygments_lexer": "ipython3",
   "version": "3.8.5"
  },
  "orig_nbformat": 4
 },
 "nbformat": 4,
 "nbformat_minor": 2
}
